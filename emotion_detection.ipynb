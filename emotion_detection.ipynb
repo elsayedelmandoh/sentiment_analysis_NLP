{
 "cells": [
  {
   "cell_type": "markdown",
   "id": "51a83742",
   "metadata": {
    "papermill": {
     "duration": 0.013269,
     "end_time": "2023-01-28T23:37:01.738532",
     "exception": false,
     "start_time": "2023-01-28T23:37:01.725263",
     "status": "completed"
    },
    "tags": []
   },
   "source": [
    "# *Part 1 - Data preprocessing*"
   ]
  },
  {
   "cell_type": "markdown",
   "id": "5ae46c28",
   "metadata": {
    "papermill": {
     "duration": 0.009087,
     "end_time": "2023-01-28T23:37:01.758011",
     "exception": false,
     "start_time": "2023-01-28T23:37:01.748924",
     "status": "completed"
    },
    "tags": []
   },
   "source": [
    "## The libraries"
   ]
  },
  {
   "cell_type": "code",
   "execution_count": null,
   "id": "e6c30bcb",
   "metadata": {
    "execution": {
     "iopub.execute_input": "2023-01-28T23:37:01.780278Z",
     "iopub.status.busy": "2023-01-28T23:37:01.779269Z",
     "iopub.status.idle": "2023-01-28T23:37:02.908394Z",
     "shell.execute_reply": "2023-01-28T23:37:02.907026Z"
    },
    "papermill": {
     "duration": 1.143857,
     "end_time": "2023-01-28T23:37:02.911656",
     "exception": false,
     "start_time": "2023-01-28T23:37:01.767799",
     "status": "completed"
    },
    "tags": []
   },
   "outputs": [],
   "source": [
    "import numpy as np\n",
    "import matplotlib.pyplot as plt\n",
    "import pandas as pd\n",
    "import seaborn as sns"
   ]
  },
  {
   "cell_type": "markdown",
   "id": "65c8e1b7",
   "metadata": {
    "papermill": {
     "duration": 0.008943,
     "end_time": "2023-01-28T23:37:02.930380",
     "exception": false,
     "start_time": "2023-01-28T23:37:02.921437",
     "status": "completed"
    },
    "tags": []
   },
   "source": [
    "## The dataset"
   ]
  },
  {
   "cell_type": "code",
   "execution_count": 2,
   "id": "65974b14",
   "metadata": {
    "execution": {
     "iopub.execute_input": "2023-01-28T23:37:02.951973Z",
     "iopub.status.busy": "2023-01-28T23:37:02.951591Z",
     "iopub.status.idle": "2023-01-28T23:37:03.020719Z",
     "shell.execute_reply": "2023-01-28T23:37:03.019557Z"
    },
    "papermill": {
     "duration": 0.082987,
     "end_time": "2023-01-28T23:37:03.023778",
     "exception": false,
     "start_time": "2023-01-28T23:37:02.940791",
     "status": "completed"
    },
    "tags": []
   },
   "outputs": [],
   "source": [
    "## training dataset\n",
    "dataset_train = pd.read_csv('/kaggle/input/emotions-analysis/EA-train.txt', delimiter=';', quoting=3) "
   ]
  },
  {
   "cell_type": "code",
   "execution_count": 3,
   "id": "12e19eac",
   "metadata": {
    "execution": {
     "iopub.execute_input": "2023-01-28T23:37:03.044955Z",
     "iopub.status.busy": "2023-01-28T23:37:03.043633Z",
     "iopub.status.idle": "2023-01-28T23:37:03.053353Z",
     "shell.execute_reply": "2023-01-28T23:37:03.052377Z"
    },
    "papermill": {
     "duration": 0.023052,
     "end_time": "2023-01-28T23:37:03.056111",
     "exception": false,
     "start_time": "2023-01-28T23:37:03.033059",
     "status": "completed"
    },
    "tags": []
   },
   "outputs": [
    {
     "data": {
      "text/plain": [
       "(15999, 2)"
      ]
     },
     "execution_count": 3,
     "metadata": {},
     "output_type": "execute_result"
    }
   ],
   "source": [
    "dataset_train.shape"
   ]
  },
  {
   "cell_type": "code",
   "execution_count": 4,
   "id": "d3fa39dd",
   "metadata": {
    "execution": {
     "iopub.execute_input": "2023-01-28T23:37:03.076908Z",
     "iopub.status.busy": "2023-01-28T23:37:03.076313Z",
     "iopub.status.idle": "2023-01-28T23:37:03.082486Z",
     "shell.execute_reply": "2023-01-28T23:37:03.081011Z"
    },
    "papermill": {
     "duration": 0.019592,
     "end_time": "2023-01-28T23:37:03.085278",
     "exception": false,
     "start_time": "2023-01-28T23:37:03.065686",
     "status": "completed"
    },
    "tags": []
   },
   "outputs": [],
   "source": [
    "dataset_train.columns = ['comment', 'emotion']  ## name the columns"
   ]
  },
  {
   "cell_type": "code",
   "execution_count": 5,
   "id": "3ba78138",
   "metadata": {
    "execution": {
     "iopub.execute_input": "2023-01-28T23:37:03.107546Z",
     "iopub.status.busy": "2023-01-28T23:37:03.107041Z",
     "iopub.status.idle": "2023-01-28T23:37:03.125289Z",
     "shell.execute_reply": "2023-01-28T23:37:03.124019Z"
    },
    "papermill": {
     "duration": 0.0323,
     "end_time": "2023-01-28T23:37:03.127872",
     "exception": false,
     "start_time": "2023-01-28T23:37:03.095572",
     "status": "completed"
    },
    "tags": []
   },
   "outputs": [],
   "source": [
    "## test dataset\n",
    "dataset_test = pd.read_csv('/kaggle/input/emotions-analysis/EA-test.txt', delimiter=';', quoting=3) "
   ]
  },
  {
   "cell_type": "code",
   "execution_count": 6,
   "id": "4851be58",
   "metadata": {
    "execution": {
     "iopub.execute_input": "2023-01-28T23:37:03.148781Z",
     "iopub.status.busy": "2023-01-28T23:37:03.148161Z",
     "iopub.status.idle": "2023-01-28T23:37:03.155689Z",
     "shell.execute_reply": "2023-01-28T23:37:03.154300Z"
    },
    "papermill": {
     "duration": 0.020632,
     "end_time": "2023-01-28T23:37:03.158153",
     "exception": false,
     "start_time": "2023-01-28T23:37:03.137521",
     "status": "completed"
    },
    "tags": []
   },
   "outputs": [
    {
     "data": {
      "text/plain": [
       "(1999, 2)"
      ]
     },
     "execution_count": 6,
     "metadata": {},
     "output_type": "execute_result"
    }
   ],
   "source": [
    "dataset_test.shape"
   ]
  },
  {
   "cell_type": "code",
   "execution_count": 7,
   "id": "12f216c6",
   "metadata": {
    "execution": {
     "iopub.execute_input": "2023-01-28T23:37:03.179514Z",
     "iopub.status.busy": "2023-01-28T23:37:03.179035Z",
     "iopub.status.idle": "2023-01-28T23:37:03.184897Z",
     "shell.execute_reply": "2023-01-28T23:37:03.183948Z"
    },
    "papermill": {
     "duration": 0.019148,
     "end_time": "2023-01-28T23:37:03.187104",
     "exception": false,
     "start_time": "2023-01-28T23:37:03.167956",
     "status": "completed"
    },
    "tags": []
   },
   "outputs": [],
   "source": [
    "dataset_test.columns = ['comment', 'emotion']  ## name the columns"
   ]
  },
  {
   "cell_type": "code",
   "execution_count": 8,
   "id": "1aca2e51",
   "metadata": {
    "execution": {
     "iopub.execute_input": "2023-01-28T23:37:03.208418Z",
     "iopub.status.busy": "2023-01-28T23:37:03.207998Z",
     "iopub.status.idle": "2023-01-28T23:37:03.227856Z",
     "shell.execute_reply": "2023-01-28T23:37:03.226389Z"
    },
    "papermill": {
     "duration": 0.033433,
     "end_time": "2023-01-28T23:37:03.230255",
     "exception": false,
     "start_time": "2023-01-28T23:37:03.196822",
     "status": "completed"
    },
    "tags": []
   },
   "outputs": [
    {
     "data": {
      "text/html": [
       "<div>\n",
       "<style scoped>\n",
       "    .dataframe tbody tr th:only-of-type {\n",
       "        vertical-align: middle;\n",
       "    }\n",
       "\n",
       "    .dataframe tbody tr th {\n",
       "        vertical-align: top;\n",
       "    }\n",
       "\n",
       "    .dataframe thead th {\n",
       "        text-align: right;\n",
       "    }\n",
       "</style>\n",
       "<table border=\"1\" class=\"dataframe\">\n",
       "  <thead>\n",
       "    <tr style=\"text-align: right;\">\n",
       "      <th></th>\n",
       "      <th>comment</th>\n",
       "      <th>emotion</th>\n",
       "    </tr>\n",
       "  </thead>\n",
       "  <tbody>\n",
       "    <tr>\n",
       "      <th>0</th>\n",
       "      <td>im updating my blog because i feel shitty</td>\n",
       "      <td>sadness</td>\n",
       "    </tr>\n",
       "    <tr>\n",
       "      <th>1</th>\n",
       "      <td>i never make her separate from me because i do...</td>\n",
       "      <td>sadness</td>\n",
       "    </tr>\n",
       "    <tr>\n",
       "      <th>2</th>\n",
       "      <td>i left with my bouquet of red and yellow tulip...</td>\n",
       "      <td>joy</td>\n",
       "    </tr>\n",
       "    <tr>\n",
       "      <th>3</th>\n",
       "      <td>i was feeling a little vain when i did this one</td>\n",
       "      <td>sadness</td>\n",
       "    </tr>\n",
       "    <tr>\n",
       "      <th>4</th>\n",
       "      <td>i cant walk into a shop anywhere where i do no...</td>\n",
       "      <td>fear</td>\n",
       "    </tr>\n",
       "    <tr>\n",
       "      <th>5</th>\n",
       "      <td>i felt anger when at the end of a telephone call</td>\n",
       "      <td>anger</td>\n",
       "    </tr>\n",
       "  </tbody>\n",
       "</table>\n",
       "</div>"
      ],
      "text/plain": [
       "                                             comment  emotion\n",
       "0          im updating my blog because i feel shitty  sadness\n",
       "1  i never make her separate from me because i do...  sadness\n",
       "2  i left with my bouquet of red and yellow tulip...      joy\n",
       "3    i was feeling a little vain when i did this one  sadness\n",
       "4  i cant walk into a shop anywhere where i do no...     fear\n",
       "5   i felt anger when at the end of a telephone call    anger"
      ]
     },
     "execution_count": 8,
     "metadata": {},
     "output_type": "execute_result"
    }
   ],
   "source": [
    "dataset_test.head(6)"
   ]
  },
  {
   "cell_type": "code",
   "execution_count": 9,
   "id": "77e2e9fe",
   "metadata": {
    "execution": {
     "iopub.execute_input": "2023-01-28T23:37:03.252005Z",
     "iopub.status.busy": "2023-01-28T23:37:03.251569Z",
     "iopub.status.idle": "2023-01-28T23:37:03.276859Z",
     "shell.execute_reply": "2023-01-28T23:37:03.275567Z"
    },
    "papermill": {
     "duration": 0.039571,
     "end_time": "2023-01-28T23:37:03.279800",
     "exception": false,
     "start_time": "2023-01-28T23:37:03.240229",
     "status": "completed"
    },
    "tags": []
   },
   "outputs": [],
   "source": [
    "dataset_train['emotion'] = dataset_train['emotion'].replace({'sadness':0, 'anger':1, 'love':2, 'surprise':3, 'fear':4, 'joy':5}).astype(int)\n",
    "dataset_test['emotion'] = dataset_test['emotion'].replace({'sadness':0, 'anger':1, 'love':2, 'surprise':3, 'fear':4, 'joy':5}).astype(int)"
   ]
  },
  {
   "cell_type": "markdown",
   "id": "42045e67",
   "metadata": {
    "papermill": {
     "duration": 0.009298,
     "end_time": "2023-01-28T23:37:03.298922",
     "exception": false,
     "start_time": "2023-01-28T23:37:03.289624",
     "status": "completed"
    },
    "tags": []
   },
   "source": [
    "## Missing data"
   ]
  },
  {
   "cell_type": "code",
   "execution_count": 10,
   "id": "f2f194ee",
   "metadata": {
    "execution": {
     "iopub.execute_input": "2023-01-28T23:37:03.319890Z",
     "iopub.status.busy": "2023-01-28T23:37:03.319458Z",
     "iopub.status.idle": "2023-01-28T23:37:03.329931Z",
     "shell.execute_reply": "2023-01-28T23:37:03.329026Z"
    },
    "papermill": {
     "duration": 0.023462,
     "end_time": "2023-01-28T23:37:03.332064",
     "exception": false,
     "start_time": "2023-01-28T23:37:03.308602",
     "status": "completed"
    },
    "tags": []
   },
   "outputs": [
    {
     "data": {
      "text/plain": [
       "Index([], dtype='object')"
      ]
     },
     "execution_count": 10,
     "metadata": {},
     "output_type": "execute_result"
    }
   ],
   "source": [
    "dataset_train.columns[dataset_train.isnull().sum() > 0]"
   ]
  },
  {
   "cell_type": "code",
   "execution_count": 11,
   "id": "afac0870",
   "metadata": {
    "execution": {
     "iopub.execute_input": "2023-01-28T23:37:03.354574Z",
     "iopub.status.busy": "2023-01-28T23:37:03.353829Z",
     "iopub.status.idle": "2023-01-28T23:37:03.363032Z",
     "shell.execute_reply": "2023-01-28T23:37:03.361662Z"
    },
    "papermill": {
     "duration": 0.02377,
     "end_time": "2023-01-28T23:37:03.365883",
     "exception": false,
     "start_time": "2023-01-28T23:37:03.342113",
     "status": "completed"
    },
    "tags": []
   },
   "outputs": [
    {
     "data": {
      "text/plain": [
       "Index([], dtype='object')"
      ]
     },
     "execution_count": 11,
     "metadata": {},
     "output_type": "execute_result"
    }
   ],
   "source": [
    "dataset_test.columns[dataset_test.isnull().sum() > 0]"
   ]
  },
  {
   "cell_type": "markdown",
   "id": "a6dc0306",
   "metadata": {
    "papermill": {
     "duration": 0.009996,
     "end_time": "2023-01-28T23:37:03.386281",
     "exception": false,
     "start_time": "2023-01-28T23:37:03.376285",
     "status": "completed"
    },
    "tags": []
   },
   "source": [
    "## Cleaning the text"
   ]
  },
  {
   "cell_type": "code",
   "execution_count": 12,
   "id": "2b3cfc16",
   "metadata": {
    "execution": {
     "iopub.execute_input": "2023-01-28T23:37:03.409700Z",
     "iopub.status.busy": "2023-01-28T23:37:03.408542Z",
     "iopub.status.idle": "2023-01-28T23:37:14.348161Z",
     "shell.execute_reply": "2023-01-28T23:37:14.346952Z"
    },
    "papermill": {
     "duration": 10.954406,
     "end_time": "2023-01-28T23:37:14.351057",
     "exception": false,
     "start_time": "2023-01-28T23:37:03.396651",
     "status": "completed"
    },
    "tags": []
   },
   "outputs": [
    {
     "name": "stderr",
     "output_type": "stream",
     "text": [
      "[nltk_data] Downloading package stopwords to /usr/share/nltk_data...\n",
      "[nltk_data]   Package stopwords is already up-to-date!\n"
     ]
    }
   ],
   "source": [
    "## cleaning the training text\n",
    "import re\n",
    "import nltk \n",
    "nltk.download('stopwords')  ## stop words that are not necessary for predictions\n",
    "from nltk.corpus import stopwords\n",
    "from nltk.stem.porter import PorterStemmer  ## used to apply steming on the text\n",
    "corpus_tra = []  ## list to include the cleaned text in.\n",
    "for i in range(0,15999): ## 15999: number of lines \n",
    "  review = re.sub('[^a-zA-z]', ' ', dataset_train['comment'][i]) ## substitute everything in the text that is not a letter by space, dataset['col1']: name of the col includes the text\n",
    "  review = review.lower()  ## all the the text in lower case.\n",
    "  review = review.split() ## split the text into words\n",
    "  ps = PorterStemmer()  ## object of the stemmer\n",
    "  all_stopwords = stopwords.words('english')\n",
    "  all_stopwords.remove('not')  ## remove (not) from stopwords\n",
    "  review = [ ps.stem(word) for word in review if not word in set(all_stopwords) ]  ## remove all stopwords from the text\n",
    "  review = ' '.join(review) ## join the words seperated by spaces\n",
    "  corpus_tra.append(review)"
   ]
  },
  {
   "cell_type": "code",
   "execution_count": 13,
   "id": "a48caccb",
   "metadata": {
    "execution": {
     "iopub.execute_input": "2023-01-28T23:37:14.374164Z",
     "iopub.status.busy": "2023-01-28T23:37:14.373132Z",
     "iopub.status.idle": "2023-01-28T23:37:14.380272Z",
     "shell.execute_reply": "2023-01-28T23:37:14.379095Z"
    },
    "papermill": {
     "duration": 0.021324,
     "end_time": "2023-01-28T23:37:14.382660",
     "exception": false,
     "start_time": "2023-01-28T23:37:14.361336",
     "status": "completed"
    },
    "tags": []
   },
   "outputs": [
    {
     "data": {
      "text/plain": [
       "'go feel hopeless damn hope around someon care awak'"
      ]
     },
     "execution_count": 13,
     "metadata": {},
     "output_type": "execute_result"
    }
   ],
   "source": [
    "corpus_tra[0]"
   ]
  },
  {
   "cell_type": "code",
   "execution_count": 14,
   "id": "69aed349",
   "metadata": {
    "execution": {
     "iopub.execute_input": "2023-01-28T23:37:14.405374Z",
     "iopub.status.busy": "2023-01-28T23:37:14.404569Z",
     "iopub.status.idle": "2023-01-28T23:37:15.613310Z",
     "shell.execute_reply": "2023-01-28T23:37:15.612242Z"
    },
    "papermill": {
     "duration": 1.223144,
     "end_time": "2023-01-28T23:37:15.616048",
     "exception": false,
     "start_time": "2023-01-28T23:37:14.392904",
     "status": "completed"
    },
    "tags": []
   },
   "outputs": [],
   "source": [
    "## cleaning the test text\n",
    "corpus_test = []  ## list to include the cleaned text in.\n",
    "for i in range(0,1999): ## 1999: number of lines \n",
    "  review = re.sub('[^a-zA-z]', ' ', dataset_test['comment'][i]) ## substitute everything in the text that is not a letter by space, dataset['col1']: name of the col includes the text\n",
    "  review = review.lower()  ## all the the text in lower case.\n",
    "  review = review.split() ## split the text into words\n",
    "  ps = PorterStemmer()  ## object of the stemmer\n",
    "  all_stopwords = stopwords.words('english')\n",
    "  all_stopwords.remove('not')  ## remove (not) from stopwords\n",
    "  review = [ ps.stem(word) for word in review if not word in set(all_stopwords) ]  ## remove all stopwords from the text\n",
    "  review = ' '.join(review) ## join the words seperated by spaces\n",
    "  corpus_test.append(review)"
   ]
  },
  {
   "cell_type": "code",
   "execution_count": 15,
   "id": "636a27e7",
   "metadata": {
    "execution": {
     "iopub.execute_input": "2023-01-28T23:37:15.638955Z",
     "iopub.status.busy": "2023-01-28T23:37:15.638523Z",
     "iopub.status.idle": "2023-01-28T23:37:15.644673Z",
     "shell.execute_reply": "2023-01-28T23:37:15.643706Z"
    },
    "papermill": {
     "duration": 0.020349,
     "end_time": "2023-01-28T23:37:15.646739",
     "exception": false,
     "start_time": "2023-01-28T23:37:15.626390",
     "status": "completed"
    },
    "tags": []
   },
   "outputs": [
    {
     "data": {
      "text/plain": [
       "'im updat blog feel shitti'"
      ]
     },
     "execution_count": 15,
     "metadata": {},
     "output_type": "execute_result"
    }
   ],
   "source": [
    "corpus_test[0]"
   ]
  },
  {
   "cell_type": "markdown",
   "id": "4cdaccc3",
   "metadata": {
    "papermill": {
     "duration": 0.009928,
     "end_time": "2023-01-28T23:37:15.667087",
     "exception": false,
     "start_time": "2023-01-28T23:37:15.657159",
     "status": "completed"
    },
    "tags": []
   },
   "source": [
    "## Creating the bag of words"
   ]
  },
  {
   "cell_type": "code",
   "execution_count": 16,
   "id": "55f0cef0",
   "metadata": {
    "execution": {
     "iopub.execute_input": "2023-01-28T23:37:15.689729Z",
     "iopub.status.busy": "2023-01-28T23:37:15.689016Z",
     "iopub.status.idle": "2023-01-28T23:37:16.316203Z",
     "shell.execute_reply": "2023-01-28T23:37:16.314937Z"
    },
    "papermill": {
     "duration": 0.641824,
     "end_time": "2023-01-28T23:37:16.319208",
     "exception": false,
     "start_time": "2023-01-28T23:37:15.677384",
     "status": "completed"
    },
    "tags": []
   },
   "outputs": [],
   "source": [
    "from sklearn.feature_extraction.text import CountVectorizer\n",
    "cv = CountVectorizer()  ## vector for each sentence\n",
    "X_train = cv.fit_transform(corpus_tra).toarray()  ## text stored in array\n",
    "y_train = dataset_train.iloc[:,-1].values\n",
    "X_test = cv.transform(corpus_test).toarray()  ## text stored in array\n",
    "y_test = dataset_test.iloc[:,-1].values"
   ]
  },
  {
   "cell_type": "code",
   "execution_count": 17,
   "id": "b3cebcaf",
   "metadata": {
    "execution": {
     "iopub.execute_input": "2023-01-28T23:37:16.341707Z",
     "iopub.status.busy": "2023-01-28T23:37:16.341237Z",
     "iopub.status.idle": "2023-01-28T23:37:16.349003Z",
     "shell.execute_reply": "2023-01-28T23:37:16.347882Z"
    },
    "papermill": {
     "duration": 0.021785,
     "end_time": "2023-01-28T23:37:16.351451",
     "exception": false,
     "start_time": "2023-01-28T23:37:16.329666",
     "status": "completed"
    },
    "tags": []
   },
   "outputs": [
    {
     "data": {
      "text/plain": [
       "(array([0, 1, 2, ..., 5, 1, 0]), array([0, 0, 5, ..., 5, 5, 4]))"
      ]
     },
     "execution_count": 17,
     "metadata": {},
     "output_type": "execute_result"
    }
   ],
   "source": [
    "y_train, y_test"
   ]
  },
  {
   "cell_type": "code",
   "execution_count": 18,
   "id": "71485774",
   "metadata": {
    "execution": {
     "iopub.execute_input": "2023-01-28T23:37:16.374837Z",
     "iopub.status.busy": "2023-01-28T23:37:16.374314Z",
     "iopub.status.idle": "2023-01-28T23:37:16.382938Z",
     "shell.execute_reply": "2023-01-28T23:37:16.381907Z"
    },
    "papermill": {
     "duration": 0.023324,
     "end_time": "2023-01-28T23:37:16.385330",
     "exception": false,
     "start_time": "2023-01-28T23:37:16.362006",
     "status": "completed"
    },
    "tags": []
   },
   "outputs": [
    {
     "data": {
      "text/plain": [
       "(array([[0, 0, 0, ..., 0, 0, 0],\n",
       "        [0, 0, 0, ..., 0, 0, 0],\n",
       "        [0, 0, 0, ..., 0, 0, 0],\n",
       "        ...,\n",
       "        [0, 0, 0, ..., 0, 0, 0],\n",
       "        [0, 0, 0, ..., 0, 0, 0],\n",
       "        [0, 0, 0, ..., 0, 0, 0]]),\n",
       " array([[0, 0, 0, ..., 0, 0, 0],\n",
       "        [0, 0, 0, ..., 0, 0, 0],\n",
       "        [0, 0, 0, ..., 0, 0, 0],\n",
       "        ...,\n",
       "        [0, 0, 0, ..., 0, 0, 0],\n",
       "        [0, 0, 0, ..., 0, 0, 0],\n",
       "        [0, 0, 0, ..., 0, 0, 0]]))"
      ]
     },
     "execution_count": 18,
     "metadata": {},
     "output_type": "execute_result"
    }
   ],
   "source": [
    "X_train, X_test"
   ]
  },
  {
   "cell_type": "markdown",
   "id": "4b3577f1",
   "metadata": {
    "papermill": {
     "duration": 0.01003,
     "end_time": "2023-01-28T23:37:16.405924",
     "exception": false,
     "start_time": "2023-01-28T23:37:16.395894",
     "status": "completed"
    },
    "tags": []
   },
   "source": [
    "# *Part 2 - The machine learning models*"
   ]
  },
  {
   "cell_type": "markdown",
   "id": "4e6d5813",
   "metadata": {
    "papermill": {
     "duration": 0.010092,
     "end_time": "2023-01-28T23:37:16.426553",
     "exception": false,
     "start_time": "2023-01-28T23:37:16.416461",
     "status": "completed"
    },
    "tags": []
   },
   "source": [
    "## Defining the models and hyperparameter tuning"
   ]
  },
  {
   "cell_type": "code",
   "execution_count": 19,
   "id": "cfb4fc2d",
   "metadata": {
    "execution": {
     "iopub.execute_input": "2023-01-28T23:37:16.449024Z",
     "iopub.status.busy": "2023-01-28T23:37:16.448616Z",
     "iopub.status.idle": "2023-01-28T23:37:16.453773Z",
     "shell.execute_reply": "2023-01-28T23:37:16.452597Z"
    },
    "papermill": {
     "duration": 0.019191,
     "end_time": "2023-01-28T23:37:16.456118",
     "exception": false,
     "start_time": "2023-01-28T23:37:16.436927",
     "status": "completed"
    },
    "tags": []
   },
   "outputs": [],
   "source": [
    "from scipy.stats import uniform, randint\n",
    "from sklearn.model_selection import RandomizedSearchCV ## used for tuning the models parameters"
   ]
  },
  {
   "cell_type": "markdown",
   "id": "d8a8d230",
   "metadata": {
    "papermill": {
     "duration": 0.010383,
     "end_time": "2023-01-28T23:37:16.477103",
     "exception": false,
     "start_time": "2023-01-28T23:37:16.466720",
     "status": "completed"
    },
    "tags": []
   },
   "source": [
    "### Decision tree model"
   ]
  },
  {
   "cell_type": "code",
   "execution_count": 20,
   "id": "0d73d864",
   "metadata": {
    "execution": {
     "iopub.execute_input": "2023-01-28T23:37:16.500143Z",
     "iopub.status.busy": "2023-01-28T23:37:16.499326Z",
     "iopub.status.idle": "2023-01-28T23:38:43.486930Z",
     "shell.execute_reply": "2023-01-28T23:38:43.485561Z"
    },
    "papermill": {
     "duration": 87.001901,
     "end_time": "2023-01-28T23:38:43.489496",
     "exception": false,
     "start_time": "2023-01-28T23:37:16.487595",
     "status": "completed"
    },
    "tags": []
   },
   "outputs": [
    {
     "name": "stdout",
     "output_type": "stream",
     "text": [
      "Fitting 5 folds for each of 20 candidates, totalling 100 fits\n",
      "[CV] END criterion=gini, max_depth=None, max_features=5, min_samples_leaf=7; total time=   1.3s\n",
      "[CV] END criterion=gini, max_depth=None, max_features=5, min_samples_leaf=7; total time=   0.8s\n",
      "[CV] END criterion=gini, max_depth=None, max_features=5, min_samples_leaf=7; total time=   0.8s\n",
      "[CV] END criterion=gini, max_depth=None, max_features=5, min_samples_leaf=7; total time=   0.8s\n",
      "[CV] END criterion=gini, max_depth=None, max_features=5, min_samples_leaf=7; total time=   0.8s\n",
      "[CV] END criterion=gini, max_depth=None, max_features=5, min_samples_leaf=5; total time=   0.7s\n",
      "[CV] END criterion=gini, max_depth=None, max_features=5, min_samples_leaf=5; total time=   0.7s\n",
      "[CV] END criterion=gini, max_depth=None, max_features=5, min_samples_leaf=5; total time=   0.8s\n",
      "[CV] END criterion=gini, max_depth=None, max_features=5, min_samples_leaf=5; total time=   0.8s\n",
      "[CV] END criterion=gini, max_depth=None, max_features=5, min_samples_leaf=5; total time=   0.8s\n",
      "[CV] END criterion=gini, max_depth=None, max_features=3, min_samples_leaf=7; total time=   0.8s\n",
      "[CV] END criterion=gini, max_depth=None, max_features=3, min_samples_leaf=7; total time=   0.8s\n",
      "[CV] END criterion=gini, max_depth=None, max_features=3, min_samples_leaf=7; total time=   0.8s\n",
      "[CV] END criterion=gini, max_depth=None, max_features=3, min_samples_leaf=7; total time=   0.8s\n",
      "[CV] END criterion=gini, max_depth=None, max_features=3, min_samples_leaf=7; total time=   0.8s\n",
      "[CV] END criterion=gini, max_depth=3, max_features=8, min_samples_leaf=5; total time=   0.8s\n",
      "[CV] END criterion=gini, max_depth=3, max_features=8, min_samples_leaf=5; total time=   0.8s\n",
      "[CV] END criterion=gini, max_depth=3, max_features=8, min_samples_leaf=5; total time=   0.8s\n",
      "[CV] END criterion=gini, max_depth=3, max_features=8, min_samples_leaf=5; total time=   0.8s\n",
      "[CV] END criterion=gini, max_depth=3, max_features=8, min_samples_leaf=5; total time=   0.8s\n",
      "[CV] END criterion=entropy, max_depth=None, max_features=8, min_samples_leaf=3; total time=   0.8s\n",
      "[CV] END criterion=entropy, max_depth=None, max_features=8, min_samples_leaf=3; total time=   0.8s\n",
      "[CV] END criterion=entropy, max_depth=None, max_features=8, min_samples_leaf=3; total time=   0.8s\n",
      "[CV] END criterion=entropy, max_depth=None, max_features=8, min_samples_leaf=3; total time=   0.8s\n",
      "[CV] END criterion=entropy, max_depth=None, max_features=8, min_samples_leaf=3; total time=   0.8s\n",
      "[CV] END criterion=entropy, max_depth=3, max_features=2, min_samples_leaf=8; total time=   0.7s\n",
      "[CV] END criterion=entropy, max_depth=3, max_features=2, min_samples_leaf=8; total time=   0.8s\n",
      "[CV] END criterion=entropy, max_depth=3, max_features=2, min_samples_leaf=8; total time=   0.8s\n",
      "[CV] END criterion=entropy, max_depth=3, max_features=2, min_samples_leaf=8; total time=   0.8s\n",
      "[CV] END criterion=entropy, max_depth=3, max_features=2, min_samples_leaf=8; total time=   0.8s\n",
      "[CV] END criterion=entropy, max_depth=None, max_features=6, min_samples_leaf=2; total time=   0.8s\n",
      "[CV] END criterion=entropy, max_depth=None, max_features=6, min_samples_leaf=2; total time=   0.8s\n",
      "[CV] END criterion=entropy, max_depth=None, max_features=6, min_samples_leaf=2; total time=   0.8s\n",
      "[CV] END criterion=entropy, max_depth=None, max_features=6, min_samples_leaf=2; total time=   0.8s\n",
      "[CV] END criterion=entropy, max_depth=None, max_features=6, min_samples_leaf=2; total time=   0.8s\n",
      "[CV] END criterion=entropy, max_depth=None, max_features=5, min_samples_leaf=1; total time=   1.5s\n",
      "[CV] END criterion=entropy, max_depth=None, max_features=5, min_samples_leaf=1; total time=   1.5s\n",
      "[CV] END criterion=entropy, max_depth=None, max_features=5, min_samples_leaf=1; total time=   1.5s\n",
      "[CV] END criterion=entropy, max_depth=None, max_features=5, min_samples_leaf=1; total time=   1.5s\n",
      "[CV] END criterion=entropy, max_depth=None, max_features=5, min_samples_leaf=1; total time=   1.5s\n",
      "[CV] END criterion=entropy, max_depth=None, max_features=6, min_samples_leaf=5; total time=   0.8s\n",
      "[CV] END criterion=entropy, max_depth=None, max_features=6, min_samples_leaf=5; total time=   0.8s\n",
      "[CV] END criterion=entropy, max_depth=None, max_features=6, min_samples_leaf=5; total time=   0.8s\n",
      "[CV] END criterion=entropy, max_depth=None, max_features=6, min_samples_leaf=5; total time=   0.8s\n",
      "[CV] END criterion=entropy, max_depth=None, max_features=6, min_samples_leaf=5; total time=   0.8s\n",
      "[CV] END criterion=entropy, max_depth=3, max_features=1, min_samples_leaf=3; total time=   0.8s\n",
      "[CV] END criterion=entropy, max_depth=3, max_features=1, min_samples_leaf=3; total time=   0.8s\n",
      "[CV] END criterion=entropy, max_depth=3, max_features=1, min_samples_leaf=3; total time=   0.8s\n",
      "[CV] END criterion=entropy, max_depth=3, max_features=1, min_samples_leaf=3; total time=   0.8s\n",
      "[CV] END criterion=entropy, max_depth=3, max_features=1, min_samples_leaf=3; total time=   0.8s\n",
      "[CV] END criterion=gini, max_depth=3, max_features=2, min_samples_leaf=8; total time=   0.8s\n",
      "[CV] END criterion=gini, max_depth=3, max_features=2, min_samples_leaf=8; total time=   0.8s\n",
      "[CV] END criterion=gini, max_depth=3, max_features=2, min_samples_leaf=8; total time=   0.7s\n",
      "[CV] END criterion=gini, max_depth=3, max_features=2, min_samples_leaf=8; total time=   0.8s\n",
      "[CV] END criterion=gini, max_depth=3, max_features=2, min_samples_leaf=8; total time=   0.8s\n",
      "[CV] END criterion=entropy, max_depth=None, max_features=8, min_samples_leaf=7; total time=   0.8s\n",
      "[CV] END criterion=entropy, max_depth=None, max_features=8, min_samples_leaf=7; total time=   0.8s\n",
      "[CV] END criterion=entropy, max_depth=None, max_features=8, min_samples_leaf=7; total time=   0.8s\n",
      "[CV] END criterion=entropy, max_depth=None, max_features=8, min_samples_leaf=7; total time=   0.8s\n",
      "[CV] END criterion=entropy, max_depth=None, max_features=8, min_samples_leaf=7; total time=   0.8s\n",
      "[CV] END criterion=entropy, max_depth=None, max_features=7, min_samples_leaf=6; total time=   0.8s\n",
      "[CV] END criterion=entropy, max_depth=None, max_features=7, min_samples_leaf=6; total time=   0.8s\n",
      "[CV] END criterion=entropy, max_depth=None, max_features=7, min_samples_leaf=6; total time=   0.8s\n",
      "[CV] END criterion=entropy, max_depth=None, max_features=7, min_samples_leaf=6; total time=   0.8s\n",
      "[CV] END criterion=entropy, max_depth=None, max_features=7, min_samples_leaf=6; total time=   0.8s\n",
      "[CV] END criterion=gini, max_depth=None, max_features=7, min_samples_leaf=4; total time=   0.8s\n",
      "[CV] END criterion=gini, max_depth=None, max_features=7, min_samples_leaf=4; total time=   0.8s\n",
      "[CV] END criterion=gini, max_depth=None, max_features=7, min_samples_leaf=4; total time=   0.8s\n",
      "[CV] END criterion=gini, max_depth=None, max_features=7, min_samples_leaf=4; total time=   0.8s\n",
      "[CV] END criterion=gini, max_depth=None, max_features=7, min_samples_leaf=4; total time=   0.8s\n",
      "[CV] END criterion=entropy, max_depth=3, max_features=3, min_samples_leaf=5; total time=   0.8s\n",
      "[CV] END criterion=entropy, max_depth=3, max_features=3, min_samples_leaf=5; total time=   0.8s\n",
      "[CV] END criterion=entropy, max_depth=3, max_features=3, min_samples_leaf=5; total time=   0.8s\n",
      "[CV] END criterion=entropy, max_depth=3, max_features=3, min_samples_leaf=5; total time=   0.7s\n",
      "[CV] END criterion=entropy, max_depth=3, max_features=3, min_samples_leaf=5; total time=   0.8s\n",
      "[CV] END criterion=gini, max_depth=3, max_features=5, min_samples_leaf=1; total time=   0.7s\n",
      "[CV] END criterion=gini, max_depth=3, max_features=5, min_samples_leaf=1; total time=   0.8s\n",
      "[CV] END criterion=gini, max_depth=3, max_features=5, min_samples_leaf=1; total time=   0.8s\n",
      "[CV] END criterion=gini, max_depth=3, max_features=5, min_samples_leaf=1; total time=   0.7s\n",
      "[CV] END criterion=gini, max_depth=3, max_features=5, min_samples_leaf=1; total time=   0.8s\n",
      "[CV] END criterion=gini, max_depth=None, max_features=4, min_samples_leaf=1; total time=   1.6s\n",
      "[CV] END criterion=gini, max_depth=None, max_features=4, min_samples_leaf=1; total time=   1.6s\n",
      "[CV] END criterion=gini, max_depth=None, max_features=4, min_samples_leaf=1; total time=   1.6s\n",
      "[CV] END criterion=gini, max_depth=None, max_features=4, min_samples_leaf=1; total time=   1.6s\n",
      "[CV] END criterion=gini, max_depth=None, max_features=4, min_samples_leaf=1; total time=   1.6s\n",
      "[CV] END criterion=entropy, max_depth=None, max_features=2, min_samples_leaf=2; total time=   0.8s\n",
      "[CV] END criterion=entropy, max_depth=None, max_features=2, min_samples_leaf=2; total time=   0.8s\n",
      "[CV] END criterion=entropy, max_depth=None, max_features=2, min_samples_leaf=2; total time=   0.8s\n",
      "[CV] END criterion=entropy, max_depth=None, max_features=2, min_samples_leaf=2; total time=   0.8s\n",
      "[CV] END criterion=entropy, max_depth=None, max_features=2, min_samples_leaf=2; total time=   0.8s\n",
      "[CV] END criterion=gini, max_depth=None, max_features=5, min_samples_leaf=2; total time=   0.7s\n",
      "[CV] END criterion=gini, max_depth=None, max_features=5, min_samples_leaf=2; total time=   0.8s\n",
      "[CV] END criterion=gini, max_depth=None, max_features=5, min_samples_leaf=2; total time=   0.8s\n",
      "[CV] END criterion=gini, max_depth=None, max_features=5, min_samples_leaf=2; total time=   0.8s\n",
      "[CV] END criterion=gini, max_depth=None, max_features=5, min_samples_leaf=2; total time=   0.8s\n",
      "[CV] END criterion=entropy, max_depth=None, max_features=7, min_samples_leaf=4; total time=   0.8s\n",
      "[CV] END criterion=entropy, max_depth=None, max_features=7, min_samples_leaf=4; total time=   0.8s\n",
      "[CV] END criterion=entropy, max_depth=None, max_features=7, min_samples_leaf=4; total time=   0.8s\n",
      "[CV] END criterion=entropy, max_depth=None, max_features=7, min_samples_leaf=4; total time=   0.8s\n",
      "[CV] END criterion=entropy, max_depth=None, max_features=7, min_samples_leaf=4; total time=   0.8s\n",
      "Tuned Decision Tree Parameters: {'criterion': 'gini', 'max_depth': None, 'max_features': 4, 'min_samples_leaf': 1}\n",
      "Best score is 0.48290438418255704\n"
     ]
    }
   ],
   "source": [
    "from sklearn.tree import DecisionTreeClassifier\n",
    "dt = DecisionTreeClassifier(random_state = 0)\n",
    "\n",
    "## range for the parameters used in the model\n",
    "param_grid = {\"max_depth\": [3, None],\n",
    "              \"max_features\": randint(1, 9),\n",
    "              \"min_samples_leaf\": randint(1, 9),\n",
    "              \"criterion\": [\"gini\", \"entropy\"]} \n",
    " \n",
    "# Instantiating RandomizedSearchCV object\n",
    "dt_cv = RandomizedSearchCV(dt, param_grid, n_iter = 20, cv = 5, verbose=2, random_state=42, n_jobs = 1)  ## cv: number of random samples taken\n",
    " \n",
    "dt_cv.fit(X_train, y_train)\n",
    " \n",
    "# Print the best tuned parameters and score\n",
    "print(\"Tuned Decision Tree Parameters: {}\".format(dt_cv.best_params_))\n",
    "print(\"Best score is {}\".format(dt_cv.best_score_))"
   ]
  },
  {
   "cell_type": "code",
   "execution_count": 21,
   "id": "f86d42bb",
   "metadata": {
    "execution": {
     "iopub.execute_input": "2023-01-28T23:38:43.524386Z",
     "iopub.status.busy": "2023-01-28T23:38:43.523977Z",
     "iopub.status.idle": "2023-01-28T23:38:43.529987Z",
     "shell.execute_reply": "2023-01-28T23:38:43.528753Z"
    },
    "papermill": {
     "duration": 0.025985,
     "end_time": "2023-01-28T23:38:43.532168",
     "exception": false,
     "start_time": "2023-01-28T23:38:43.506183",
     "status": "completed"
    },
    "tags": []
   },
   "outputs": [],
   "source": [
    "dt = DecisionTreeClassifier(criterion= 'gini', max_depth= None, max_features= 4, min_samples_leaf= 1)"
   ]
  },
  {
   "cell_type": "markdown",
   "id": "530dd52f",
   "metadata": {
    "papermill": {
     "duration": 0.016613,
     "end_time": "2023-01-28T23:38:43.565341",
     "exception": false,
     "start_time": "2023-01-28T23:38:43.548728",
     "status": "completed"
    },
    "tags": []
   },
   "source": [
    "### Naive Bayes"
   ]
  },
  {
   "cell_type": "code",
   "execution_count": 22,
   "id": "bcc57c40",
   "metadata": {
    "execution": {
     "iopub.execute_input": "2023-01-28T23:38:43.601306Z",
     "iopub.status.busy": "2023-01-28T23:38:43.600843Z",
     "iopub.status.idle": "2023-01-28T23:43:27.741305Z",
     "shell.execute_reply": "2023-01-28T23:43:27.739256Z"
    },
    "papermill": {
     "duration": 284.162932,
     "end_time": "2023-01-28T23:43:27.744867",
     "exception": false,
     "start_time": "2023-01-28T23:38:43.581935",
     "status": "completed"
    },
    "tags": []
   },
   "outputs": [
    {
     "name": "stdout",
     "output_type": "stream",
     "text": [
      "Fitting 5 folds for each of 10 candidates, totalling 50 fits\n"
     ]
    },
    {
     "name": "stderr",
     "output_type": "stream",
     "text": [
      "/opt/conda/lib/python3.7/site-packages/sklearn/model_selection/_search.py:296: UserWarning: The total space of parameters 10 is smaller than n_iter=20. Running 10 iterations. For exhaustive searches, use GridSearchCV.\n",
      "  UserWarning,\n"
     ]
    },
    {
     "name": "stdout",
     "output_type": "stream",
     "text": [
      "[CV] END .........................................alpha=0.05; total time=   5.2s\n",
      "[CV] END .........................................alpha=0.05; total time=   5.2s\n",
      "[CV] END .........................................alpha=0.05; total time=   5.3s\n",
      "[CV] END .........................................alpha=0.05; total time=   5.4s\n",
      "[CV] END .........................................alpha=0.05; total time=   5.4s\n",
      "[CV] END ..........................................alpha=0.1; total time=   5.3s\n",
      "[CV] END ..........................................alpha=0.1; total time=   5.3s\n",
      "[CV] END ..........................................alpha=0.1; total time=   5.3s\n",
      "[CV] END ..........................................alpha=0.1; total time=   5.3s\n",
      "[CV] END ..........................................alpha=0.1; total time=   5.4s\n",
      "[CV] END .........................................alpha=0.15; total time=   5.3s\n",
      "[CV] END .........................................alpha=0.15; total time=   5.3s\n",
      "[CV] END .........................................alpha=0.15; total time=   5.3s\n",
      "[CV] END .........................................alpha=0.15; total time=   5.3s\n",
      "[CV] END .........................................alpha=0.15; total time=   5.4s\n",
      "[CV] END ..........................................alpha=0.2; total time=   5.3s\n",
      "[CV] END ..........................................alpha=0.2; total time=   5.3s\n",
      "[CV] END ..........................................alpha=0.2; total time=   5.3s\n",
      "[CV] END ..........................................alpha=0.2; total time=   5.3s\n",
      "[CV] END ..........................................alpha=0.2; total time=   5.2s\n",
      "[CV] END .........................................alpha=0.25; total time=   5.3s\n",
      "[CV] END .........................................alpha=0.25; total time=   5.4s\n",
      "[CV] END .........................................alpha=0.25; total time=   5.3s\n",
      "[CV] END .........................................alpha=0.25; total time=   5.3s\n",
      "[CV] END .........................................alpha=0.25; total time=   5.3s\n",
      "[CV] END ..........................................alpha=0.3; total time=   5.4s\n",
      "[CV] END ..........................................alpha=0.3; total time=   5.3s\n",
      "[CV] END ..........................................alpha=0.3; total time=   5.3s\n",
      "[CV] END ..........................................alpha=0.3; total time=   5.3s\n",
      "[CV] END ..........................................alpha=0.3; total time=   5.2s\n",
      "[CV] END .........................................alpha=0.35; total time=   5.3s\n",
      "[CV] END .........................................alpha=0.35; total time=   5.3s\n",
      "[CV] END .........................................alpha=0.35; total time=   5.3s\n",
      "[CV] END .........................................alpha=0.35; total time=   5.3s\n",
      "[CV] END .........................................alpha=0.35; total time=   5.3s\n",
      "[CV] END ..........................................alpha=0.4; total time=   5.3s\n",
      "[CV] END ..........................................alpha=0.4; total time=   5.3s\n",
      "[CV] END ..........................................alpha=0.4; total time=   5.3s\n",
      "[CV] END ..........................................alpha=0.4; total time=   5.3s\n",
      "[CV] END ..........................................alpha=0.4; total time=   5.3s\n",
      "[CV] END .........................................alpha=0.45; total time=   5.3s\n",
      "[CV] END .........................................alpha=0.45; total time=   5.3s\n",
      "[CV] END .........................................alpha=0.45; total time=   5.3s\n",
      "[CV] END .........................................alpha=0.45; total time=   5.3s\n",
      "[CV] END .........................................alpha=0.45; total time=   5.5s\n",
      "[CV] END ..........................................alpha=0.5; total time=   5.3s\n",
      "[CV] END ..........................................alpha=0.5; total time=   5.3s\n",
      "[CV] END ..........................................alpha=0.5; total time=   5.3s\n",
      "[CV] END ..........................................alpha=0.5; total time=   5.3s\n",
      "[CV] END ..........................................alpha=0.5; total time=   5.3s\n",
      "Tuned Decision Tree Parameters: {'alpha': 0.4}\n",
      "Best score is 0.7785488629259144\n"
     ]
    }
   ],
   "source": [
    "from sklearn.naive_bayes import MultinomialNB\n",
    "nb = MultinomialNB()\n",
    "param_grid = {\"alpha\": [0.05, 0.1, 0.15, 0.2, 0.25, 0.3, 0.35, 0.4, 0.45, 0.5]} \n",
    "\n",
    "# Instantiating RandomizedSearchCV object\n",
    "nb_cv = RandomizedSearchCV(nb, param_grid, n_iter = 20, cv = 5, verbose=2, random_state=42, n_jobs = 1)  ## cv: number of random samples taken\n",
    " \n",
    "nb_cv.fit(X_train, y_train)\n",
    " \n",
    "# Print the best tuned parameters and score\n",
    "print(\"Tuned Decision Tree Parameters: {}\".format(nb_cv.best_params_))\n",
    "print(\"Best score is {}\".format(nb_cv.best_score_))"
   ]
  },
  {
   "cell_type": "code",
   "execution_count": 23,
   "id": "906f87bc",
   "metadata": {
    "execution": {
     "iopub.execute_input": "2023-01-28T23:43:27.787614Z",
     "iopub.status.busy": "2023-01-28T23:43:27.786778Z",
     "iopub.status.idle": "2023-01-28T23:43:27.792012Z",
     "shell.execute_reply": "2023-01-28T23:43:27.791115Z"
    },
    "papermill": {
     "duration": 0.028729,
     "end_time": "2023-01-28T23:43:27.794392",
     "exception": false,
     "start_time": "2023-01-28T23:43:27.765663",
     "status": "completed"
    },
    "tags": []
   },
   "outputs": [],
   "source": [
    "nb = MultinomialNB(alpha=0.4)"
   ]
  },
  {
   "cell_type": "markdown",
   "id": "46eeb285",
   "metadata": {
    "papermill": {
     "duration": 0.019261,
     "end_time": "2023-01-28T23:43:27.833309",
     "exception": false,
     "start_time": "2023-01-28T23:43:27.814048",
     "status": "completed"
    },
    "tags": []
   },
   "source": [
    "# *Part 3 - Training and testing the models*"
   ]
  },
  {
   "cell_type": "markdown",
   "id": "c6096b98",
   "metadata": {
    "papermill": {
     "duration": 0.019365,
     "end_time": "2023-01-28T23:43:27.872613",
     "exception": false,
     "start_time": "2023-01-28T23:43:27.853248",
     "status": "completed"
    },
    "tags": []
   },
   "source": [
    "## Train the models"
   ]
  },
  {
   "cell_type": "code",
   "execution_count": 24,
   "id": "9ee13ddc",
   "metadata": {
    "execution": {
     "iopub.execute_input": "2023-01-28T23:43:27.914231Z",
     "iopub.status.busy": "2023-01-28T23:43:27.913435Z",
     "iopub.status.idle": "2023-01-28T23:43:45.948647Z",
     "shell.execute_reply": "2023-01-28T23:43:45.947849Z"
    },
    "papermill": {
     "duration": 18.05887,
     "end_time": "2023-01-28T23:43:45.951512",
     "exception": false,
     "start_time": "2023-01-28T23:43:27.892642",
     "status": "completed"
    },
    "tags": []
   },
   "outputs": [
    {
     "data": {
      "text/plain": [
       "MultinomialNB(alpha=0.4)"
      ]
     },
     "execution_count": 24,
     "metadata": {},
     "output_type": "execute_result"
    }
   ],
   "source": [
    "nb.fit(X_train,y_train)"
   ]
  },
  {
   "cell_type": "markdown",
   "id": "09d9a93d",
   "metadata": {
    "papermill": {
     "duration": 0.019145,
     "end_time": "2023-01-28T23:43:45.995407",
     "exception": false,
     "start_time": "2023-01-28T23:43:45.976262",
     "status": "completed"
    },
    "tags": []
   },
   "source": [
    "## Testing the models"
   ]
  },
  {
   "cell_type": "code",
   "execution_count": 25,
   "id": "f89e5cdf",
   "metadata": {
    "execution": {
     "iopub.execute_input": "2023-01-28T23:43:46.036542Z",
     "iopub.status.busy": "2023-01-28T23:43:46.036103Z",
     "iopub.status.idle": "2023-01-28T23:43:46.203227Z",
     "shell.execute_reply": "2023-01-28T23:43:46.201964Z"
    },
    "papermill": {
     "duration": 0.192467,
     "end_time": "2023-01-28T23:43:46.207417",
     "exception": false,
     "start_time": "2023-01-28T23:43:46.014950",
     "status": "completed"
    },
    "tags": []
   },
   "outputs": [],
   "source": [
    "y_pred = nb.predict(X_test)"
   ]
  },
  {
   "cell_type": "code",
   "execution_count": 26,
   "id": "859bfbad",
   "metadata": {
    "execution": {
     "iopub.execute_input": "2023-01-28T23:43:46.314301Z",
     "iopub.status.busy": "2023-01-28T23:43:46.312983Z",
     "iopub.status.idle": "2023-01-28T23:43:46.322034Z",
     "shell.execute_reply": "2023-01-28T23:43:46.320812Z"
    },
    "papermill": {
     "duration": 0.065422,
     "end_time": "2023-01-28T23:43:46.324835",
     "exception": false,
     "start_time": "2023-01-28T23:43:46.259413",
     "status": "completed"
    },
    "tags": []
   },
   "outputs": [
    {
     "name": "stdout",
     "output_type": "stream",
     "text": [
      "[[0 0]\n",
      " [0 0]\n",
      " [5 5]\n",
      " ...\n",
      " [5 5]\n",
      " [5 5]\n",
      " [4 4]]\n"
     ]
    }
   ],
   "source": [
    "print(np.concatenate((y_pred.reshape(len(y_pred),1), y_test.reshape(len(y_test),1)),1))"
   ]
  },
  {
   "cell_type": "code",
   "execution_count": 27,
   "id": "b5c68d10",
   "metadata": {
    "execution": {
     "iopub.execute_input": "2023-01-28T23:43:46.373909Z",
     "iopub.status.busy": "2023-01-28T23:43:46.372843Z",
     "iopub.status.idle": "2023-01-28T23:43:46.381172Z",
     "shell.execute_reply": "2023-01-28T23:43:46.379581Z"
    },
    "papermill": {
     "duration": 0.032552,
     "end_time": "2023-01-28T23:43:46.383689",
     "exception": false,
     "start_time": "2023-01-28T23:43:46.351137",
     "status": "completed"
    },
    "tags": []
   },
   "outputs": [
    {
     "name": "stdout",
     "output_type": "stream",
     "text": [
      "[[516  15   6   2  10  31]\n",
      " [ 42 193   1   2  16  21]\n",
      " [ 20   7  68   1   1  62]\n",
      " [ 10   1   0  16  16  23]\n",
      " [ 37  10   3   2 153  19]\n",
      " [ 26  13  20   2  11 623]]\n"
     ]
    }
   ],
   "source": [
    "## confusion matrix\n",
    "from sklearn.metrics import confusion_matrix, accuracy_score\n",
    "cm = confusion_matrix(y_test, y_pred)  ## TN & FP \\n FN & TP  \n",
    "print(cm)"
   ]
  },
  {
   "cell_type": "code",
   "execution_count": 28,
   "id": "b20357aa",
   "metadata": {
    "execution": {
     "iopub.execute_input": "2023-01-28T23:43:46.425234Z",
     "iopub.status.busy": "2023-01-28T23:43:46.424790Z",
     "iopub.status.idle": "2023-01-28T23:43:46.884183Z",
     "shell.execute_reply": "2023-01-28T23:43:46.883050Z"
    },
    "papermill": {
     "duration": 0.482833,
     "end_time": "2023-01-28T23:43:46.886602",
     "exception": false,
     "start_time": "2023-01-28T23:43:46.403769",
     "status": "completed"
    },
    "tags": []
   },
   "outputs": [
    {
     "data": {
      "image/png": "[encoded data removed]",
      "text/plain": [
       "<Figure size 720x720 with 2 Axes>"
      ]
     },
     "metadata": {
      "needs_background": "light"
     },
     "output_type": "display_data"
    }
   ],
   "source": [
    "## plot the confusion matrix\n",
    "f,ax = plt.subplots(figsize=(10, 10))\n",
    "labels = ['sadness', 'anger', 'love', 'surprise', 'fear', 'joy']\n",
    "from sklearn.metrics import plot_confusion_matrix\n",
    "sns.heatmap(cm, annot=True, xticklabels = labels, yticklabels=labels, linewidths=0.01,cmap=\"Oranges\",linecolor=\"gray\", fmt= '.1f',ax=ax)\n",
    "plt.show()"
   ]
  },
  {
   "cell_type": "markdown",
   "id": "95d18cc4",
   "metadata": {
    "papermill": {
     "duration": 0.019959,
     "end_time": "2023-01-28T23:43:46.927110",
     "exception": false,
     "start_time": "2023-01-28T23:43:46.907151",
     "status": "completed"
    },
    "tags": []
   },
   "source": [
    "# *Part 4 - Predicting new results*"
   ]
  },
  {
   "cell_type": "code",
   "execution_count": 29,
   "id": "110f1636",
   "metadata": {
    "execution": {
     "iopub.execute_input": "2023-01-28T23:43:46.970316Z",
     "iopub.status.busy": "2023-01-28T23:43:46.969156Z",
     "iopub.status.idle": "2023-01-28T23:43:46.978772Z",
     "shell.execute_reply": "2023-01-28T23:43:46.977589Z"
    },
    "papermill": {
     "duration": 0.033872,
     "end_time": "2023-01-28T23:43:46.981454",
     "exception": false,
     "start_time": "2023-01-28T23:43:46.947582",
     "status": "completed"
    },
    "tags": []
   },
   "outputs": [],
   "source": [
    "def pred_outcome(new_comment):\n",
    "    new_comment = re.sub('[^a-zA-Z]', ' ', new_comment)\n",
    "    new_comment = new_comment.lower()\n",
    "    new_comment = new_comment.split()\n",
    "    ps = PorterStemmer()\n",
    "    all_stopwords = stopwords.words('english')\n",
    "    all_stopwords.remove('not')\n",
    "    new_comment = [ps.stem(word) for word in new_comment if not word in set(all_stopwords)]\n",
    "    new_comment = ' '.join(new_comment)\n",
    "    new_corpus = [new_comment]\n",
    "    new_X = cv.transform(new_corpus).toarray()\n",
    "    new_y_pred = nb.predict(new_X)\n",
    "    if (new_y_pred == 0):\n",
    "        print(\"Sadness\")\n",
    "    elif (new_y_pred ==1):\n",
    "        print(\"Anger\")\n",
    "    elif (new_y_pred ==2):\n",
    "        print(\"Love\")\n",
    "    elif (new_y_pred ==3):\n",
    "        print(\"Surprise\")\n",
    "    elif (new_y_pred ==4):\n",
    "        print(\"Fear\")\n",
    "    elif (new_y_pred ==5):\n",
    "        print(\"Joy\")"
   ]
  },
  {
   "cell_type": "code",
   "execution_count": 30,
   "id": "1fb7d946",
   "metadata": {
    "execution": {
     "iopub.execute_input": "2023-01-28T23:43:47.024254Z",
     "iopub.status.busy": "2023-01-28T23:43:47.023839Z",
     "iopub.status.idle": "2023-01-28T23:43:47.035316Z",
     "shell.execute_reply": "2023-01-28T23:43:47.034415Z"
    },
    "papermill": {
     "duration": 0.03759,
     "end_time": "2023-01-28T23:43:47.039710",
     "exception": false,
     "start_time": "2023-01-28T23:43:47.002120",
     "status": "completed"
    },
    "tags": []
   },
   "outputs": [
    {
     "name": "stdout",
     "output_type": "stream",
     "text": [
      "Fear\n"
     ]
    }
   ],
   "source": [
    "comment = 'i do feel insecure sometimes but who doesnt'\n",
    "pred_outcome(comment)"
   ]
  }
 ],
 "metadata": {
  "kernelspec": {
   "display_name": "Python 3",
   "language": "python",
   "name": "python3"
  },
  "language_info": {
   "codemirror_mode": {
    "name": "ipython",
    "version": 3
   },
   "file_extension": ".py",
   "mimetype": "text/x-python",
   "name": "python",
   "nbconvert_exporter": "python",
   "pygments_lexer": "ipython3",
   "version": "3.10.6"
  },
  "papermill": {
   "default_parameters": {},
   "duration": 415.336838,
   "end_time": "2023-01-28T23:43:48.007017",
   "environment_variables": {},
   "exception": null,
   "input_path": "__notebook__.ipynb",
   "output_path": "__notebook__.ipynb",
   "parameters": {},
   "start_time": "2023-01-28T23:36:52.670179",
   "version": "2.3.4"
  }
 },
 "nbformat": 4,
 "nbformat_minor": 5
}
