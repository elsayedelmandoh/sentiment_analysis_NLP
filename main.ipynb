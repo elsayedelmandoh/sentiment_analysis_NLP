{
 "cells": [
  {
   "attachments": {},
   "cell_type": "markdown",
   "id": "51a83742",
   "metadata": {
    "papermill": {
     "duration": 0.013269,
     "end_time": "2023-01-28T23:37:01.738532",
     "exception": false,
     "start_time": "2023-01-28T23:37:01.725263",
     "status": "completed"
    },
    "tags": []
   },
   "source": [
    "# 📚 Part 1 - Text data and known labels\n"
   ]
  },
  {
   "cell_type": "code",
   "execution_count": 165,
   "id": "e6c30bcb",
   "metadata": {
    "execution": {
     "iopub.execute_input": "2023-01-28T23:37:01.780278Z",
     "iopub.status.busy": "2023-01-28T23:37:01.779269Z",
     "iopub.status.idle": "2023-01-28T23:37:02.908394Z",
     "shell.execute_reply": "2023-01-28T23:37:02.907026Z"
    },
    "papermill": {
     "duration": 1.143857,
     "end_time": "2023-01-28T23:37:02.911656",
     "exception": false,
     "start_time": "2023-01-28T23:37:01.767799",
     "status": "completed"
    },
    "tags": []
   },
   "outputs": [],
   "source": [
    "import numpy as np\n",
    "import pandas as pd\n",
    "import matplotlib.pyplot as plt\n",
    "import seaborn as sns"
   ]
  },
  {
   "attachments": {},
   "cell_type": "markdown",
   "id": "83c88821",
   "metadata": {},
   "source": [
    "💾 Read train dataset\n"
   ]
  },
  {
   "cell_type": "code",
   "execution_count": 166,
   "id": "65974b14",
   "metadata": {
    "execution": {
     "iopub.execute_input": "2023-01-28T23:37:02.951973Z",
     "iopub.status.busy": "2023-01-28T23:37:02.951591Z",
     "iopub.status.idle": "2023-01-28T23:37:03.020719Z",
     "shell.execute_reply": "2023-01-28T23:37:03.019557Z"
    },
    "papermill": {
     "duration": 0.082987,
     "end_time": "2023-01-28T23:37:03.023778",
     "exception": false,
     "start_time": "2023-01-28T23:37:02.940791",
     "status": "completed"
    },
    "tags": []
   },
   "outputs": [],
   "source": [
    "dataset = pd.read_csv(r'data/emotions_dataset.txt', header=None, names= ['text', 'emotion'] ,delimiter=';')"
   ]
  },
  {
   "attachments": {},
   "cell_type": "markdown",
   "id": "521faa3e",
   "metadata": {},
   "source": [
    "display first five rows\n"
   ]
  },
  {
   "cell_type": "code",
   "execution_count": 167,
   "id": "04ec9d12",
   "metadata": {},
   "outputs": [
    {
     "data": {
      "text/html": [
       "<div>\n",
       "<style scoped>\n",
       "    .dataframe tbody tr th:only-of-type {\n",
       "        vertical-align: middle;\n",
       "    }\n",
       "\n",
       "    .dataframe tbody tr th {\n",
       "        vertical-align: top;\n",
       "    }\n",
       "\n",
       "    .dataframe thead th {\n",
       "        text-align: right;\n",
       "    }\n",
       "</style>\n",
       "<table border=\"1\" class=\"dataframe\">\n",
       "  <thead>\n",
       "    <tr style=\"text-align: right;\">\n",
       "      <th></th>\n",
       "      <th>text</th>\n",
       "      <th>emotion</th>\n",
       "    </tr>\n",
       "  </thead>\n",
       "  <tbody>\n",
       "    <tr>\n",
       "      <th>0</th>\n",
       "      <td>i didnt feel humiliated</td>\n",
       "      <td>sad</td>\n",
       "    </tr>\n",
       "    <tr>\n",
       "      <th>1</th>\n",
       "      <td>i can go from feeling so hopeless to so damned...</td>\n",
       "      <td>sad</td>\n",
       "    </tr>\n",
       "    <tr>\n",
       "      <th>2</th>\n",
       "      <td>im grabbing a minute to post i feel greedy wrong</td>\n",
       "      <td>angry</td>\n",
       "    </tr>\n",
       "    <tr>\n",
       "      <th>3</th>\n",
       "      <td>i am ever feeling nostalgic about the fireplac...</td>\n",
       "      <td>love</td>\n",
       "    </tr>\n",
       "    <tr>\n",
       "      <th>4</th>\n",
       "      <td>i am feeling grouchy</td>\n",
       "      <td>angry</td>\n",
       "    </tr>\n",
       "  </tbody>\n",
       "</table>\n",
       "</div>"
      ],
      "text/plain": [
       "                                                text emotion\n",
       "0                            i didnt feel humiliated     sad\n",
       "1  i can go from feeling so hopeless to so damned...     sad\n",
       "2   im grabbing a minute to post i feel greedy wrong   angry\n",
       "3  i am ever feeling nostalgic about the fireplac...    love\n",
       "4                               i am feeling grouchy   angry"
      ]
     },
     "execution_count": 167,
     "metadata": {},
     "output_type": "execute_result"
    }
   ],
   "source": [
    "dataset.head()"
   ]
  },
  {
   "attachments": {},
   "cell_type": "markdown",
   "id": "07282c4e",
   "metadata": {},
   "source": [
    "display last five rows\n"
   ]
  },
  {
   "cell_type": "code",
   "execution_count": 168,
   "metadata": {},
   "outputs": [
    {
     "data": {
      "text/html": [
       "<div>\n",
       "<style scoped>\n",
       "    .dataframe tbody tr th:only-of-type {\n",
       "        vertical-align: middle;\n",
       "    }\n",
       "\n",
       "    .dataframe tbody tr th {\n",
       "        vertical-align: top;\n",
       "    }\n",
       "\n",
       "    .dataframe thead th {\n",
       "        text-align: right;\n",
       "    }\n",
       "</style>\n",
       "<table border=\"1\" class=\"dataframe\">\n",
       "  <thead>\n",
       "    <tr style=\"text-align: right;\">\n",
       "      <th></th>\n",
       "      <th>text</th>\n",
       "      <th>emotion</th>\n",
       "    </tr>\n",
       "  </thead>\n",
       "  <tbody>\n",
       "    <tr>\n",
       "      <th>19885</th>\n",
       "      <td>mmm i love you</td>\n",
       "      <td>love</td>\n",
       "    </tr>\n",
       "    <tr>\n",
       "      <th>19886</th>\n",
       "      <td>i'm sorry</td>\n",
       "      <td>sad</td>\n",
       "    </tr>\n",
       "    <tr>\n",
       "      <th>19887</th>\n",
       "      <td>This salad dressing is okay, but not particula...</td>\n",
       "      <td>neutral</td>\n",
       "    </tr>\n",
       "    <tr>\n",
       "      <th>19888</th>\n",
       "      <td>I'm feeling pretty neutral about the current s...</td>\n",
       "      <td>neutral</td>\n",
       "    </tr>\n",
       "    <tr>\n",
       "      <th>19889</th>\n",
       "      <td>This burrito is okay, but not particularly spicy.</td>\n",
       "      <td>neutral</td>\n",
       "    </tr>\n",
       "  </tbody>\n",
       "</table>\n",
       "</div>"
      ],
      "text/plain": [
       "                                                    text  emotion\n",
       "19885                                     mmm i love you     love\n",
       "19886                                          i'm sorry      sad\n",
       "19887  This salad dressing is okay, but not particula...  neutral\n",
       "19888  I'm feeling pretty neutral about the current s...  neutral\n",
       "19889  This burrito is okay, but not particularly spicy.  neutral"
      ]
     },
     "execution_count": 168,
     "metadata": {},
     "output_type": "execute_result"
    }
   ],
   "source": [
    "dataset.tail()"
   ]
  },
  {
   "attachments": {},
   "cell_type": "markdown",
   "id": "81974e96",
   "metadata": {},
   "source": [
    "display random ten rows\n"
   ]
  },
  {
   "cell_type": "code",
   "execution_count": 169,
   "id": "2413e785",
   "metadata": {},
   "outputs": [
    {
     "data": {
      "text/html": [
       "<div>\n",
       "<style scoped>\n",
       "    .dataframe tbody tr th:only-of-type {\n",
       "        vertical-align: middle;\n",
       "    }\n",
       "\n",
       "    .dataframe tbody tr th {\n",
       "        vertical-align: top;\n",
       "    }\n",
       "\n",
       "    .dataframe thead th {\n",
       "        text-align: right;\n",
       "    }\n",
       "</style>\n",
       "<table border=\"1\" class=\"dataframe\">\n",
       "  <thead>\n",
       "    <tr style=\"text-align: right;\">\n",
       "      <th></th>\n",
       "      <th>text</th>\n",
       "      <th>emotion</th>\n",
       "    </tr>\n",
       "  </thead>\n",
       "  <tbody>\n",
       "    <tr>\n",
       "      <th>17423</th>\n",
       "      <td>i feel a little like tom daley who was rightly...</td>\n",
       "      <td>happy</td>\n",
       "    </tr>\n",
       "    <tr>\n",
       "      <th>12255</th>\n",
       "      <td>i enjoyed today because hes a darling but its ...</td>\n",
       "      <td>fear</td>\n",
       "    </tr>\n",
       "    <tr>\n",
       "      <th>12750</th>\n",
       "      <td>i did feel very very heartbroken that i did no...</td>\n",
       "      <td>sad</td>\n",
       "    </tr>\n",
       "    <tr>\n",
       "      <th>18663</th>\n",
       "      <td>i just feel its one of those things you dont t...</td>\n",
       "      <td>love</td>\n",
       "    </tr>\n",
       "    <tr>\n",
       "      <th>2633</th>\n",
       "      <td>i feel that sweet pang and a desire for advent...</td>\n",
       "      <td>love</td>\n",
       "    </tr>\n",
       "    <tr>\n",
       "      <th>15701</th>\n",
       "      <td>Feeling excited is draining my energy</td>\n",
       "      <td>happy</td>\n",
       "    </tr>\n",
       "    <tr>\n",
       "      <th>6245</th>\n",
       "      <td>i feel love by sweet little arms wrapped aroun...</td>\n",
       "      <td>love</td>\n",
       "    </tr>\n",
       "    <tr>\n",
       "      <th>6874</th>\n",
       "      <td>ive always been feeling restless and dissatisf...</td>\n",
       "      <td>fear</td>\n",
       "    </tr>\n",
       "    <tr>\n",
       "      <th>13814</th>\n",
       "      <td>i am feeling afraid cos he isnt answering me a...</td>\n",
       "      <td>fear</td>\n",
       "    </tr>\n",
       "    <tr>\n",
       "      <th>12557</th>\n",
       "      <td>i started to feel rotten sore stomach sickness...</td>\n",
       "      <td>sad</td>\n",
       "    </tr>\n",
       "  </tbody>\n",
       "</table>\n",
       "</div>"
      ],
      "text/plain": [
       "                                                    text emotion\n",
       "17423  i feel a little like tom daley who was rightly...   happy\n",
       "12255  i enjoyed today because hes a darling but its ...    fear\n",
       "12750  i did feel very very heartbroken that i did no...     sad\n",
       "18663  i just feel its one of those things you dont t...    love\n",
       "2633   i feel that sweet pang and a desire for advent...    love\n",
       "15701              Feeling excited is draining my energy   happy\n",
       "6245   i feel love by sweet little arms wrapped aroun...    love\n",
       "6874   ive always been feeling restless and dissatisf...    fear\n",
       "13814  i am feeling afraid cos he isnt answering me a...    fear\n",
       "12557  i started to feel rotten sore stomach sickness...     sad"
      ]
     },
     "execution_count": 169,
     "metadata": {},
     "output_type": "execute_result"
    }
   ],
   "source": [
    "dataset.sample(10)"
   ]
  },
  {
   "attachments": {},
   "cell_type": "markdown",
   "id": "e79db5d5",
   "metadata": {},
   "source": [
    "## 🔍 Exploratory Data Analysis (EDA) for dataset_train\n",
    "\n",
    "> The general idea of feature engineering: \n",
    "\n",
    "    + The better your domain knowledge on the data, the better your ability to engineer more features from it.\n",
    "    + Feature engineering is a very large part of sentiment analysis in general."
   ]
  },
  {
   "cell_type": "code",
   "execution_count": 170,
   "id": "8f9f155f",
   "metadata": {},
   "outputs": [
    {
     "name": "stdout",
     "output_type": "stream",
     "text": [
      "<class 'pandas.core.frame.DataFrame'>\n",
      "RangeIndex: 19890 entries, 0 to 19889\n",
      "Data columns (total 2 columns):\n",
      " #   Column   Non-Null Count  Dtype \n",
      "---  ------   --------------  ----- \n",
      " 0   text     19890 non-null  object\n",
      " 1   emotion  19890 non-null  object\n",
      "dtypes: object(2)\n",
      "memory usage: 310.9+ KB\n"
     ]
    }
   ],
   "source": [
    "dataset.info()"
   ]
  },
  {
   "attachments": {},
   "cell_type": "markdown",
   "id": "6cc65260",
   "metadata": {},
   "source": [
    "shape (rows, cols)\n"
   ]
  },
  {
   "cell_type": "code",
   "execution_count": 171,
   "id": "b5d7d7a0",
   "metadata": {},
   "outputs": [
    {
     "name": "stdout",
     "output_type": "stream",
     "text": [
      "There are 19890 rows and 2 columns in train\n"
     ]
    }
   ],
   "source": [
    "print('There are {} rows and {} columns in train'.format(dataset.shape[0],dataset.shape[1]))"
   ]
  },
  {
   "attachments": {},
   "cell_type": "markdown",
   "id": "01194ffb",
   "metadata": {},
   "source": [
    "describe data"
   ]
  },
  {
   "cell_type": "code",
   "execution_count": 172,
   "id": "6d88a537",
   "metadata": {},
   "outputs": [
    {
     "data": {
      "text/html": [
       "<div>\n",
       "<style scoped>\n",
       "    .dataframe tbody tr th:only-of-type {\n",
       "        vertical-align: middle;\n",
       "    }\n",
       "\n",
       "    .dataframe tbody tr th {\n",
       "        vertical-align: top;\n",
       "    }\n",
       "\n",
       "    .dataframe thead th {\n",
       "        text-align: right;\n",
       "    }\n",
       "</style>\n",
       "<table border=\"1\" class=\"dataframe\">\n",
       "  <thead>\n",
       "    <tr style=\"text-align: right;\">\n",
       "      <th></th>\n",
       "      <th>text</th>\n",
       "      <th>emotion</th>\n",
       "    </tr>\n",
       "  </thead>\n",
       "  <tbody>\n",
       "    <tr>\n",
       "      <th>count</th>\n",
       "      <td>19890</td>\n",
       "      <td>19890</td>\n",
       "    </tr>\n",
       "    <tr>\n",
       "      <th>unique</th>\n",
       "      <td>18449</td>\n",
       "      <td>9</td>\n",
       "    </tr>\n",
       "    <tr>\n",
       "      <th>top</th>\n",
       "      <td>I wish I didn't feel fearful all the time</td>\n",
       "      <td>happy</td>\n",
       "    </tr>\n",
       "    <tr>\n",
       "      <th>freq</th>\n",
       "      <td>8</td>\n",
       "      <td>6259</td>\n",
       "    </tr>\n",
       "  </tbody>\n",
       "</table>\n",
       "</div>"
      ],
      "text/plain": [
       "                                             text emotion\n",
       "count                                       19890   19890\n",
       "unique                                      18449       9\n",
       "top     I wish I didn't feel fearful all the time   happy\n",
       "freq                                            8    6259"
      ]
     },
     "execution_count": 172,
     "metadata": {},
     "output_type": "execute_result"
    }
   ],
   "source": [
    "dataset.describe()"
   ]
  },
  {
   "attachments": {},
   "cell_type": "markdown",
   "id": "57f03c7f",
   "metadata": {},
   "source": [
    "Missing data\n"
   ]
  },
  {
   "cell_type": "code",
   "execution_count": 173,
   "id": "9bf3cfe2",
   "metadata": {},
   "outputs": [
    {
     "data": {
      "text/plain": [
       "text       0\n",
       "emotion    0\n",
       "dtype: int64"
      ]
     },
     "execution_count": 173,
     "metadata": {},
     "output_type": "execute_result"
    }
   ],
   "source": [
    "dataset.dropna(inplace=True)\n",
    "dataset.isnull().sum()"
   ]
  },
  {
   "attachments": {},
   "cell_type": "markdown",
   "id": "e8f90ff8",
   "metadata": {},
   "source": [
    "we have 9 unique classes"
   ]
  },
  {
   "cell_type": "code",
   "execution_count": 174,
   "id": "e0e1ee80",
   "metadata": {},
   "outputs": [
    {
     "data": {
      "text/plain": [
       "array(['sad', 'angry', 'love', 'surprise', 'fear', 'happy', 'disgusted',\n",
       "       'neutral', 'excited'], dtype=object)"
      ]
     },
     "execution_count": 174,
     "metadata": {},
     "output_type": "execute_result"
    }
   ],
   "source": [
    "labels= dataset['emotion'].unique()\n",
    "labels"
   ]
  },
  {
   "cell_type": "code",
   "execution_count": 175,
   "id": "615b23ea",
   "metadata": {},
   "outputs": [
    {
     "data": {
      "text/html": [
       "<div>\n",
       "<style scoped>\n",
       "    .dataframe tbody tr th:only-of-type {\n",
       "        vertical-align: middle;\n",
       "    }\n",
       "\n",
       "    .dataframe tbody tr th {\n",
       "        vertical-align: top;\n",
       "    }\n",
       "\n",
       "    .dataframe thead tr th {\n",
       "        text-align: left;\n",
       "    }\n",
       "\n",
       "    .dataframe thead tr:last-of-type th {\n",
       "        text-align: right;\n",
       "    }\n",
       "</style>\n",
       "<table border=\"1\" class=\"dataframe\">\n",
       "  <thead>\n",
       "    <tr>\n",
       "      <th></th>\n",
       "      <th colspan=\"4\" halign=\"left\">text</th>\n",
       "    </tr>\n",
       "    <tr>\n",
       "      <th></th>\n",
       "      <th>count</th>\n",
       "      <th>unique</th>\n",
       "      <th>top</th>\n",
       "      <th>freq</th>\n",
       "    </tr>\n",
       "    <tr>\n",
       "      <th>emotion</th>\n",
       "      <th></th>\n",
       "      <th></th>\n",
       "      <th></th>\n",
       "      <th></th>\n",
       "    </tr>\n",
       "  </thead>\n",
       "  <tbody>\n",
       "    <tr>\n",
       "      <th>angry</th>\n",
       "      <td>2637</td>\n",
       "      <td>2636</td>\n",
       "      <td>I'm fed up with feeling sad</td>\n",
       "      <td>2</td>\n",
       "    </tr>\n",
       "    <tr>\n",
       "      <th>disgusted</th>\n",
       "      <td>200</td>\n",
       "      <td>200</td>\n",
       "      <td>I don't see any reason to be fearful</td>\n",
       "      <td>1</td>\n",
       "    </tr>\n",
       "    <tr>\n",
       "      <th>excited</th>\n",
       "      <td>200</td>\n",
       "      <td>200</td>\n",
       "      <td>I'm not at all fearful like everyone else</td>\n",
       "      <td>1</td>\n",
       "    </tr>\n",
       "    <tr>\n",
       "      <th>fear</th>\n",
       "      <td>2362</td>\n",
       "      <td>2362</td>\n",
       "      <td>i feel as confused about life as a teenager or...</td>\n",
       "      <td>1</td>\n",
       "    </tr>\n",
       "    <tr>\n",
       "      <th>happy</th>\n",
       "      <td>6259</td>\n",
       "      <td>6258</td>\n",
       "      <td>I'm so over being surprised</td>\n",
       "      <td>2</td>\n",
       "    </tr>\n",
       "    <tr>\n",
       "      <th>love</th>\n",
       "      <td>1464</td>\n",
       "      <td>1464</td>\n",
       "      <td>i am ever feeling nostalgic about the fireplac...</td>\n",
       "      <td>1</td>\n",
       "    </tr>\n",
       "    <tr>\n",
       "      <th>neutral</th>\n",
       "      <td>475</td>\n",
       "      <td>475</td>\n",
       "      <td>I don't see any reason to be happy</td>\n",
       "      <td>1</td>\n",
       "    </tr>\n",
       "    <tr>\n",
       "      <th>sad</th>\n",
       "      <td>5454</td>\n",
       "      <td>5451</td>\n",
       "      <td>I dislike feeling happy</td>\n",
       "      <td>2</td>\n",
       "    </tr>\n",
       "    <tr>\n",
       "      <th>surprise</th>\n",
       "      <td>839</td>\n",
       "      <td>839</td>\n",
       "      <td>ive been taking or milligrams or times recomme...</td>\n",
       "      <td>1</td>\n",
       "    </tr>\n",
       "  </tbody>\n",
       "</table>\n",
       "</div>"
      ],
      "text/plain": [
       "           text                                                               \n",
       "          count unique                                                top freq\n",
       "emotion                                                                       \n",
       "angry      2637   2636                        I'm fed up with feeling sad    2\n",
       "disgusted   200    200               I don't see any reason to be fearful    1\n",
       "excited     200    200          I'm not at all fearful like everyone else    1\n",
       "fear       2362   2362  i feel as confused about life as a teenager or...    1\n",
       "happy      6259   6258                        I'm so over being surprised    2\n",
       "love       1464   1464  i am ever feeling nostalgic about the fireplac...    1\n",
       "neutral     475    475                 I don't see any reason to be happy    1\n",
       "sad        5454   5451                            I dislike feeling happy    2\n",
       "surprise    839    839  ive been taking or milligrams or times recomme...    1"
      ]
     },
     "execution_count": 175,
     "metadata": {},
     "output_type": "execute_result"
    }
   ],
   "source": [
    "dataset.groupby('emotion').describe()"
   ]
  },
  {
   "attachments": {},
   "cell_type": "markdown",
   "id": "a0613d9f",
   "metadata": {},
   "source": [
    "- Opps! `problem!' in balance between classes"
   ]
  },
  {
   "attachments": {},
   "cell_type": "markdown",
   "id": "62ef9500",
   "metadata": {},
   "source": [
    "> show imbalance between classes\n"
   ]
  },
  {
   "cell_type": "code",
   "execution_count": 176,
   "id": "2a413e0e",
   "metadata": {},
   "outputs": [
    {
     "data": {
      "image/png": "[encoded data removed]",
      "text/plain": [
       "<Figure size 640x480 with 1 Axes>"
      ]
     },
     "metadata": {},
     "output_type": "display_data"
    }
   ],
   "source": [
    "# plot\n",
    "ax= sns.countplot(x=dataset['emotion'],\n",
    "                  data=dataset)\n",
    "\n",
    "for p in ax.patches: # bars\n",
    "    '''\n",
    "    get_bbox(): return bounding box of the bar, \n",
    "    get_points(): returns the coordinates of the four corners of the bounding box.\n",
    "    '''\n",
    "    x= p.get_bbox().get_points()[:,0] # extract the x-coordinates of the four corners of the bar rectangle\n",
    "    y= p.get_bbox().get_points()[1,1] # extract the y-coordinate of the top-right corner\n",
    "    ax.annotate(f'{y:.0f}', (x.mean(), y), ha='center',va='bottom') # text on top bar\n",
    "    \n",
    "plt.title(\"Emotions rating are imbalance\")\n",
    "plt.xticks(rotation=60)  # Rotate x-labels by 60 degrees\n",
    "plt.show()"
   ]
  },
  {
   "attachments": {},
   "cell_type": "markdown",
   "id": "f59141b7",
   "metadata": {},
   "source": [
    "> make merge between classes\n"
   ]
  },
  {
   "cell_type": "code",
   "execution_count": 177,
   "id": "67fa51c4",
   "metadata": {},
   "outputs": [],
   "source": [
    "dataset['label'] = dataset['emotion']\n",
    "dataset['label'].replace(['sad', 'angry', 'fear', 'disgusted'], 'negative', inplace=True)\n",
    "dataset['label'].replace(['happy', 'love', 'surprise', 'excited'], 'positive', inplace=True)"
   ]
  },
  {
   "cell_type": "code",
   "execution_count": 178,
   "id": "3562d837",
   "metadata": {},
   "outputs": [
    {
     "data": {
      "text/plain": [
       "array(['negative', 'positive', 'neutral'], dtype=object)"
      ]
     },
     "execution_count": 178,
     "metadata": {},
     "output_type": "execute_result"
    }
   ],
   "source": [
    "labels= dataset['label'].unique()\n",
    "labels"
   ]
  },
  {
   "cell_type": "code",
   "execution_count": 179,
   "id": "26969b6b",
   "metadata": {},
   "outputs": [
    {
     "data": {
      "text/plain": [
       "label\n",
       "negative    10653\n",
       "positive     8762\n",
       "neutral       475\n",
       "Name: count, dtype: int64"
      ]
     },
     "execution_count": 179,
     "metadata": {},
     "output_type": "execute_result"
    }
   ],
   "source": [
    "dataset['label'].value_counts()"
   ]
  },
  {
   "cell_type": "code",
   "execution_count": 180,
   "id": "dedc4222",
   "metadata": {},
   "outputs": [
    {
     "data": {
      "text/html": [
       "<div>\n",
       "<style scoped>\n",
       "    .dataframe tbody tr th:only-of-type {\n",
       "        vertical-align: middle;\n",
       "    }\n",
       "\n",
       "    .dataframe tbody tr th {\n",
       "        vertical-align: top;\n",
       "    }\n",
       "\n",
       "    .dataframe thead th {\n",
       "        text-align: right;\n",
       "    }\n",
       "</style>\n",
       "<table border=\"1\" class=\"dataframe\">\n",
       "  <thead>\n",
       "    <tr style=\"text-align: right;\">\n",
       "      <th></th>\n",
       "      <th>text</th>\n",
       "      <th>emotion</th>\n",
       "      <th>label</th>\n",
       "    </tr>\n",
       "  </thead>\n",
       "  <tbody>\n",
       "    <tr>\n",
       "      <th>11563</th>\n",
       "      <td>i can feel something so strong for others but ...</td>\n",
       "      <td>happy</td>\n",
       "      <td>positive</td>\n",
       "    </tr>\n",
       "    <tr>\n",
       "      <th>13442</th>\n",
       "      <td>I'm tired of pretending to be happy</td>\n",
       "      <td>excited</td>\n",
       "      <td>positive</td>\n",
       "    </tr>\n",
       "    <tr>\n",
       "      <th>13234</th>\n",
       "      <td>I'm tired of pretending to be surprised</td>\n",
       "      <td>angry</td>\n",
       "      <td>negative</td>\n",
       "    </tr>\n",
       "    <tr>\n",
       "      <th>18488</th>\n",
       "      <td>i feel she said quickly i am so glad</td>\n",
       "      <td>happy</td>\n",
       "      <td>positive</td>\n",
       "    </tr>\n",
       "    <tr>\n",
       "      <th>10644</th>\n",
       "      <td>i drive home i feel like a petty thief having ...</td>\n",
       "      <td>angry</td>\n",
       "      <td>negative</td>\n",
       "    </tr>\n",
       "  </tbody>\n",
       "</table>\n",
       "</div>"
      ],
      "text/plain": [
       "                                                    text  emotion     label\n",
       "11563  i can feel something so strong for others but ...    happy  positive\n",
       "13442                I'm tired of pretending to be happy  excited  positive\n",
       "13234            I'm tired of pretending to be surprised    angry  negative\n",
       "18488               i feel she said quickly i am so glad    happy  positive\n",
       "10644  i drive home i feel like a petty thief having ...    angry  negative"
      ]
     },
     "execution_count": 180,
     "metadata": {},
     "output_type": "execute_result"
    }
   ],
   "source": [
    "dataset.sample(5)"
   ]
  },
  {
   "attachments": {},
   "cell_type": "markdown",
   "id": "e58f5dca",
   "metadata": {},
   "source": [
    "> show merge between classes"
   ]
  },
  {
   "cell_type": "code",
   "execution_count": 181,
   "metadata": {},
   "outputs": [
    {
     "data": {
      "image/png": "[encoded data removed]",
      "text/plain": [
       "<Figure size 640x480 with 1 Axes>"
      ]
     },
     "metadata": {},
     "output_type": "display_data"
    }
   ],
   "source": [
    "# plot\n",
    "ax= sns.countplot(x=dataset['label'],\n",
    "                  data=dataset)\n",
    "\n",
    "for p in ax.patches: # bars\n",
    "    '''\n",
    "    get_bbox(): return bounding box of the bar, \n",
    "    get_points(): returns the coordinates of the four corners of the bounding box.\n",
    "    '''\n",
    "    x= p.get_bbox().get_points()[:,0] # extract the x-coordinates of the four corners of the bar rectangle\n",
    "    y= p.get_bbox().get_points()[1,1] # extract the y-coordinate of the top-right corner\n",
    "    ax.annotate(f'{y:.0f}', (x.mean(), y), ha='center',va='bottom') # text on top bar\n",
    "    \n",
    "plt.title(\"Labels rating are imbalance\")\n",
    "plt.show()"
   ]
  },
  {
   "attachments": {},
   "cell_type": "markdown",
   "id": "f3ffc94b",
   "metadata": {},
   "source": [
    "> make resample method between classes"
   ]
  },
  {
   "cell_type": "code",
   "execution_count": 182,
   "id": "b7a8c30b",
   "metadata": {},
   "outputs": [
    {
     "name": "stdout",
     "output_type": "stream",
     "text": [
      "Number of records after upsampling: \n",
      "Positive: 10653 \n",
      "Neutral: 10653 \n",
      "Negative: 10653\n"
     ]
    }
   ],
   "source": [
    "from sklearn.utils import shuffle, resample\n",
    "\n",
    "# Let's copy our dataframe so that we can use it clean for the upsampling example later.\n",
    "df2 = dataset\n",
    "\n",
    "# Let's seperate our data into two based on the Score (True of False). \n",
    "df_negative = df2[df2['label'] == 'negative']\n",
    "df_neutral = df2[df2['label'] == 'neutral']\n",
    "df_positive = df2[df2['label'] == 'positive']\n",
    "\n",
    "# Let's use the resample function for upsampling for the Neutral class\n",
    "df_neutral = resample(df_neutral, replace=True, n_samples=len(df_negative))\n",
    "\n",
    "# Let's use the resample function for upsampling for the Positive class\n",
    "df_positive = resample(df_positive, replace=True, n_samples=len(df_negative))\n",
    "\n",
    "# Let's put the separated data frames together. \n",
    "df2 = pd.concat([df_negative, df_neutral, df_positive], axis=0)\n",
    "\n",
    "# Let's shuffle the data\n",
    "dataset = shuffle(df2)\n",
    "\n",
    "print(\"Number of records after upsampling: \")\n",
    "print(\"Positive:\", len(dataset[dataset[\"label\"] == 'positive']), \n",
    "      \"\\nNeutral:\", len(dataset[dataset[\"label\"] == 'neutral']), \n",
    "      \"\\nNegative:\", len(dataset[dataset[\"label\"] == 'negative']))"
   ]
  },
  {
   "attachments": {},
   "cell_type": "markdown",
   "id": "cf3ea54d",
   "metadata": {},
   "source": [
    "> show balance using resample method between classes"
   ]
  },
  {
   "cell_type": "code",
   "execution_count": 183,
   "id": "e2437f01",
   "metadata": {},
   "outputs": [
    {
     "data": {
      "image/png": "[encoded data removed]",
      "text/plain": [
       "<Figure size 640x480 with 1 Axes>"
      ]
     },
     "metadata": {},
     "output_type": "display_data"
    }
   ],
   "source": [
    "# plot\n",
    "ax= sns.countplot(x=dataset['label'],\n",
    "                  data=dataset)\n",
    "\n",
    "for p in ax.patches: # bars\n",
    "    '''\n",
    "    get_bbox(): return bounding box of the bar, \n",
    "    get_points(): returns the coordinates of the four corners of the bounding box.\n",
    "    '''\n",
    "    x= p.get_bbox().get_points()[:,0] # extract the x-coordinates of the four corners of the bar rectangle\n",
    "    y= p.get_bbox().get_points()[1,1] # extract the y-coordinate of the top-right corner\n",
    "    ax.annotate(f'{y:.0f}', (x.mean(), y), ha='center',va='bottom') # text on top bar\n",
    "    \n",
    "plt.title(\"Emotions rating are balance\")\n",
    "plt.show()"
   ]
  },
  {
   "attachments": {},
   "cell_type": "markdown",
   "id": "fada70a2",
   "metadata": {},
   "source": [
    "> Replace labels with integer numbers using replace method or map method with same way\n",
    "\n",
    "    + convert negative to -1, neutral to 0 and positive to 1"
   ]
  },
  {
   "cell_type": "code",
   "execution_count": 184,
   "id": "a7e2c481",
   "metadata": {},
   "outputs": [
    {
     "data": {
      "text/html": [
       "<div>\n",
       "<style scoped>\n",
       "    .dataframe tbody tr th:only-of-type {\n",
       "        vertical-align: middle;\n",
       "    }\n",
       "\n",
       "    .dataframe tbody tr th {\n",
       "        vertical-align: top;\n",
       "    }\n",
       "\n",
       "    .dataframe thead th {\n",
       "        text-align: right;\n",
       "    }\n",
       "</style>\n",
       "<table border=\"1\" class=\"dataframe\">\n",
       "  <thead>\n",
       "    <tr style=\"text-align: right;\">\n",
       "      <th></th>\n",
       "      <th>text</th>\n",
       "      <th>emotion</th>\n",
       "      <th>label</th>\n",
       "      <th>label_num</th>\n",
       "    </tr>\n",
       "  </thead>\n",
       "  <tbody>\n",
       "    <tr>\n",
       "      <th>19721</th>\n",
       "      <td>I'm listening to some calming music and feelin...</td>\n",
       "      <td>neutral</td>\n",
       "      <td>neutral</td>\n",
       "      <td>0</td>\n",
       "    </tr>\n",
       "    <tr>\n",
       "      <th>3247</th>\n",
       "      <td>I don't want to feel angry anymore</td>\n",
       "      <td>disgusted</td>\n",
       "      <td>negative</td>\n",
       "      <td>-1</td>\n",
       "    </tr>\n",
       "    <tr>\n",
       "      <th>19467</th>\n",
       "      <td>im not the one who feel bothered about this</td>\n",
       "      <td>angry</td>\n",
       "      <td>negative</td>\n",
       "      <td>-1</td>\n",
       "    </tr>\n",
       "    <tr>\n",
       "      <th>11969</th>\n",
       "      <td>i have a feeling i took so much time but kuya ...</td>\n",
       "      <td>love</td>\n",
       "      <td>positive</td>\n",
       "      <td>1</td>\n",
       "    </tr>\n",
       "    <tr>\n",
       "      <th>10651</th>\n",
       "      <td>i sooooo understand feeling like an ugly brown...</td>\n",
       "      <td>sad</td>\n",
       "      <td>negative</td>\n",
       "      <td>-1</td>\n",
       "    </tr>\n",
       "    <tr>\n",
       "      <th>7098</th>\n",
       "      <td>i mean its beginning marks the end to one of t...</td>\n",
       "      <td>sad</td>\n",
       "      <td>negative</td>\n",
       "      <td>-1</td>\n",
       "    </tr>\n",
       "    <tr>\n",
       "      <th>19654</th>\n",
       "      <td>I donated clothes to charity today.</td>\n",
       "      <td>neutral</td>\n",
       "      <td>neutral</td>\n",
       "      <td>0</td>\n",
       "    </tr>\n",
       "    <tr>\n",
       "      <th>19240</th>\n",
       "      <td>i am not feeling the love towards myself and t...</td>\n",
       "      <td>angry</td>\n",
       "      <td>negative</td>\n",
       "      <td>-1</td>\n",
       "    </tr>\n",
       "    <tr>\n",
       "      <th>3371</th>\n",
       "      <td>i feel so proud</td>\n",
       "      <td>happy</td>\n",
       "      <td>positive</td>\n",
       "      <td>1</td>\n",
       "    </tr>\n",
       "    <tr>\n",
       "      <th>11460</th>\n",
       "      <td>i and will be pleasantly surprised and vote he...</td>\n",
       "      <td>happy</td>\n",
       "      <td>positive</td>\n",
       "      <td>1</td>\n",
       "    </tr>\n",
       "  </tbody>\n",
       "</table>\n",
       "</div>"
      ],
      "text/plain": [
       "                                                    text    emotion     label   \n",
       "19721  I'm listening to some calming music and feelin...    neutral   neutral  \\\n",
       "3247                  I don't want to feel angry anymore  disgusted  negative   \n",
       "19467        im not the one who feel bothered about this      angry  negative   \n",
       "11969  i have a feeling i took so much time but kuya ...       love  positive   \n",
       "10651  i sooooo understand feeling like an ugly brown...        sad  negative   \n",
       "7098   i mean its beginning marks the end to one of t...        sad  negative   \n",
       "19654                I donated clothes to charity today.    neutral   neutral   \n",
       "19240  i am not feeling the love towards myself and t...      angry  negative   \n",
       "3371                                     i feel so proud      happy  positive   \n",
       "11460  i and will be pleasantly surprised and vote he...      happy  positive   \n",
       "\n",
       "       label_num  \n",
       "19721          0  \n",
       "3247          -1  \n",
       "19467         -1  \n",
       "11969          1  \n",
       "10651         -1  \n",
       "7098          -1  \n",
       "19654          0  \n",
       "19240         -1  \n",
       "3371           1  \n",
       "11460          1  "
      ]
     },
     "execution_count": 184,
     "metadata": {},
     "output_type": "execute_result"
    }
   ],
   "source": [
    "dataset['label_num'] = dataset['label'].replace({'negative': -1,'neutral':0, 'positive':1}).astype(int)\n",
    "dataset.sample(10)"
   ]
  },
  {
   "attachments": {},
   "cell_type": "markdown",
   "id": "528313eb",
   "metadata": {},
   "source": [
    "### Number of characters in a text"
   ]
  },
  {
   "cell_type": "code",
   "execution_count": 185,
   "id": "a780d8cb",
   "metadata": {},
   "outputs": [
    {
     "data": {
      "text/html": [
       "<div>\n",
       "<style scoped>\n",
       "    .dataframe tbody tr th:only-of-type {\n",
       "        vertical-align: middle;\n",
       "    }\n",
       "\n",
       "    .dataframe tbody tr th {\n",
       "        vertical-align: top;\n",
       "    }\n",
       "\n",
       "    .dataframe thead th {\n",
       "        text-align: right;\n",
       "    }\n",
       "</style>\n",
       "<table border=\"1\" class=\"dataframe\">\n",
       "  <thead>\n",
       "    <tr style=\"text-align: right;\">\n",
       "      <th></th>\n",
       "      <th>text</th>\n",
       "      <th>emotion</th>\n",
       "      <th>label</th>\n",
       "      <th>label_num</th>\n",
       "      <th>no_chars</th>\n",
       "    </tr>\n",
       "  </thead>\n",
       "  <tbody>\n",
       "    <tr>\n",
       "      <th>5452</th>\n",
       "      <td>the time when my sister had her first baby i w...</td>\n",
       "      <td>happy</td>\n",
       "      <td>positive</td>\n",
       "      <td>1</td>\n",
       "      <td>138</td>\n",
       "    </tr>\n",
       "    <tr>\n",
       "      <th>4379</th>\n",
       "      <td>i never feel like i have it perfect sometimes ...</td>\n",
       "      <td>happy</td>\n",
       "      <td>positive</td>\n",
       "      <td>1</td>\n",
       "      <td>211</td>\n",
       "    </tr>\n",
       "    <tr>\n",
       "      <th>7558</th>\n",
       "      <td>i can stop feeling jealous</td>\n",
       "      <td>angry</td>\n",
       "      <td>negative</td>\n",
       "      <td>-1</td>\n",
       "      <td>26</td>\n",
       "    </tr>\n",
       "    <tr>\n",
       "      <th>19614</th>\n",
       "      <td>I emailed a friend earlier today.</td>\n",
       "      <td>neutral</td>\n",
       "      <td>neutral</td>\n",
       "      <td>0</td>\n",
       "      <td>33</td>\n",
       "    </tr>\n",
       "    <tr>\n",
       "      <th>3907</th>\n",
       "      <td>i feel utterly devastated that she must go thr...</td>\n",
       "      <td>sad</td>\n",
       "      <td>negative</td>\n",
       "      <td>-1</td>\n",
       "      <td>71</td>\n",
       "    </tr>\n",
       "    <tr>\n",
       "      <th>6190</th>\n",
       "      <td>i feel so relaxed amp light since i emptied my...</td>\n",
       "      <td>happy</td>\n",
       "      <td>positive</td>\n",
       "      <td>1</td>\n",
       "      <td>100</td>\n",
       "    </tr>\n",
       "    <tr>\n",
       "      <th>13300</th>\n",
       "      <td>I don't want anyone to know I'm neutral</td>\n",
       "      <td>neutral</td>\n",
       "      <td>neutral</td>\n",
       "      <td>0</td>\n",
       "      <td>39</td>\n",
       "    </tr>\n",
       "    <tr>\n",
       "      <th>10237</th>\n",
       "      <td>Feeling excited is the worst</td>\n",
       "      <td>neutral</td>\n",
       "      <td>neutral</td>\n",
       "      <td>0</td>\n",
       "      <td>28</td>\n",
       "    </tr>\n",
       "    <tr>\n",
       "      <th>19787</th>\n",
       "      <td>This new TV show I'm watching is very entertai...</td>\n",
       "      <td>neutral</td>\n",
       "      <td>neutral</td>\n",
       "      <td>0</td>\n",
       "      <td>64</td>\n",
       "    </tr>\n",
       "    <tr>\n",
       "      <th>12125</th>\n",
       "      <td>i really feel unhappy</td>\n",
       "      <td>sad</td>\n",
       "      <td>negative</td>\n",
       "      <td>-1</td>\n",
       "      <td>21</td>\n",
       "    </tr>\n",
       "  </tbody>\n",
       "</table>\n",
       "</div>"
      ],
      "text/plain": [
       "                                                    text  emotion     label   \n",
       "5452   the time when my sister had her first baby i w...    happy  positive  \\\n",
       "4379   i never feel like i have it perfect sometimes ...    happy  positive   \n",
       "7558                          i can stop feeling jealous    angry  negative   \n",
       "19614                  I emailed a friend earlier today.  neutral   neutral   \n",
       "3907   i feel utterly devastated that she must go thr...      sad  negative   \n",
       "6190   i feel so relaxed amp light since i emptied my...    happy  positive   \n",
       "13300            I don't want anyone to know I'm neutral  neutral   neutral   \n",
       "10237                       Feeling excited is the worst  neutral   neutral   \n",
       "19787  This new TV show I'm watching is very entertai...  neutral   neutral   \n",
       "12125                              i really feel unhappy      sad  negative   \n",
       "\n",
       "       label_num  no_chars  \n",
       "5452           1       138  \n",
       "4379           1       211  \n",
       "7558          -1        26  \n",
       "19614          0        33  \n",
       "3907          -1        71  \n",
       "6190           1       100  \n",
       "13300          0        39  \n",
       "10237          0        28  \n",
       "19787          0        64  \n",
       "12125         -1        21  "
      ]
     },
     "execution_count": 185,
     "metadata": {},
     "output_type": "execute_result"
    }
   ],
   "source": [
    "dataset['no_chars'] = dataset['text'].apply(len)\n",
    "dataset.sample(10)"
   ]
  },
  {
   "cell_type": "code",
   "execution_count": 186,
   "id": "a783b423",
   "metadata": {},
   "outputs": [
    {
     "data": {
      "image/png": "[encoded data removed]",
      "text/plain": [
       "<Figure size 1000x600 with 1 Axes>"
      ]
     },
     "metadata": {},
     "output_type": "display_data"
    }
   ],
   "source": [
    "plt.figure(figsize=(10, 6)) \n",
    "\n",
    "dataset[dataset['label_num'] == -1]['no_chars'].plot(bins=35, \n",
    "                                                            kind='hist', \n",
    "                                                            color='red', \n",
    "                                                            label='Negative text', \n",
    "                                                            alpha=0.6)\n",
    "\n",
    "dataset[dataset['label_num'] == 0]['no_chars'].plot(kind='hist', \n",
    "                                                                color='yellow', \n",
    "                                                                label='Neutral text', \n",
    "                                                                alpha=0.6)\n",
    "\n",
    "dataset[dataset['label_num'] == 1]['no_chars'].plot(kind='hist', \n",
    "                                                                color='green', \n",
    "                                                                label='Positive text', \n",
    "                                                                alpha=0.6)\n",
    "\n",
    "plt.legend(loc='upper right')\n",
    "plt.xlabel(\"Numbers of chars\")\n",
    "plt.ylabel(\"Numbers of texts\")\n",
    "plt.show()"
   ]
  },
  {
   "attachments": {},
   "cell_type": "markdown",
   "id": "33a44a6a",
   "metadata": {},
   "source": [
    "> we have range `2500 positive texts` are in range `40 to 70 characters`!\n",
    "\n",
    "> we have range `3000 neutral texts` are in range `30 to 50 characters`!\n",
    "\n",
    "> we have range `800 negative texts` are in range `30 to 80 characters`!\n",
    "\n",
    "> The distribution of both seems to be almost same. `30 t0 60 characters` in a texts are the most common among both."
   ]
  },
  {
   "attachments": {},
   "cell_type": "markdown",
   "id": "732f03df",
   "metadata": {},
   "source": [
    "let's discover `negative` texts"
   ]
  },
  {
   "cell_type": "code",
   "execution_count": 187,
   "id": "d72811d3",
   "metadata": {},
   "outputs": [
    {
     "data": {
      "text/html": [
       "<div>\n",
       "<style scoped>\n",
       "    .dataframe tbody tr th:only-of-type {\n",
       "        vertical-align: middle;\n",
       "    }\n",
       "\n",
       "    .dataframe tbody tr th {\n",
       "        vertical-align: top;\n",
       "    }\n",
       "\n",
       "    .dataframe thead th {\n",
       "        text-align: right;\n",
       "    }\n",
       "</style>\n",
       "<table border=\"1\" class=\"dataframe\">\n",
       "  <thead>\n",
       "    <tr style=\"text-align: right;\">\n",
       "      <th></th>\n",
       "      <th>label_num</th>\n",
       "      <th>no_chars</th>\n",
       "    </tr>\n",
       "  </thead>\n",
       "  <tbody>\n",
       "    <tr>\n",
       "      <th>count</th>\n",
       "      <td>10653.0</td>\n",
       "      <td>10653.000000</td>\n",
       "    </tr>\n",
       "    <tr>\n",
       "      <th>mean</th>\n",
       "      <td>-1.0</td>\n",
       "      <td>89.875810</td>\n",
       "    </tr>\n",
       "    <tr>\n",
       "      <th>std</th>\n",
       "      <td>0.0</td>\n",
       "      <td>56.481257</td>\n",
       "    </tr>\n",
       "    <tr>\n",
       "      <th>min</th>\n",
       "      <td>-1.0</td>\n",
       "      <td>7.000000</td>\n",
       "    </tr>\n",
       "    <tr>\n",
       "      <th>25%</th>\n",
       "      <td>-1.0</td>\n",
       "      <td>44.000000</td>\n",
       "    </tr>\n",
       "    <tr>\n",
       "      <th>50%</th>\n",
       "      <td>-1.0</td>\n",
       "      <td>76.000000</td>\n",
       "    </tr>\n",
       "    <tr>\n",
       "      <th>75%</th>\n",
       "      <td>-1.0</td>\n",
       "      <td>121.000000</td>\n",
       "    </tr>\n",
       "    <tr>\n",
       "      <th>max</th>\n",
       "      <td>-1.0</td>\n",
       "      <td>299.000000</td>\n",
       "    </tr>\n",
       "  </tbody>\n",
       "</table>\n",
       "</div>"
      ],
      "text/plain": [
       "       label_num      no_chars\n",
       "count    10653.0  10653.000000\n",
       "mean        -1.0     89.875810\n",
       "std          0.0     56.481257\n",
       "min         -1.0      7.000000\n",
       "25%         -1.0     44.000000\n",
       "50%         -1.0     76.000000\n",
       "75%         -1.0    121.000000\n",
       "max         -1.0    299.000000"
      ]
     },
     "execution_count": 187,
     "metadata": {},
     "output_type": "execute_result"
    }
   ],
   "source": [
    "dataset[dataset['label_num'] == -1].describe()"
   ]
  },
  {
   "attachments": {},
   "cell_type": "markdown",
   "id": "bba71f1a",
   "metadata": {},
   "source": [
    "> we have `10653 negative texts`, but Woah! `299 characters`, let's use masking to find this text:"
   ]
  },
  {
   "cell_type": "code",
   "execution_count": 188,
   "id": "1739da9e",
   "metadata": {},
   "outputs": [
    {
     "data": {
      "text/plain": [
       "'i hope that those of you who actauly found this and read it feel possibly inspired to go out and buy some of these items or even go through storage and see what clothes of yours your mom saved and that you still have a hope of fitting in and mix up your wardrobe for this summer and have a little fun'"
      ]
     },
     "execution_count": 188,
     "metadata": {},
     "output_type": "execute_result"
    }
   ],
   "source": [
    "max_neg= dataset[dataset['label_num'] == 1]['no_chars'].max()\n",
    "dataset[dataset['no_chars'] == max_neg]['text'].iloc[0]"
   ]
  },
  {
   "attachments": {},
   "cell_type": "markdown",
   "id": "4f0ab3d4",
   "metadata": {},
   "source": [
    "let's discover `neutral` texts"
   ]
  },
  {
   "cell_type": "code",
   "execution_count": 189,
   "id": "115d1332",
   "metadata": {},
   "outputs": [
    {
     "data": {
      "text/html": [
       "<div>\n",
       "<style scoped>\n",
       "    .dataframe tbody tr th:only-of-type {\n",
       "        vertical-align: middle;\n",
       "    }\n",
       "\n",
       "    .dataframe tbody tr th {\n",
       "        vertical-align: top;\n",
       "    }\n",
       "\n",
       "    .dataframe thead th {\n",
       "        text-align: right;\n",
       "    }\n",
       "</style>\n",
       "<table border=\"1\" class=\"dataframe\">\n",
       "  <thead>\n",
       "    <tr style=\"text-align: right;\">\n",
       "      <th></th>\n",
       "      <th>label_num</th>\n",
       "      <th>no_chars</th>\n",
       "    </tr>\n",
       "  </thead>\n",
       "  <tbody>\n",
       "    <tr>\n",
       "      <th>count</th>\n",
       "      <td>10653.0</td>\n",
       "      <td>10653.000000</td>\n",
       "    </tr>\n",
       "    <tr>\n",
       "      <th>mean</th>\n",
       "      <td>0.0</td>\n",
       "      <td>41.874214</td>\n",
       "    </tr>\n",
       "    <tr>\n",
       "      <th>std</th>\n",
       "      <td>0.0</td>\n",
       "      <td>13.066410</td>\n",
       "    </tr>\n",
       "    <tr>\n",
       "      <th>min</th>\n",
       "      <td>0.0</td>\n",
       "      <td>9.000000</td>\n",
       "    </tr>\n",
       "    <tr>\n",
       "      <th>25%</th>\n",
       "      <td>0.0</td>\n",
       "      <td>33.000000</td>\n",
       "    </tr>\n",
       "    <tr>\n",
       "      <th>50%</th>\n",
       "      <td>0.0</td>\n",
       "      <td>38.000000</td>\n",
       "    </tr>\n",
       "    <tr>\n",
       "      <th>75%</th>\n",
       "      <td>0.0</td>\n",
       "      <td>50.000000</td>\n",
       "    </tr>\n",
       "    <tr>\n",
       "      <th>max</th>\n",
       "      <td>0.0</td>\n",
       "      <td>78.000000</td>\n",
       "    </tr>\n",
       "  </tbody>\n",
       "</table>\n",
       "</div>"
      ],
      "text/plain": [
       "       label_num      no_chars\n",
       "count    10653.0  10653.000000\n",
       "mean         0.0     41.874214\n",
       "std          0.0     13.066410\n",
       "min          0.0      9.000000\n",
       "25%          0.0     33.000000\n",
       "50%          0.0     38.000000\n",
       "75%          0.0     50.000000\n",
       "max          0.0     78.000000"
      ]
     },
     "execution_count": 189,
     "metadata": {},
     "output_type": "execute_result"
    }
   ],
   "source": [
    "dataset[dataset['label_num'] == 0].describe()"
   ]
  },
  {
   "attachments": {},
   "cell_type": "markdown",
   "id": "8490129c",
   "metadata": {},
   "source": [
    "> we have `10653 positive texts`, but Woah! `78 characters`, let's use masking to find this text:"
   ]
  },
  {
   "cell_type": "code",
   "execution_count": 190,
   "id": "ad778819",
   "metadata": {},
   "outputs": [
    {
     "data": {
      "text/plain": [
       "'im feeling distracted i tend to practice with my eyes shut as much as possible'"
      ]
     },
     "execution_count": 190,
     "metadata": {},
     "output_type": "execute_result"
    }
   ],
   "source": [
    "max_neu= dataset[dataset['label_num'] == 0]['no_chars'].max()\n",
    "dataset[dataset['no_chars'] == max_neu]['text'].iloc[0]"
   ]
  },
  {
   "attachments": {},
   "cell_type": "markdown",
   "id": "1cf45b4b",
   "metadata": {},
   "source": [
    "let's discover `positive` texts"
   ]
  },
  {
   "cell_type": "code",
   "execution_count": 191,
   "metadata": {},
   "outputs": [
    {
     "data": {
      "text/html": [
       "<div>\n",
       "<style scoped>\n",
       "    .dataframe tbody tr th:only-of-type {\n",
       "        vertical-align: middle;\n",
       "    }\n",
       "\n",
       "    .dataframe tbody tr th {\n",
       "        vertical-align: top;\n",
       "    }\n",
       "\n",
       "    .dataframe thead th {\n",
       "        text-align: right;\n",
       "    }\n",
       "</style>\n",
       "<table border=\"1\" class=\"dataframe\">\n",
       "  <thead>\n",
       "    <tr style=\"text-align: right;\">\n",
       "      <th></th>\n",
       "      <th>label_num</th>\n",
       "      <th>no_chars</th>\n",
       "    </tr>\n",
       "  </thead>\n",
       "  <tbody>\n",
       "    <tr>\n",
       "      <th>count</th>\n",
       "      <td>10653.0</td>\n",
       "      <td>10653.000000</td>\n",
       "    </tr>\n",
       "    <tr>\n",
       "      <th>mean</th>\n",
       "      <td>1.0</td>\n",
       "      <td>95.703558</td>\n",
       "    </tr>\n",
       "    <tr>\n",
       "      <th>std</th>\n",
       "      <td>0.0</td>\n",
       "      <td>56.764592</td>\n",
       "    </tr>\n",
       "    <tr>\n",
       "      <th>min</th>\n",
       "      <td>1.0</td>\n",
       "      <td>9.000000</td>\n",
       "    </tr>\n",
       "    <tr>\n",
       "      <th>25%</th>\n",
       "      <td>1.0</td>\n",
       "      <td>50.000000</td>\n",
       "    </tr>\n",
       "    <tr>\n",
       "      <th>50%</th>\n",
       "      <td>1.0</td>\n",
       "      <td>85.000000</td>\n",
       "    </tr>\n",
       "    <tr>\n",
       "      <th>75%</th>\n",
       "      <td>1.0</td>\n",
       "      <td>129.000000</td>\n",
       "    </tr>\n",
       "    <tr>\n",
       "      <th>max</th>\n",
       "      <td>1.0</td>\n",
       "      <td>300.000000</td>\n",
       "    </tr>\n",
       "  </tbody>\n",
       "</table>\n",
       "</div>"
      ],
      "text/plain": [
       "       label_num      no_chars\n",
       "count    10653.0  10653.000000\n",
       "mean         1.0     95.703558\n",
       "std          0.0     56.764592\n",
       "min          1.0      9.000000\n",
       "25%          1.0     50.000000\n",
       "50%          1.0     85.000000\n",
       "75%          1.0    129.000000\n",
       "max          1.0    300.000000"
      ]
     },
     "execution_count": 191,
     "metadata": {},
     "output_type": "execute_result"
    }
   ],
   "source": [
    "dataset[dataset['label_num'] == 1].describe()"
   ]
  },
  {
   "attachments": {},
   "cell_type": "markdown",
   "id": "405a2ad9",
   "metadata": {},
   "source": [
    "> we have `10653 positive texts`, but Woah! `300 characters`, let's use masking to find this text:"
   ]
  },
  {
   "cell_type": "code",
   "execution_count": 192,
   "id": "a479f1fe",
   "metadata": {},
   "outputs": [
    {
     "data": {
      "text/plain": [
       "'i hope that those of you who actauly found this and read it feel possibly inspired to go out and buy some of these items or even go through storage and see what clothes of yours your mom saved and that you still have a hope of fitting in and mix up your wardrobe for this summer and have a little fun'"
      ]
     },
     "execution_count": 192,
     "metadata": {},
     "output_type": "execute_result"
    }
   ],
   "source": [
    "max_pos= dataset[dataset['label_num'] == 1]['no_chars'].max()\n",
    "dataset[dataset['no_chars'] == max_pos]['text'].iloc[0]"
   ]
  },
  {
   "attachments": {},
   "cell_type": "markdown",
   "id": "b94a98c1",
   "metadata": {},
   "source": [
    "### Number of tokens in a text\n",
    "> split text to tokens\n",
    "\n",
    "    - applies the split() method to each element in the 'text' column. \n",
    "    - It splits the text into a list of tokens, \n",
    "\n",
    "> mapping lambda function \n",
    "\n",
    "    - applies the map() method for each token in the text, \n",
    "    - it calculates the length of the token using len(i)\n",
    "\n",
    "> final result \n",
    "\n",
    "    - dataset_train['no_tokens']= stores the lengths of the words for each text."
   ]
  },
  {
   "cell_type": "code",
   "execution_count": 193,
   "id": "095b9f35",
   "metadata": {},
   "outputs": [
    {
     "data": {
      "text/html": [
       "<div>\n",
       "<style scoped>\n",
       "    .dataframe tbody tr th:only-of-type {\n",
       "        vertical-align: middle;\n",
       "    }\n",
       "\n",
       "    .dataframe tbody tr th {\n",
       "        vertical-align: top;\n",
       "    }\n",
       "\n",
       "    .dataframe thead th {\n",
       "        text-align: right;\n",
       "    }\n",
       "</style>\n",
       "<table border=\"1\" class=\"dataframe\">\n",
       "  <thead>\n",
       "    <tr style=\"text-align: right;\">\n",
       "      <th></th>\n",
       "      <th>text</th>\n",
       "      <th>emotion</th>\n",
       "      <th>label</th>\n",
       "      <th>label_num</th>\n",
       "      <th>no_chars</th>\n",
       "      <th>no_tokens</th>\n",
       "    </tr>\n",
       "  </thead>\n",
       "  <tbody>\n",
       "    <tr>\n",
       "      <th>11538</th>\n",
       "      <td>ive not been back to the doctor in a year and ...</td>\n",
       "      <td>happy</td>\n",
       "      <td>positive</td>\n",
       "      <td>1</td>\n",
       "      <td>66</td>\n",
       "      <td>15</td>\n",
       "    </tr>\n",
       "    <tr>\n",
       "      <th>2761</th>\n",
       "      <td>i feel radiant this morning</td>\n",
       "      <td>happy</td>\n",
       "      <td>positive</td>\n",
       "      <td>1</td>\n",
       "      <td>27</td>\n",
       "      <td>5</td>\n",
       "    </tr>\n",
       "    <tr>\n",
       "      <th>10359</th>\n",
       "      <td>I find it hard to be fearful in this situation</td>\n",
       "      <td>neutral</td>\n",
       "      <td>neutral</td>\n",
       "      <td>0</td>\n",
       "      <td>46</td>\n",
       "      <td>10</td>\n",
       "    </tr>\n",
       "    <tr>\n",
       "      <th>3027</th>\n",
       "      <td>i can feel his impatient and i can t stop my b...</td>\n",
       "      <td>angry</td>\n",
       "      <td>negative</td>\n",
       "      <td>-1</td>\n",
       "      <td>83</td>\n",
       "      <td>17</td>\n",
       "    </tr>\n",
       "    <tr>\n",
       "      <th>9190</th>\n",
       "      <td>i feel like it is cool for now but we wonder w...</td>\n",
       "      <td>happy</td>\n",
       "      <td>positive</td>\n",
       "      <td>1</td>\n",
       "      <td>122</td>\n",
       "      <td>25</td>\n",
       "    </tr>\n",
       "    <tr>\n",
       "      <th>3630</th>\n",
       "      <td>i now feel a longing for knowledge</td>\n",
       "      <td>love</td>\n",
       "      <td>positive</td>\n",
       "      <td>1</td>\n",
       "      <td>34</td>\n",
       "      <td>7</td>\n",
       "    </tr>\n",
       "    <tr>\n",
       "      <th>19691</th>\n",
       "      <td>Brunch with friends was most pleasant.</td>\n",
       "      <td>neutral</td>\n",
       "      <td>neutral</td>\n",
       "      <td>0</td>\n",
       "      <td>38</td>\n",
       "      <td>6</td>\n",
       "    </tr>\n",
       "    <tr>\n",
       "      <th>19769</th>\n",
       "      <td>This new album I'm listening to is really good...</td>\n",
       "      <td>neutral</td>\n",
       "      <td>neutral</td>\n",
       "      <td>0</td>\n",
       "      <td>60</td>\n",
       "      <td>11</td>\n",
       "    </tr>\n",
       "    <tr>\n",
       "      <th>6757</th>\n",
       "      <td>Feeling surprised is the worst</td>\n",
       "      <td>fear</td>\n",
       "      <td>negative</td>\n",
       "      <td>-1</td>\n",
       "      <td>30</td>\n",
       "      <td>5</td>\n",
       "    </tr>\n",
       "    <tr>\n",
       "      <th>18245</th>\n",
       "      <td>i want you to know that if i become prime mini...</td>\n",
       "      <td>happy</td>\n",
       "      <td>positive</td>\n",
       "      <td>1</td>\n",
       "      <td>221</td>\n",
       "      <td>50</td>\n",
       "    </tr>\n",
       "  </tbody>\n",
       "</table>\n",
       "</div>"
      ],
      "text/plain": [
       "                                                    text  emotion     label   \n",
       "11538  ive not been back to the doctor in a year and ...    happy  positive  \\\n",
       "2761                         i feel radiant this morning    happy  positive   \n",
       "10359     I find it hard to be fearful in this situation  neutral   neutral   \n",
       "3027   i can feel his impatient and i can t stop my b...    angry  negative   \n",
       "9190   i feel like it is cool for now but we wonder w...    happy  positive   \n",
       "3630                  i now feel a longing for knowledge     love  positive   \n",
       "19691             Brunch with friends was most pleasant.  neutral   neutral   \n",
       "19769  This new album I'm listening to is really good...  neutral   neutral   \n",
       "6757                      Feeling surprised is the worst     fear  negative   \n",
       "18245  i want you to know that if i become prime mini...    happy  positive   \n",
       "\n",
       "       label_num  no_chars  no_tokens  \n",
       "11538          1        66         15  \n",
       "2761           1        27          5  \n",
       "10359          0        46         10  \n",
       "3027          -1        83         17  \n",
       "9190           1       122         25  \n",
       "3630           1        34          7  \n",
       "19691          0        38          6  \n",
       "19769          0        60         11  \n",
       "6757          -1        30          5  \n",
       "18245          1       221         50  "
      ]
     },
     "execution_count": 193,
     "metadata": {},
     "output_type": "execute_result"
    }
   ],
   "source": [
    "dataset['no_tokens']= dataset['text'].str.split().map(lambda token: len(token)) \n",
    "dataset.sample(10)"
   ]
  },
  {
   "cell_type": "code",
   "execution_count": 194,
   "id": "ab85f790",
   "metadata": {},
   "outputs": [
    {
     "data": {
      "image/png": "[encoded data removed]",
      "text/plain": [
       "<Figure size 1000x600 with 1 Axes>"
      ]
     },
     "metadata": {},
     "output_type": "display_data"
    }
   ],
   "source": [
    "plt.figure(figsize=(10, 6)) \n",
    "\n",
    "dataset[dataset['label_num'] == -1]['no_tokens'].plot(bins=35, \n",
    "                                                            kind='hist', \n",
    "                                                            color='red', \n",
    "                                                            label='Negative text', \n",
    "                                                            alpha=0.6)\n",
    "\n",
    "dataset[dataset['label_num'] == 0]['no_tokens'].plot(bins=35, \n",
    "                                                            kind='hist', \n",
    "                                                            color='yellow', \n",
    "                                                            label='Neutral text', \n",
    "                                                            alpha=0.6)\n",
    "\n",
    "dataset[dataset['label_num'] == 1]['no_tokens'].plot(kind='hist', \n",
    "                                                                color='green', \n",
    "                                                                label='Positive text', \n",
    "                                                                alpha=0.6)\n",
    "\n",
    "plt.legend(loc='upper right')\n",
    "plt.xlabel(\"Numbers of tokens\")\n",
    "plt.ylabel(\"Numbers of texts\")\n",
    "plt.show()"
   ]
  },
  {
   "attachments": {},
   "cell_type": "markdown",
   "id": "e609b46b",
   "metadata": {},
   "source": [
    "The distribution of both seems to be almost same. `5 t0 20 tokens` in a texts are the most common among both."
   ]
  },
  {
   "attachments": {},
   "cell_type": "markdown",
   "id": "949a8715",
   "metadata": {},
   "source": [
    "### Average token length in a text\n",
    "> split text to tokens\n",
    "\n",
    "    - applies the split() method to each element in the 'text' column. \n",
    "    - It splits the text into a list of tokens, \n",
    "\n",
    "> mapping lambda function for each token in the text, \n",
    "\n",
    "    - it calculates the length of the token using len(i)\n",
    "    - The resulting lengths are stored as a list for each text.\n",
    "\n",
    "> final result \n",
    "\n",
    "    - dataset_train['avg_tokens']= stores the average of the words for each text."
   ]
  },
  {
   "cell_type": "code",
   "execution_count": 195,
   "id": "9139eb05",
   "metadata": {},
   "outputs": [
    {
     "data": {
      "image/png": "[encoded data removed]",
      "text/plain": [
       "<Figure size 1000x500 with 3 Axes>"
      ]
     },
     "metadata": {},
     "output_type": "display_data"
    }
   ],
   "source": [
    "fig,(ax1, ax2, ax3)=plt.subplots(1,3,figsize=(10,5))\n",
    "\n",
    "avg_tokens= dataset[dataset['label_num'] == -1]['text'].str.split().apply(lambda token : [len(char) for char in token]).map(lambda x: np.mean(x))\n",
    "sns.histplot(avg_tokens, ax=ax1, color='red')\n",
    "ax1.set_title('Negative texts')\n",
    "\n",
    "avg_tokens= dataset[dataset['label_num'] == 0]['text'].str.split().apply(lambda token : [len(char) for char in token]).map(lambda x: np.mean(x))\n",
    "sns.histplot(avg_tokens, ax=ax2, color='yellow')\n",
    "ax2.set_title('Neutral texts')\n",
    "\n",
    "avg_tokens= dataset[dataset['label_num'] == 1]['text'].str.split().apply(lambda token : [len(char) for char in token]).map(lambda x: np.mean(x))\n",
    "sns.histplot(avg_tokens, ax=ax3, color='green')\n",
    "ax3.set_title('Positive texts')\n",
    "\n",
    "fig.suptitle('Average token length in each text')\n",
    "plt.show()"
   ]
  },
  {
   "attachments": {},
   "cell_type": "markdown",
   "id": "16bdfd0a",
   "metadata": {},
   "source": [
    "The distribution of both seems to be almost same. `4 tokens` in a texts are the most common among both."
   ]
  },
  {
   "attachments": {},
   "cell_type": "markdown",
   "id": "a6dc0306",
   "metadata": {
    "papermill": {
     "duration": 0.009996,
     "end_time": "2023-01-28T23:37:03.386281",
     "exception": false,
     "start_time": "2023-01-28T23:37:03.376285",
     "status": "completed"
    },
    "tags": []
   },
   "source": [
    "# 📑 _Part 2 - Data preprocessing_\n",
    "\n",
    "> In this section we'll convert the raw text (sequence of characters) into vectors (sequences of numbers).\n",
    "\n",
    "> First step, let's write a function that will split a message into its individual words and return a list. We'll also remove very common words, ('the', 'a', etc..). To do this we will take advantage of the `NLTK` library.\n"
   ]
  },
  {
   "attachments": {},
   "cell_type": "markdown",
   "id": "d9d45d47",
   "metadata": {},
   "source": [
    "**Noise Removal**\n"
   ]
  },
  {
   "cell_type": "code",
   "execution_count": 196,
   "id": "d714a1b7",
   "metadata": {},
   "outputs": [],
   "source": [
    "import nltk\n",
    "from nltk.corpus import stopwords"
   ]
  },
  {
   "attachments": {},
   "cell_type": "markdown",
   "id": "69d883db",
   "metadata": {},
   "source": [
    "**show stop words list**\n"
   ]
  },
  {
   "cell_type": "code",
   "execution_count": 197,
   "id": "4b44a5b4",
   "metadata": {},
   "outputs": [
    {
     "name": "stdout",
     "output_type": "stream",
     "text": [
      "['i', 'me', 'my', 'myself', 'we', 'our', 'ours', 'ourselves', 'you', \"you're\", \"you've\", \"you'll\", \"you'd\", 'your', 'yours', 'yourself', 'yourselves', 'he', 'him', 'his', 'himself', 'she', \"she's\", 'her', 'hers', 'herself', 'it', \"it's\", 'its', 'itself', 'they', 'them', 'their', 'theirs', 'themselves', 'what', 'which', 'who', 'whom', 'this', 'that', \"that'll\", 'these', 'those', 'am', 'is', 'are', 'was', 'were', 'be', 'been', 'being', 'have', 'has', 'had', 'having', 'do', 'does', 'did', 'doing', 'a', 'an', 'the', 'and', 'but', 'if', 'or', 'because', 'as', 'until', 'while', 'of', 'at', 'by', 'for', 'with', 'about', 'against', 'between', 'into', 'through', 'during', 'before', 'after', 'above', 'below', 'to', 'from', 'up', 'down', 'in', 'out', 'on', 'off', 'over', 'under', 'again', 'further', 'then', 'once', 'here', 'there', 'when', 'where', 'why', 'how', 'all', 'any', 'both', 'each', 'few', 'more', 'most', 'other', 'some', 'such', 'no', 'nor', 'not', 'only', 'own', 'same', 'so', 'than', 'too', 'very', 's', 't', 'can', 'will', 'just', 'don', \"don't\", 'should', \"should've\", 'now', 'd', 'll', 'm', 'o', 're', 've', 'y', 'ain', 'aren', \"aren't\", 'couldn', \"couldn't\", 'didn', \"didn't\", 'doesn', \"doesn't\", 'hadn', \"hadn't\", 'hasn', \"hasn't\", 'haven', \"haven't\", 'isn', \"isn't\", 'ma', 'mightn', \"mightn't\", 'mustn', \"mustn't\", 'needn', \"needn't\", 'shan', \"shan't\", 'shouldn', \"shouldn't\", 'wasn', \"wasn't\", 'weren', \"weren't\", 'won', \"won't\", 'wouldn', \"wouldn't\"]\n"
     ]
    }
   ],
   "source": [
    "# nltk.download('stopwords')\n",
    "stop_words= stopwords.words(\"english\")\n",
    "print(stop_words)"
   ]
  },
  {
   "attachments": {},
   "cell_type": "markdown",
   "id": "ebb66931",
   "metadata": {},
   "source": [
    "**Excluding some useful words from stop words list**|\n"
   ]
  },
  {
   "cell_type": "code",
   "execution_count": 198,
   "id": "f171c047",
   "metadata": {},
   "outputs": [
    {
     "name": "stdout",
     "output_type": "stream",
     "text": [
      "['i', 'me', 'my', 'myself', 'we', 'our', 'ours', 'ourselves', 'you', \"you're\", \"you've\", \"you'll\", \"you'd\", 'your', 'yours', 'yourself', 'yourselves', 'he', 'him', 'his', 'himself', 'she', \"she's\", 'her', 'hers', 'herself', 'it', \"it's\", 'its', 'itself', 'they', 'them', 'their', 'theirs', 'themselves', 'what', 'which', 'who', 'whom', 'this', 'that', \"that'll\", 'these', 'those', 'am', 'is', 'are', 'was', 'were', 'be', 'been', 'being', 'have', 'had', 'having', 'do', 'does', 'did', 'doing', 'a', 'an', 'the', 'and', 'but', 'if', 'or', 'because', 'as', 'until', 'while', 'of', 'at', 'by', 'for', 'with', 'about', 'against', 'between', 'into', 'through', 'during', 'before', 'after', 'above', 'below', 'to', 'from', 'up', 'down', 'in', 'out', 'on', 'off', 'over', 'under', 'again', 'further', 'then', 'once', 'here', 'there', 'when', 'where', 'why', 'how', 'all', 'any', 'both', 'each', 'few', 'more', 'most', 'other', 'some', 'such', 'nor', 'only', 'own', 'same', 'so', 'than', 'too', 'very', 's', 't', 'can', 'will', 'just', 'should', \"should've\", 'now', 'd', 'll', 'm', 'o', 're', 've', 'y', 'hasn', 'ma', 'mightn', 'shan', \"shan't\"]\n"
     ]
    }
   ],
   "source": [
    "excluding= ['againts','no' ,'not', 'don', \"don't\", 'ain', 'aren', \"aren't\", 'couldn', \"couldn't\", 'didn', \n",
    "            \"didn't\",'doesn', \"doesn't\", 'hadn', \"hadn't\", 'has', \"hasn't\", 'haven', \"haven't\", 'isn', \n",
    "            \"isn't\", 'might', \"mightn't\", 'mustn', \"mustn't\", 'needn', \"needn't\", 'shouldn', \"shouldn't\", \n",
    "            'wasn', \"wasn't\", 'weren', \"weren't\", 'won', \"won't\", 'wouldn', \"wouldn't\"]\n",
    "\n",
    "stop_words= [word for word in stop_words if word not in excluding]\n",
    "print(stop_words)"
   ]
  },
  {
   "attachments": {},
   "cell_type": "markdown",
   "id": "251d7343",
   "metadata": {},
   "source": [
    "- **split text to tokens using word_tokenize**\n",
    "\n",
    "  - function is used to split the input text into individual words and return list of strings\n"
   ]
  },
  {
   "cell_type": "code",
   "execution_count": 199,
   "id": "f6c2d9a7",
   "metadata": {},
   "outputs": [],
   "source": [
    "from nltk.tokenize import word_tokenize\n",
    "# nltk.download('punkt') "
   ]
  },
  {
   "attachments": {},
   "cell_type": "markdown",
   "id": "1f2dca83",
   "metadata": {},
   "source": [
    "- **word normalization**\n",
    "\n",
    "  - `PorterStemmer`: remove common word `endings` and suffixes, but the resulting stems may not always be actual words.\n",
    "\n",
    "  - `WordNetLemmatizer`: get `root form` of word in their dictionary definitions.\n"
   ]
  },
  {
   "cell_type": "code",
   "execution_count": 200,
   "id": "8f7591ab",
   "metadata": {},
   "outputs": [],
   "source": [
    "from nltk.stem import WordNetLemmatizer, PorterStemmer\n",
    "stemmer= PorterStemmer()    \n",
    "lemmatizer = WordNetLemmatizer()"
   ]
  },
  {
   "cell_type": "code",
   "execution_count": 201,
   "id": "2b3cfc16",
   "metadata": {
    "execution": {
     "iopub.execute_input": "2023-01-28T23:37:03.409700Z",
     "iopub.status.busy": "2023-01-28T23:37:03.408542Z",
     "iopub.status.idle": "2023-01-28T23:37:14.348161Z",
     "shell.execute_reply": "2023-01-28T23:37:14.346952Z"
    },
    "papermill": {
     "duration": 10.954406,
     "end_time": "2023-01-28T23:37:14.351057",
     "exception": false,
     "start_time": "2023-01-28T23:37:03.396651",
     "status": "completed"
    },
    "tags": []
   },
   "outputs": [],
   "source": [
    "def preprocessing_dataset(texts):\n",
    "    cleaned_texts = []  # list to include the cleaned text in.\n",
    "\n",
    "    for sent in texts: # loop on each sentence\n",
    "        filtered_sent= []\n",
    "        tokens= word_tokenize(sent.lower())\n",
    "        \n",
    "        for token in tokens: # loop on each token from sentence\n",
    "            # check if it's not numeric and its length > 2 and not in stop words\n",
    "            if (not token.isnumeric()) and (len(token) > 2) and (token not in stop_words):\n",
    "                filtered_sent.append(stemmer.stem(token) and lemmatizer.lemmatize(token))\n",
    "                \n",
    "        # convert tokens to text\n",
    "        text= \" \".join(filtered_sent) # string of cleaned words \n",
    "        cleaned_texts.append(text)\n",
    "    \n",
    "    return cleaned_texts"
   ]
  },
  {
   "attachments": {},
   "cell_type": "markdown",
   "id": "7082fc9a",
   "metadata": {},
   "source": [
    "**dataset train**\n"
   ]
  },
  {
   "cell_type": "code",
   "execution_count": 202,
   "id": "28d09fe0",
   "metadata": {},
   "outputs": [
    {
     "data": {
      "text/html": [
       "<div>\n",
       "<style scoped>\n",
       "    .dataframe tbody tr th:only-of-type {\n",
       "        vertical-align: middle;\n",
       "    }\n",
       "\n",
       "    .dataframe tbody tr th {\n",
       "        vertical-align: top;\n",
       "    }\n",
       "\n",
       "    .dataframe thead th {\n",
       "        text-align: right;\n",
       "    }\n",
       "</style>\n",
       "<table border=\"1\" class=\"dataframe\">\n",
       "  <thead>\n",
       "    <tr style=\"text-align: right;\">\n",
       "      <th></th>\n",
       "      <th>text</th>\n",
       "      <th>emotion</th>\n",
       "      <th>label</th>\n",
       "      <th>label_num</th>\n",
       "      <th>no_chars</th>\n",
       "      <th>no_tokens</th>\n",
       "      <th>clean_text</th>\n",
       "    </tr>\n",
       "  </thead>\n",
       "  <tbody>\n",
       "    <tr>\n",
       "      <th>11680</th>\n",
       "      <td>i feel such an attachment to cindy her sweet f...</td>\n",
       "      <td>happy</td>\n",
       "      <td>positive</td>\n",
       "      <td>1</td>\n",
       "      <td>63</td>\n",
       "      <td>12</td>\n",
       "      <td>feel attachment cindy sweet family atticus</td>\n",
       "    </tr>\n",
       "    <tr>\n",
       "      <th>4184</th>\n",
       "      <td>im happy there are people in this world that h...</td>\n",
       "      <td>happy</td>\n",
       "      <td>positive</td>\n",
       "      <td>1</td>\n",
       "      <td>220</td>\n",
       "      <td>41</td>\n",
       "      <td>happy people world untouched mental health iss...</td>\n",
       "    </tr>\n",
       "    <tr>\n",
       "      <th>18848</th>\n",
       "      <td>i feel there is no excuse for lame invitations</td>\n",
       "      <td>sad</td>\n",
       "      <td>negative</td>\n",
       "      <td>-1</td>\n",
       "      <td>46</td>\n",
       "      <td>9</td>\n",
       "      <td>feel excuse lame invitation</td>\n",
       "    </tr>\n",
       "    <tr>\n",
       "      <th>14851</th>\n",
       "      <td>i feel to be the most hated myself in this world</td>\n",
       "      <td>sad</td>\n",
       "      <td>negative</td>\n",
       "      <td>-1</td>\n",
       "      <td>48</td>\n",
       "      <td>11</td>\n",
       "      <td>feel hated world</td>\n",
       "    </tr>\n",
       "    <tr>\n",
       "      <th>19747</th>\n",
       "      <td>The park is a great place to get some exercise...</td>\n",
       "      <td>neutral</td>\n",
       "      <td>neutral</td>\n",
       "      <td>0</td>\n",
       "      <td>61</td>\n",
       "      <td>13</td>\n",
       "      <td>park great place get exercise fresh air</td>\n",
       "    </tr>\n",
       "    <tr>\n",
       "      <th>4268</th>\n",
       "      <td>im getting things done that i really need to a...</td>\n",
       "      <td>happy</td>\n",
       "      <td>positive</td>\n",
       "      <td>1</td>\n",
       "      <td>69</td>\n",
       "      <td>15</td>\n",
       "      <td>getting thing done really need feel good</td>\n",
       "    </tr>\n",
       "    <tr>\n",
       "      <th>6072</th>\n",
       "      <td>i feel so impatient and sometimes i feel thank...</td>\n",
       "      <td>angry</td>\n",
       "      <td>negative</td>\n",
       "      <td>-1</td>\n",
       "      <td>105</td>\n",
       "      <td>21</td>\n",
       "      <td>feel impatient sometimes feel thankful god gav...</td>\n",
       "    </tr>\n",
       "    <tr>\n",
       "      <th>2523</th>\n",
       "      <td>i had a secretary called fran who had landed f...</td>\n",
       "      <td>sad</td>\n",
       "      <td>negative</td>\n",
       "      <td>-1</td>\n",
       "      <td>191</td>\n",
       "      <td>38</td>\n",
       "      <td>secretary called fran landed dublin whim much ...</td>\n",
       "    </tr>\n",
       "    <tr>\n",
       "      <th>19800</th>\n",
       "      <td>I'mfeeling content with my current level of pr...</td>\n",
       "      <td>neutral</td>\n",
       "      <td>neutral</td>\n",
       "      <td>0</td>\n",
       "      <td>57</td>\n",
       "      <td>8</td>\n",
       "      <td>i'mfeeling content current level productivity</td>\n",
       "    </tr>\n",
       "    <tr>\n",
       "      <th>659</th>\n",
       "      <td>i feel more than honoured to be part of this s...</td>\n",
       "      <td>happy</td>\n",
       "      <td>positive</td>\n",
       "      <td>1</td>\n",
       "      <td>134</td>\n",
       "      <td>25</td>\n",
       "      <td>feel honoured part series join wonderful talen...</td>\n",
       "    </tr>\n",
       "  </tbody>\n",
       "</table>\n",
       "</div>"
      ],
      "text/plain": [
       "                                                    text  emotion     label   \n",
       "11680  i feel such an attachment to cindy her sweet f...    happy  positive  \\\n",
       "4184   im happy there are people in this world that h...    happy  positive   \n",
       "18848     i feel there is no excuse for lame invitations      sad  negative   \n",
       "14851   i feel to be the most hated myself in this world      sad  negative   \n",
       "19747  The park is a great place to get some exercise...  neutral   neutral   \n",
       "4268   im getting things done that i really need to a...    happy  positive   \n",
       "6072   i feel so impatient and sometimes i feel thank...    angry  negative   \n",
       "2523   i had a secretary called fran who had landed f...      sad  negative   \n",
       "19800  I'mfeeling content with my current level of pr...  neutral   neutral   \n",
       "659    i feel more than honoured to be part of this s...    happy  positive   \n",
       "\n",
       "       label_num  no_chars  no_tokens   \n",
       "11680          1        63         12  \\\n",
       "4184           1       220         41   \n",
       "18848         -1        46          9   \n",
       "14851         -1        48         11   \n",
       "19747          0        61         13   \n",
       "4268           1        69         15   \n",
       "6072          -1       105         21   \n",
       "2523          -1       191         38   \n",
       "19800          0        57          8   \n",
       "659            1       134         25   \n",
       "\n",
       "                                              clean_text  \n",
       "11680         feel attachment cindy sweet family atticus  \n",
       "4184   happy people world untouched mental health iss...  \n",
       "18848                        feel excuse lame invitation  \n",
       "14851                                   feel hated world  \n",
       "19747            park great place get exercise fresh air  \n",
       "4268            getting thing done really need feel good  \n",
       "6072   feel impatient sometimes feel thankful god gav...  \n",
       "2523   secretary called fran landed dublin whim much ...  \n",
       "19800      i'mfeeling content current level productivity  \n",
       "659    feel honoured part series join wonderful talen...  "
      ]
     },
     "execution_count": 202,
     "metadata": {},
     "output_type": "execute_result"
    }
   ],
   "source": [
    "# cleaning the training text\n",
    "dataset['clean_text'] = preprocessing_dataset(dataset['text'].values)\n",
    "dataset.sample(10)"
   ]
  },
  {
   "attachments": {},
   "cell_type": "markdown",
   "id": "6e010c82",
   "metadata": {},
   "source": [
    "> split dataset to train and test"
   ]
  },
  {
   "cell_type": "code",
   "execution_count": 203,
   "id": "a0e07ec0",
   "metadata": {},
   "outputs": [],
   "source": [
    "from sklearn.model_selection import train_test_split"
   ]
  },
  {
   "cell_type": "code",
   "execution_count": 204,
   "id": "7928cba8",
   "metadata": {},
   "outputs": [],
   "source": [
    "X = dataset['clean_text']\n",
    "y = dataset['label_num']"
   ]
  },
  {
   "cell_type": "code",
   "execution_count": 205,
   "id": "c848b95b",
   "metadata": {},
   "outputs": [],
   "source": [
    "X_train, X_test, y_train, y_test= train_test_split(X, y, test_size=0.15, shuffle=True)"
   ]
  },
  {
   "cell_type": "code",
   "execution_count": 206,
   "id": "1cc07182",
   "metadata": {},
   "outputs": [
    {
     "name": "stdout",
     "output_type": "stream",
     "text": [
      "X_train is (27165,)\n",
      "X_test is (4794,)\n",
      "y_train is (27165,)\n",
      "y_test is (4794,)\n"
     ]
    }
   ],
   "source": [
    "print(f\"X_train is {X_train.shape}\")\n",
    "print(f\"X_test is {X_test.shape}\")\n",
    "print(f\"y_train is {y_train.shape}\")\n",
    "print(f\"y_test is {y_test.shape}\")"
   ]
  },
  {
   "attachments": {},
   "cell_type": "markdown",
   "id": "8578910a",
   "metadata": {},
   "source": [
    "> we split dataset to `85% for traning` and `15% for testing`."
   ]
  },
  {
   "attachments": {},
   "cell_type": "markdown",
   "id": "4b3577f1",
   "metadata": {
    "papermill": {
     "duration": 0.01003,
     "end_time": "2023-01-28T23:37:16.405924",
     "exception": false,
     "start_time": "2023-01-28T23:37:16.395894",
     "status": "completed"
    },
    "tags": []
   },
   "source": [
    "\n",
    "\n",
    "# 🧮 Part 3 - Build Pipline"
   ]
  },
  {
   "attachments": {},
   "cell_type": "markdown",
   "id": "5c8b6047",
   "metadata": {},
   "source": [
    "> Build the pipeline\n",
    "\n",
    "  - makes it easier to `train` and `evaluate` the model\n",
    "\n",
    "  - which allows you to `reuse same preprocessing`\n",
    "\n",
    "  - `reuse same modeling` steps on new data\n",
    "\n",
    "  - `without retrain` the preprocessing steps\n"
   ]
  },
  {
   "cell_type": "code",
   "execution_count": 207,
   "id": "3a856215",
   "metadata": {},
   "outputs": [],
   "source": [
    "from sklearn.pipeline import Pipeline"
   ]
  },
  {
   "attachments": {},
   "cell_type": "markdown",
   "id": "8effc741",
   "metadata": {},
   "source": [
    "> Term Frequency Inverse Document Frequency (TFIDF)\n",
    "\n",
    "  - We can perform `feature extraction` using the `TfidfVectorizer` class from the scikit-learn library.\n",
    "\n",
    "  - gives less importance to common words and more importance to rare words that appear in a few documents.\n"
   ]
  },
  {
   "cell_type": "code",
   "execution_count": 208,
   "id": "a8c670a9",
   "metadata": {},
   "outputs": [],
   "source": [
    "from sklearn.feature_extraction.text import TfidfVectorizer"
   ]
  },
  {
   "attachments": {},
   "cell_type": "markdown",
   "id": "f5c6b272",
   "metadata": {},
   "source": [
    "> Naive bayes classifier\n",
    "\n",
    "  + we can perform `traning` for model using `Naive bayes classifier` which is fast and simple.\n"
   ]
  },
  {
   "cell_type": "code",
   "execution_count": 209,
   "id": "1d989972",
   "metadata": {},
   "outputs": [],
   "source": [
    "from sklearn.naive_bayes import MultinomialNB"
   ]
  },
  {
   "attachments": {},
   "cell_type": "markdown",
   "id": "43e791c8",
   "metadata": {},
   "source": [
    "**define pipeline with the TfidfVectorizer and Naive Bayes classifier**\n"
   ]
  },
  {
   "cell_type": "code",
   "execution_count": 210,
   "id": "b20ebefe",
   "metadata": {},
   "outputs": [],
   "source": [
    "pipeline = Pipeline([\n",
    "    ('tfidf', TfidfVectorizer()),\n",
    "    ('nb', MultinomialNB())\n",
    "])"
   ]
  },
  {
   "attachments": {},
   "cell_type": "markdown",
   "id": "9041d095",
   "metadata": {},
   "source": [
    "> randomized search\n",
    "\n",
    "  + help improve the model's performance by finding the `best hyperparameters` for the TFIDF and Naive Bayes.\n"
   ]
  },
  {
   "cell_type": "code",
   "execution_count": 211,
   "id": "783a3a74",
   "metadata": {},
   "outputs": [],
   "source": [
    "from sklearn.model_selection import RandomizedSearchCV"
   ]
  },
  {
   "attachments": {},
   "cell_type": "markdown",
   "id": "1872dd5b",
   "metadata": {},
   "source": [
    "**define new parameters with different values to get the best hyperparameters**\n"
   ]
  },
  {
   "cell_type": "code",
   "execution_count": 212,
   "id": "d15727a7",
   "metadata": {},
   "outputs": [],
   "source": [
    "params = {\n",
    "    # determines the range of n-grams to be used for tokenization.\n",
    "    # (1, 2) consider unigrams and bigrams\n",
    "    'tfidf__ngram_range': [(1, 1), (1, 2), (2, 2)],\n",
    "    # minimum document frequency of a term in the corpus\n",
    "    # increasing the value of \"max_df\" to exclude terms that appear too frequently in the corpus.\n",
    "    'tfidf__max_df': [0.5, 0.75, 1.0],\n",
    "    # maximum document frequency of a term in the corpus\n",
    "    # decreasing the value of \"min_df\" to allow more terms to be included,\n",
    "    'tfidf__min_df': [1, 2, 3],\n",
    "    'nb__alpha': [0.1, 0.5, 1.0]\n",
    "}"
   ]
  },
  {
   "attachments": {},
   "cell_type": "markdown",
   "id": "1403f88b",
   "metadata": {},
   "source": [
    "**define randomized search**\n"
   ]
  },
  {
   "cell_type": "code",
   "execution_count": 213,
   "id": "93002487",
   "metadata": {},
   "outputs": [],
   "source": [
    "random_search = RandomizedSearchCV(pipeline,\n",
    "                                   param_distributions=params,  # parameters grid  \n",
    "                                   n_iter=25,   # number of iteration\n",
    "                                   # 10 > 82%\n",
    "                                   # 15 > 85%\n",
    "                                   # 20 > 87%\n",
    "                                   # 25 > 93%\n",
    "                                   cv=5)    # Cross-validation to evaluate the model's performance\n"
   ]
  },
  {
   "attachments": {},
   "cell_type": "markdown",
   "id": "f5cf78c9",
   "metadata": {},
   "source": [
    "**fit randomized search on training data and labels.**\n"
   ]
  },
  {
   "cell_type": "code",
   "execution_count": 214,
   "id": "85b5ce14",
   "metadata": {},
   "outputs": [
    {
     "data": {
      "text/html": [
       "<style>#sk-container-id-5 {color: black;background-color: white;}#sk-container-id-5 pre{padding: 0;}#sk-container-id-5 div.sk-toggleable {background-color: white;}#sk-container-id-5 label.sk-toggleable__label {cursor: pointer;display: block;width: 100%;margin-bottom: 0;padding: 0.3em;box-sizing: border-box;text-align: center;}#sk-container-id-5 label.sk-toggleable__label-arrow:before {content: \"▸\";float: left;margin-right: 0.25em;color: #696969;}#sk-container-id-5 label.sk-toggleable__label-arrow:hover:before {color: black;}#sk-container-id-5 div.sk-estimator:hover label.sk-toggleable__label-arrow:before {color: black;}#sk-container-id-5 div.sk-toggleable__content {max-height: 0;max-width: 0;overflow: hidden;text-align: left;background-color: #f0f8ff;}#sk-container-id-5 div.sk-toggleable__content pre {margin: 0.2em;color: black;border-radius: 0.25em;background-color: #f0f8ff;}#sk-container-id-5 input.sk-toggleable__control:checked~div.sk-toggleable__content {max-height: 200px;max-width: 100%;overflow: auto;}#sk-container-id-5 input.sk-toggleable__control:checked~label.sk-toggleable__label-arrow:before {content: \"▾\";}#sk-container-id-5 div.sk-estimator input.sk-toggleable__control:checked~label.sk-toggleable__label {background-color: #d4ebff;}#sk-container-id-5 div.sk-label input.sk-toggleable__control:checked~label.sk-toggleable__label {background-color: #d4ebff;}#sk-container-id-5 input.sk-hidden--visually {border: 0;clip: rect(1px 1px 1px 1px);clip: rect(1px, 1px, 1px, 1px);height: 1px;margin: -1px;overflow: hidden;padding: 0;position: absolute;width: 1px;}#sk-container-id-5 div.sk-estimator {font-family: monospace;background-color: #f0f8ff;border: 1px dotted black;border-radius: 0.25em;box-sizing: border-box;margin-bottom: 0.5em;}#sk-container-id-5 div.sk-estimator:hover {background-color: #d4ebff;}#sk-container-id-5 div.sk-parallel-item::after {content: \"\";width: 100%;border-bottom: 1px solid gray;flex-grow: 1;}#sk-container-id-5 div.sk-label:hover label.sk-toggleable__label {background-color: #d4ebff;}#sk-container-id-5 div.sk-serial::before {content: \"\";position: absolute;border-left: 1px solid gray;box-sizing: border-box;top: 0;bottom: 0;left: 50%;z-index: 0;}#sk-container-id-5 div.sk-serial {display: flex;flex-direction: column;align-items: center;background-color: white;padding-right: 0.2em;padding-left: 0.2em;position: relative;}#sk-container-id-5 div.sk-item {position: relative;z-index: 1;}#sk-container-id-5 div.sk-parallel {display: flex;align-items: stretch;justify-content: center;background-color: white;position: relative;}#sk-container-id-5 div.sk-item::before, #sk-container-id-5 div.sk-parallel-item::before {content: \"\";position: absolute;border-left: 1px solid gray;box-sizing: border-box;top: 0;bottom: 0;left: 50%;z-index: -1;}#sk-container-id-5 div.sk-parallel-item {display: flex;flex-direction: column;z-index: 1;position: relative;background-color: white;}#sk-container-id-5 div.sk-parallel-item:first-child::after {align-self: flex-end;width: 50%;}#sk-container-id-5 div.sk-parallel-item:last-child::after {align-self: flex-start;width: 50%;}#sk-container-id-5 div.sk-parallel-item:only-child::after {width: 0;}#sk-container-id-5 div.sk-dashed-wrapped {border: 1px dashed gray;margin: 0 0.4em 0.5em 0.4em;box-sizing: border-box;padding-bottom: 0.4em;background-color: white;}#sk-container-id-5 div.sk-label label {font-family: monospace;font-weight: bold;display: inline-block;line-height: 1.2em;}#sk-container-id-5 div.sk-label-container {text-align: center;}#sk-container-id-5 div.sk-container {/* jupyter's `normalize.less` sets `[hidden] { display: none; }` but bootstrap.min.css set `[hidden] { display: none !important; }` so we also need the `!important` here to be able to override the default hidden behavior on the sphinx rendered scikit-learn.org. See: https://github.com/scikit-learn/scikit-learn/issues/21755 */display: inline-block !important;position: relative;}#sk-container-id-5 div.sk-text-repr-fallback {display: none;}</style><div id=\"sk-container-id-5\" class=\"sk-top-container\"><div class=\"sk-text-repr-fallback\"><pre>RandomizedSearchCV(cv=5,\n",
       "                   estimator=Pipeline(steps=[(&#x27;tfidf&#x27;, TfidfVectorizer()),\n",
       "                                             (&#x27;nb&#x27;, MultinomialNB())]),\n",
       "                   n_iter=25,\n",
       "                   param_distributions={&#x27;nb__alpha&#x27;: [0.1, 0.5, 1.0],\n",
       "                                        &#x27;tfidf__max_df&#x27;: [0.5, 0.75, 1.0],\n",
       "                                        &#x27;tfidf__min_df&#x27;: [1, 2, 3],\n",
       "                                        &#x27;tfidf__ngram_range&#x27;: [(1, 1), (1, 2),\n",
       "                                                               (2, 2)]})</pre><b>In a Jupyter environment, please rerun this cell to show the HTML representation or trust the notebook. <br />On GitHub, the HTML representation is unable to render, please try loading this page with nbviewer.org.</b></div><div class=\"sk-container\" hidden><div class=\"sk-item sk-dashed-wrapped\"><div class=\"sk-label-container\"><div class=\"sk-label sk-toggleable\"><input class=\"sk-toggleable__control sk-hidden--visually\" id=\"sk-estimator-id-15\" type=\"checkbox\" ><label for=\"sk-estimator-id-15\" class=\"sk-toggleable__label sk-toggleable__label-arrow\">RandomizedSearchCV</label><div class=\"sk-toggleable__content\"><pre>RandomizedSearchCV(cv=5,\n",
       "                   estimator=Pipeline(steps=[(&#x27;tfidf&#x27;, TfidfVectorizer()),\n",
       "                                             (&#x27;nb&#x27;, MultinomialNB())]),\n",
       "                   n_iter=25,\n",
       "                   param_distributions={&#x27;nb__alpha&#x27;: [0.1, 0.5, 1.0],\n",
       "                                        &#x27;tfidf__max_df&#x27;: [0.5, 0.75, 1.0],\n",
       "                                        &#x27;tfidf__min_df&#x27;: [1, 2, 3],\n",
       "                                        &#x27;tfidf__ngram_range&#x27;: [(1, 1), (1, 2),\n",
       "                                                               (2, 2)]})</pre></div></div></div><div class=\"sk-parallel\"><div class=\"sk-parallel-item\"><div class=\"sk-item\"><div class=\"sk-label-container\"><div class=\"sk-label sk-toggleable\"><input class=\"sk-toggleable__control sk-hidden--visually\" id=\"sk-estimator-id-16\" type=\"checkbox\" ><label for=\"sk-estimator-id-16\" class=\"sk-toggleable__label sk-toggleable__label-arrow\">estimator: Pipeline</label><div class=\"sk-toggleable__content\"><pre>Pipeline(steps=[(&#x27;tfidf&#x27;, TfidfVectorizer()), (&#x27;nb&#x27;, MultinomialNB())])</pre></div></div></div><div class=\"sk-serial\"><div class=\"sk-item\"><div class=\"sk-serial\"><div class=\"sk-item\"><div class=\"sk-estimator sk-toggleable\"><input class=\"sk-toggleable__control sk-hidden--visually\" id=\"sk-estimator-id-17\" type=\"checkbox\" ><label for=\"sk-estimator-id-17\" class=\"sk-toggleable__label sk-toggleable__label-arrow\">TfidfVectorizer</label><div class=\"sk-toggleable__content\"><pre>TfidfVectorizer()</pre></div></div></div><div class=\"sk-item\"><div class=\"sk-estimator sk-toggleable\"><input class=\"sk-toggleable__control sk-hidden--visually\" id=\"sk-estimator-id-18\" type=\"checkbox\" ><label for=\"sk-estimator-id-18\" class=\"sk-toggleable__label sk-toggleable__label-arrow\">MultinomialNB</label><div class=\"sk-toggleable__content\"><pre>MultinomialNB()</pre></div></div></div></div></div></div></div></div></div></div></div></div>"
      ],
      "text/plain": [
       "RandomizedSearchCV(cv=5,\n",
       "                   estimator=Pipeline(steps=[('tfidf', TfidfVectorizer()),\n",
       "                                             ('nb', MultinomialNB())]),\n",
       "                   n_iter=25,\n",
       "                   param_distributions={'nb__alpha': [0.1, 0.5, 1.0],\n",
       "                                        'tfidf__max_df': [0.5, 0.75, 1.0],\n",
       "                                        'tfidf__min_df': [1, 2, 3],\n",
       "                                        'tfidf__ngram_range': [(1, 1), (1, 2),\n",
       "                                                               (2, 2)]})"
      ]
     },
     "execution_count": 214,
     "metadata": {},
     "output_type": "execute_result"
    }
   ],
   "source": [
    "random_search.fit(X_train, y_train)"
   ]
  },
  {
   "attachments": {},
   "cell_type": "markdown",
   "id": "1e58cff5",
   "metadata": {},
   "source": [
    "- **params for number of iteration**\n"
   ]
  },
  {
   "cell_type": "code",
   "execution_count": 215,
   "id": "d1ef46ed",
   "metadata": {},
   "outputs": [
    {
     "data": {
      "text/html": [
       "<div>\n",
       "<style scoped>\n",
       "    .dataframe tbody tr th:only-of-type {\n",
       "        vertical-align: middle;\n",
       "    }\n",
       "\n",
       "    .dataframe tbody tr th {\n",
       "        vertical-align: top;\n",
       "    }\n",
       "\n",
       "    .dataframe thead th {\n",
       "        text-align: right;\n",
       "    }\n",
       "</style>\n",
       "<table border=\"1\" class=\"dataframe\">\n",
       "  <thead>\n",
       "    <tr style=\"text-align: right;\">\n",
       "      <th></th>\n",
       "      <th>params</th>\n",
       "    </tr>\n",
       "  </thead>\n",
       "  <tbody>\n",
       "    <tr>\n",
       "      <th>0</th>\n",
       "      <td>{'tfidf__ngram_range': (2, 2), 'tfidf__min_df'...</td>\n",
       "    </tr>\n",
       "    <tr>\n",
       "      <th>1</th>\n",
       "      <td>{'tfidf__ngram_range': (1, 1), 'tfidf__min_df'...</td>\n",
       "    </tr>\n",
       "    <tr>\n",
       "      <th>2</th>\n",
       "      <td>{'tfidf__ngram_range': (1, 1), 'tfidf__min_df'...</td>\n",
       "    </tr>\n",
       "    <tr>\n",
       "      <th>3</th>\n",
       "      <td>{'tfidf__ngram_range': (2, 2), 'tfidf__min_df'...</td>\n",
       "    </tr>\n",
       "    <tr>\n",
       "      <th>4</th>\n",
       "      <td>{'tfidf__ngram_range': (1, 1), 'tfidf__min_df'...</td>\n",
       "    </tr>\n",
       "    <tr>\n",
       "      <th>5</th>\n",
       "      <td>{'tfidf__ngram_range': (2, 2), 'tfidf__min_df'...</td>\n",
       "    </tr>\n",
       "    <tr>\n",
       "      <th>6</th>\n",
       "      <td>{'tfidf__ngram_range': (2, 2), 'tfidf__min_df'...</td>\n",
       "    </tr>\n",
       "    <tr>\n",
       "      <th>7</th>\n",
       "      <td>{'tfidf__ngram_range': (1, 2), 'tfidf__min_df'...</td>\n",
       "    </tr>\n",
       "    <tr>\n",
       "      <th>8</th>\n",
       "      <td>{'tfidf__ngram_range': (1, 2), 'tfidf__min_df'...</td>\n",
       "    </tr>\n",
       "    <tr>\n",
       "      <th>9</th>\n",
       "      <td>{'tfidf__ngram_range': (1, 1), 'tfidf__min_df'...</td>\n",
       "    </tr>\n",
       "    <tr>\n",
       "      <th>10</th>\n",
       "      <td>{'tfidf__ngram_range': (1, 2), 'tfidf__min_df'...</td>\n",
       "    </tr>\n",
       "    <tr>\n",
       "      <th>11</th>\n",
       "      <td>{'tfidf__ngram_range': (2, 2), 'tfidf__min_df'...</td>\n",
       "    </tr>\n",
       "    <tr>\n",
       "      <th>12</th>\n",
       "      <td>{'tfidf__ngram_range': (2, 2), 'tfidf__min_df'...</td>\n",
       "    </tr>\n",
       "    <tr>\n",
       "      <th>13</th>\n",
       "      <td>{'tfidf__ngram_range': (1, 1), 'tfidf__min_df'...</td>\n",
       "    </tr>\n",
       "    <tr>\n",
       "      <th>14</th>\n",
       "      <td>{'tfidf__ngram_range': (1, 2), 'tfidf__min_df'...</td>\n",
       "    </tr>\n",
       "    <tr>\n",
       "      <th>15</th>\n",
       "      <td>{'tfidf__ngram_range': (2, 2), 'tfidf__min_df'...</td>\n",
       "    </tr>\n",
       "    <tr>\n",
       "      <th>16</th>\n",
       "      <td>{'tfidf__ngram_range': (1, 2), 'tfidf__min_df'...</td>\n",
       "    </tr>\n",
       "    <tr>\n",
       "      <th>17</th>\n",
       "      <td>{'tfidf__ngram_range': (2, 2), 'tfidf__min_df'...</td>\n",
       "    </tr>\n",
       "    <tr>\n",
       "      <th>18</th>\n",
       "      <td>{'tfidf__ngram_range': (1, 2), 'tfidf__min_df'...</td>\n",
       "    </tr>\n",
       "    <tr>\n",
       "      <th>19</th>\n",
       "      <td>{'tfidf__ngram_range': (1, 2), 'tfidf__min_df'...</td>\n",
       "    </tr>\n",
       "    <tr>\n",
       "      <th>20</th>\n",
       "      <td>{'tfidf__ngram_range': (2, 2), 'tfidf__min_df'...</td>\n",
       "    </tr>\n",
       "    <tr>\n",
       "      <th>21</th>\n",
       "      <td>{'tfidf__ngram_range': (1, 2), 'tfidf__min_df'...</td>\n",
       "    </tr>\n",
       "    <tr>\n",
       "      <th>22</th>\n",
       "      <td>{'tfidf__ngram_range': (2, 2), 'tfidf__min_df'...</td>\n",
       "    </tr>\n",
       "    <tr>\n",
       "      <th>23</th>\n",
       "      <td>{'tfidf__ngram_range': (2, 2), 'tfidf__min_df'...</td>\n",
       "    </tr>\n",
       "    <tr>\n",
       "      <th>24</th>\n",
       "      <td>{'tfidf__ngram_range': (1, 1), 'tfidf__min_df'...</td>\n",
       "    </tr>\n",
       "  </tbody>\n",
       "</table>\n",
       "</div>"
      ],
      "text/plain": [
       "                                               params\n",
       "0   {'tfidf__ngram_range': (2, 2), 'tfidf__min_df'...\n",
       "1   {'tfidf__ngram_range': (1, 1), 'tfidf__min_df'...\n",
       "2   {'tfidf__ngram_range': (1, 1), 'tfidf__min_df'...\n",
       "3   {'tfidf__ngram_range': (2, 2), 'tfidf__min_df'...\n",
       "4   {'tfidf__ngram_range': (1, 1), 'tfidf__min_df'...\n",
       "5   {'tfidf__ngram_range': (2, 2), 'tfidf__min_df'...\n",
       "6   {'tfidf__ngram_range': (2, 2), 'tfidf__min_df'...\n",
       "7   {'tfidf__ngram_range': (1, 2), 'tfidf__min_df'...\n",
       "8   {'tfidf__ngram_range': (1, 2), 'tfidf__min_df'...\n",
       "9   {'tfidf__ngram_range': (1, 1), 'tfidf__min_df'...\n",
       "10  {'tfidf__ngram_range': (1, 2), 'tfidf__min_df'...\n",
       "11  {'tfidf__ngram_range': (2, 2), 'tfidf__min_df'...\n",
       "12  {'tfidf__ngram_range': (2, 2), 'tfidf__min_df'...\n",
       "13  {'tfidf__ngram_range': (1, 1), 'tfidf__min_df'...\n",
       "14  {'tfidf__ngram_range': (1, 2), 'tfidf__min_df'...\n",
       "15  {'tfidf__ngram_range': (2, 2), 'tfidf__min_df'...\n",
       "16  {'tfidf__ngram_range': (1, 2), 'tfidf__min_df'...\n",
       "17  {'tfidf__ngram_range': (2, 2), 'tfidf__min_df'...\n",
       "18  {'tfidf__ngram_range': (1, 2), 'tfidf__min_df'...\n",
       "19  {'tfidf__ngram_range': (1, 2), 'tfidf__min_df'...\n",
       "20  {'tfidf__ngram_range': (2, 2), 'tfidf__min_df'...\n",
       "21  {'tfidf__ngram_range': (1, 2), 'tfidf__min_df'...\n",
       "22  {'tfidf__ngram_range': (2, 2), 'tfidf__min_df'...\n",
       "23  {'tfidf__ngram_range': (2, 2), 'tfidf__min_df'...\n",
       "24  {'tfidf__ngram_range': (1, 1), 'tfidf__min_df'..."
      ]
     },
     "execution_count": 215,
     "metadata": {},
     "output_type": "execute_result"
    }
   ],
   "source": [
    "pd.DataFrame(random_search.cv_results_)[[\"params\"]]"
   ]
  },
  {
   "attachments": {},
   "cell_type": "markdown",
   "id": "3d305c76",
   "metadata": {},
   "source": [
    "- **best hyperparameters and score**\n",
    "\n",
    "  - by the random search object can be accessed using:\n",
    "\n",
    "  - the best*params* attribute\n",
    "\n",
    "  - The best*score* attribute\n"
   ]
  },
  {
   "cell_type": "code",
   "execution_count": 216,
   "id": "781176eb",
   "metadata": {},
   "outputs": [
    {
     "name": "stdout",
     "output_type": "stream",
     "text": [
      "Best parameters: {'tfidf__ngram_range': (1, 2), 'tfidf__min_df': 1, 'tfidf__max_df': 0.5, 'nb__alpha': 1.0}\n",
      "Best score: 92%\n"
     ]
    }
   ],
   "source": [
    "print(f\"Best parameters: {random_search.best_params_}\")\n",
    "print(f\"Best score: {round(random_search.best_score_*100)}%\")"
   ]
  },
  {
   "attachments": {},
   "cell_type": "markdown",
   "id": "cb3a2234",
   "metadata": {},
   "source": [
    "# 🤖 Part 4 - Traning machine learning model\n",
    "\n",
    "- we can train the Naive Bayes model on the training data and labels\n",
    "  using the pipeline with the best hyperparameters.\n"
   ]
  },
  {
   "cell_type": "code",
   "execution_count": 217,
   "id": "334e9141",
   "metadata": {},
   "outputs": [
    {
     "data": {
      "text/html": [
       "<style>#sk-container-id-6 {color: black;background-color: white;}#sk-container-id-6 pre{padding: 0;}#sk-container-id-6 div.sk-toggleable {background-color: white;}#sk-container-id-6 label.sk-toggleable__label {cursor: pointer;display: block;width: 100%;margin-bottom: 0;padding: 0.3em;box-sizing: border-box;text-align: center;}#sk-container-id-6 label.sk-toggleable__label-arrow:before {content: \"▸\";float: left;margin-right: 0.25em;color: #696969;}#sk-container-id-6 label.sk-toggleable__label-arrow:hover:before {color: black;}#sk-container-id-6 div.sk-estimator:hover label.sk-toggleable__label-arrow:before {color: black;}#sk-container-id-6 div.sk-toggleable__content {max-height: 0;max-width: 0;overflow: hidden;text-align: left;background-color: #f0f8ff;}#sk-container-id-6 div.sk-toggleable__content pre {margin: 0.2em;color: black;border-radius: 0.25em;background-color: #f0f8ff;}#sk-container-id-6 input.sk-toggleable__control:checked~div.sk-toggleable__content {max-height: 200px;max-width: 100%;overflow: auto;}#sk-container-id-6 input.sk-toggleable__control:checked~label.sk-toggleable__label-arrow:before {content: \"▾\";}#sk-container-id-6 div.sk-estimator input.sk-toggleable__control:checked~label.sk-toggleable__label {background-color: #d4ebff;}#sk-container-id-6 div.sk-label input.sk-toggleable__control:checked~label.sk-toggleable__label {background-color: #d4ebff;}#sk-container-id-6 input.sk-hidden--visually {border: 0;clip: rect(1px 1px 1px 1px);clip: rect(1px, 1px, 1px, 1px);height: 1px;margin: -1px;overflow: hidden;padding: 0;position: absolute;width: 1px;}#sk-container-id-6 div.sk-estimator {font-family: monospace;background-color: #f0f8ff;border: 1px dotted black;border-radius: 0.25em;box-sizing: border-box;margin-bottom: 0.5em;}#sk-container-id-6 div.sk-estimator:hover {background-color: #d4ebff;}#sk-container-id-6 div.sk-parallel-item::after {content: \"\";width: 100%;border-bottom: 1px solid gray;flex-grow: 1;}#sk-container-id-6 div.sk-label:hover label.sk-toggleable__label {background-color: #d4ebff;}#sk-container-id-6 div.sk-serial::before {content: \"\";position: absolute;border-left: 1px solid gray;box-sizing: border-box;top: 0;bottom: 0;left: 50%;z-index: 0;}#sk-container-id-6 div.sk-serial {display: flex;flex-direction: column;align-items: center;background-color: white;padding-right: 0.2em;padding-left: 0.2em;position: relative;}#sk-container-id-6 div.sk-item {position: relative;z-index: 1;}#sk-container-id-6 div.sk-parallel {display: flex;align-items: stretch;justify-content: center;background-color: white;position: relative;}#sk-container-id-6 div.sk-item::before, #sk-container-id-6 div.sk-parallel-item::before {content: \"\";position: absolute;border-left: 1px solid gray;box-sizing: border-box;top: 0;bottom: 0;left: 50%;z-index: -1;}#sk-container-id-6 div.sk-parallel-item {display: flex;flex-direction: column;z-index: 1;position: relative;background-color: white;}#sk-container-id-6 div.sk-parallel-item:first-child::after {align-self: flex-end;width: 50%;}#sk-container-id-6 div.sk-parallel-item:last-child::after {align-self: flex-start;width: 50%;}#sk-container-id-6 div.sk-parallel-item:only-child::after {width: 0;}#sk-container-id-6 div.sk-dashed-wrapped {border: 1px dashed gray;margin: 0 0.4em 0.5em 0.4em;box-sizing: border-box;padding-bottom: 0.4em;background-color: white;}#sk-container-id-6 div.sk-label label {font-family: monospace;font-weight: bold;display: inline-block;line-height: 1.2em;}#sk-container-id-6 div.sk-label-container {text-align: center;}#sk-container-id-6 div.sk-container {/* jupyter's `normalize.less` sets `[hidden] { display: none; }` but bootstrap.min.css set `[hidden] { display: none !important; }` so we also need the `!important` here to be able to override the default hidden behavior on the sphinx rendered scikit-learn.org. See: https://github.com/scikit-learn/scikit-learn/issues/21755 */display: inline-block !important;position: relative;}#sk-container-id-6 div.sk-text-repr-fallback {display: none;}</style><div id=\"sk-container-id-6\" class=\"sk-top-container\"><div class=\"sk-text-repr-fallback\"><pre>Pipeline(steps=[(&#x27;tfidf&#x27;, TfidfVectorizer(max_df=0.5, ngram_range=(1, 2))),\n",
       "                (&#x27;nb&#x27;, MultinomialNB())])</pre><b>In a Jupyter environment, please rerun this cell to show the HTML representation or trust the notebook. <br />On GitHub, the HTML representation is unable to render, please try loading this page with nbviewer.org.</b></div><div class=\"sk-container\" hidden><div class=\"sk-item sk-dashed-wrapped\"><div class=\"sk-label-container\"><div class=\"sk-label sk-toggleable\"><input class=\"sk-toggleable__control sk-hidden--visually\" id=\"sk-estimator-id-19\" type=\"checkbox\" ><label for=\"sk-estimator-id-19\" class=\"sk-toggleable__label sk-toggleable__label-arrow\">Pipeline</label><div class=\"sk-toggleable__content\"><pre>Pipeline(steps=[(&#x27;tfidf&#x27;, TfidfVectorizer(max_df=0.5, ngram_range=(1, 2))),\n",
       "                (&#x27;nb&#x27;, MultinomialNB())])</pre></div></div></div><div class=\"sk-serial\"><div class=\"sk-item\"><div class=\"sk-estimator sk-toggleable\"><input class=\"sk-toggleable__control sk-hidden--visually\" id=\"sk-estimator-id-20\" type=\"checkbox\" ><label for=\"sk-estimator-id-20\" class=\"sk-toggleable__label sk-toggleable__label-arrow\">TfidfVectorizer</label><div class=\"sk-toggleable__content\"><pre>TfidfVectorizer(max_df=0.5, ngram_range=(1, 2))</pre></div></div></div><div class=\"sk-item\"><div class=\"sk-estimator sk-toggleable\"><input class=\"sk-toggleable__control sk-hidden--visually\" id=\"sk-estimator-id-21\" type=\"checkbox\" ><label for=\"sk-estimator-id-21\" class=\"sk-toggleable__label sk-toggleable__label-arrow\">MultinomialNB</label><div class=\"sk-toggleable__content\"><pre>MultinomialNB()</pre></div></div></div></div></div></div></div>"
      ],
      "text/plain": [
       "Pipeline(steps=[('tfidf', TfidfVectorizer(max_df=0.5, ngram_range=(1, 2))),\n",
       "                ('nb', MultinomialNB())])"
      ]
     },
     "execution_count": 217,
     "metadata": {},
     "output_type": "execute_result"
    }
   ],
   "source": [
    "best_pipeline = Pipeline([\n",
    "    ('tfidf', TfidfVectorizer(ngram_range=random_search.best_params_['tfidf__ngram_range'], \n",
    "                              max_df=random_search.best_params_['tfidf__max_df'], \n",
    "                              min_df=random_search.best_params_['tfidf__min_df'])),\n",
    "    ('nb', MultinomialNB(alpha=random_search.best_params_['nb__alpha']))\n",
    "])\n",
    "\n",
    "best_pipeline.fit(X_train, y_train)"
   ]
  },
  {
   "attachments": {},
   "cell_type": "markdown",
   "id": "ae39cf18",
   "metadata": {},
   "source": [
    "# Part 5 - Evaluation\n"
   ]
  },
  {
   "cell_type": "code",
   "execution_count": 218,
   "id": "51ebca71",
   "metadata": {},
   "outputs": [],
   "source": [
    "from sklearn.metrics import accuracy_score, confusion_matrix\n",
    "from sklearn.metrics import classification_report"
   ]
  },
  {
   "attachments": {},
   "cell_type": "markdown",
   "id": "f9d5b0eb",
   "metadata": {},
   "source": [
    "**make predictions on test data using the trained model**\n"
   ]
  },
  {
   "cell_type": "code",
   "execution_count": 219,
   "id": "0a98eec9",
   "metadata": {},
   "outputs": [],
   "source": [
    "y_pred = best_pipeline.predict(X_test)"
   ]
  },
  {
   "attachments": {},
   "cell_type": "markdown",
   "id": "95c6fab3",
   "metadata": {},
   "source": [
    "**accuracy score**\n"
   ]
  },
  {
   "cell_type": "code",
   "execution_count": 220,
   "id": "f05d3848",
   "metadata": {},
   "outputs": [
    {
     "name": "stdout",
     "output_type": "stream",
     "text": [
      "Accuracy: 93%\n"
     ]
    }
   ],
   "source": [
    "# compute accuracy score with y-test and y-predictions\n",
    "# number of correct predictions divided by the total number of predictions.\n",
    "\n",
    "accuracy = accuracy_score(y_test, y_pred)\n",
    "print(f\"Accuracy: {round(accuracy*100)}%\")"
   ]
  },
  {
   "attachments": {},
   "cell_type": "markdown",
   "id": "5d0eb9e9",
   "metadata": {},
   "source": [
    "- **classification_report**\n",
    "\n",
    "  - helps evalute the performance of a classification model by providing metrics such as\n",
    "\n",
    "  - **precision**: calculated as the ratio of true positive predictions to the total predicted positive and avoid false positives.\n",
    "\n",
    "  - **recall**: calculated as the ratio of true positive predictions to the total predicted positive and avoid false negatives\n",
    "\n",
    "  - **F1-score**: harmonic mean of precision and recall\n",
    "\n",
    "  - **support**: number of samples in class\n"
   ]
  },
  {
   "cell_type": "code",
   "execution_count": 221,
   "id": "8f764db8",
   "metadata": {},
   "outputs": [
    {
     "name": "stdout",
     "output_type": "stream",
     "text": [
      "              precision    recall  f1-score   support\n",
      "\n",
      "          -1       0.98      0.88      0.93      1598\n",
      "           0       0.87      1.00      0.93      1583\n",
      "           1       0.95      0.92      0.93      1613\n",
      "\n",
      "    accuracy                           0.93      4794\n",
      "   macro avg       0.94      0.93      0.93      4794\n",
      "weighted avg       0.94      0.93      0.93      4794\n",
      "\n"
     ]
    }
   ],
   "source": [
    "print(classification_report(y_test, y_pred))"
   ]
  },
  {
   "attachments": {},
   "cell_type": "markdown",
   "id": "b8f437ef",
   "metadata": {},
   "source": [
    "- **Confusion matrix** Table that shows the\n",
    "\n",
    "  - true positive - true negative\n",
    "\n",
    "  - false positive - false negative\n",
    "\n",
    "  - values to predict actual values and create heatmap\n"
   ]
  },
  {
   "cell_type": "code",
   "execution_count": 222,
   "id": "d694f71b",
   "metadata": {},
   "outputs": [
    {
     "name": "stdout",
     "output_type": "stream",
     "text": [
      "Confusion Matrix:\n",
      " [[1399  127   72]\n",
      " [   0 1583    0]\n",
      " [  26  110 1477]]\n"
     ]
    }
   ],
   "source": [
    "cm = confusion_matrix(y_test, y_pred)\n",
    "print(\"Confusion Matrix:\\n\", cm)"
   ]
  },
  {
   "attachments": {},
   "cell_type": "markdown",
   "id": "147c6f44",
   "metadata": {},
   "source": [
    "# Part 6 - Visualization\n"
   ]
  },
  {
   "attachments": {},
   "cell_type": "markdown",
   "id": "045097e3",
   "metadata": {},
   "source": [
    "**Heatmap of the confusion matrix**\n"
   ]
  },
  {
   "cell_type": "code",
   "execution_count": 223,
   "id": "818c5fbf",
   "metadata": {},
   "outputs": [
    {
     "data": {
      "image/png": "[encoded data removed]",
      "text/plain": [
       "<Figure size 800x600 with 2 Axes>"
      ]
     },
     "metadata": {},
     "output_type": "display_data"
    }
   ],
   "source": [
    "plt.figure(figsize = (8,6))\n",
    "sns.heatmap(cm, \n",
    "            xticklabels=labels, \n",
    "            yticklabels=labels, \n",
    "            annot=True, \n",
    "            cmap='Blues', \n",
    "            fmt='g')\n",
    "plt.xlabel('Predicted')\n",
    "plt.ylabel('True')\n",
    "plt.show()"
   ]
  },
  {
   "attachments": {},
   "cell_type": "markdown",
   "id": "ea2ea2cb",
   "metadata": {},
   "source": [
    "print message text for false positives\n"
   ]
  },
  {
   "cell_type": "code",
   "execution_count": 224,
   "id": "f18093d8",
   "metadata": {},
   "outputs": [
    {
     "name": "stdout",
     "output_type": "stream",
     "text": [
      "False Positive= 199\n"
     ]
    },
    {
     "data": {
      "text/html": [
       "<div>\n",
       "<style scoped>\n",
       "    .dataframe tbody tr th:only-of-type {\n",
       "        vertical-align: middle;\n",
       "    }\n",
       "\n",
       "    .dataframe tbody tr th {\n",
       "        vertical-align: top;\n",
       "    }\n",
       "\n",
       "    .dataframe thead th {\n",
       "        text-align: right;\n",
       "    }\n",
       "</style>\n",
       "<table border=\"1\" class=\"dataframe\">\n",
       "  <thead>\n",
       "    <tr style=\"text-align: right;\">\n",
       "      <th></th>\n",
       "      <th>clean_text</th>\n",
       "    </tr>\n",
       "  </thead>\n",
       "  <tbody>\n",
       "    <tr>\n",
       "      <th>12820</th>\n",
       "      <td>try explain feel order don think ungrateful bl...</td>\n",
       "    </tr>\n",
       "    <tr>\n",
       "      <th>6376</th>\n",
       "      <td>n't find joy disgusted</td>\n",
       "    </tr>\n",
       "    <tr>\n",
       "      <th>1657</th>\n",
       "      <td>feel answer completely sarcastic way</td>\n",
       "    </tr>\n",
       "    <tr>\n",
       "      <th>10517</th>\n",
       "      <td>'ve enough feeling surprised</td>\n",
       "    </tr>\n",
       "    <tr>\n",
       "      <th>10486</th>\n",
       "      <td>n't stand surprised anymore</td>\n",
       "    </tr>\n",
       "    <tr>\n",
       "      <th>...</th>\n",
       "      <td>...</td>\n",
       "    </tr>\n",
       "    <tr>\n",
       "      <th>16965</th>\n",
       "      <td>feel like would confused waited long time read...</td>\n",
       "    </tr>\n",
       "    <tr>\n",
       "      <th>6396</th>\n",
       "      <td>trying not neutral</td>\n",
       "    </tr>\n",
       "    <tr>\n",
       "      <th>13464</th>\n",
       "      <td>n't find joy fearful</td>\n",
       "    </tr>\n",
       "    <tr>\n",
       "      <th>17194</th>\n",
       "      <td>know core perception doesnt shift matter many ...</td>\n",
       "    </tr>\n",
       "    <tr>\n",
       "      <th>6394</th>\n",
       "      <td>find hard happy situation</td>\n",
       "    </tr>\n",
       "  </tbody>\n",
       "</table>\n",
       "<p>199 rows × 1 columns</p>\n",
       "</div>"
      ],
      "text/plain": [
       "                                              clean_text\n",
       "12820  try explain feel order don think ungrateful bl...\n",
       "6376                              n't find joy disgusted\n",
       "1657                feel answer completely sarcastic way\n",
       "10517                       've enough feeling surprised\n",
       "10486                        n't stand surprised anymore\n",
       "...                                                  ...\n",
       "16965  feel like would confused waited long time read...\n",
       "6396                                  trying not neutral\n",
       "13464                               n't find joy fearful\n",
       "17194  know core perception doesnt shift matter many ...\n",
       "6394                           find hard happy situation\n",
       "\n",
       "[199 rows x 1 columns]"
      ]
     },
     "execution_count": 224,
     "metadata": {},
     "output_type": "execute_result"
    }
   ],
   "source": [
    "# X_test[(y_pred_class == 1) & (y_test == 0)]\n",
    "print(f\"False Positive= {len(pd.DataFrame(X_test[y_pred > y_test]))}\")\n",
    "pd.DataFrame(X_test[y_pred > y_test])"
   ]
  },
  {
   "attachments": {},
   "cell_type": "markdown",
   "id": "f518d8e9",
   "metadata": {},
   "source": [
    "print message text for true negative\n"
   ]
  },
  {
   "cell_type": "code",
   "execution_count": 225,
   "id": "31b2cf4a",
   "metadata": {},
   "outputs": [
    {
     "name": "stdout",
     "output_type": "stream",
     "text": [
      "True Negative= 136\n"
     ]
    },
    {
     "data": {
      "text/html": [
       "<div>\n",
       "<style scoped>\n",
       "    .dataframe tbody tr th:only-of-type {\n",
       "        vertical-align: middle;\n",
       "    }\n",
       "\n",
       "    .dataframe tbody tr th {\n",
       "        vertical-align: top;\n",
       "    }\n",
       "\n",
       "    .dataframe thead th {\n",
       "        text-align: right;\n",
       "    }\n",
       "</style>\n",
       "<table border=\"1\" class=\"dataframe\">\n",
       "  <thead>\n",
       "    <tr style=\"text-align: right;\">\n",
       "      <th></th>\n",
       "      <th>clean_text</th>\n",
       "    </tr>\n",
       "  </thead>\n",
       "  <tbody>\n",
       "    <tr>\n",
       "      <th>2182</th>\n",
       "      <td>feeling really</td>\n",
       "    </tr>\n",
       "    <tr>\n",
       "      <th>8503</th>\n",
       "      <td>feel absolutely elegant white coat cheaper ver...</td>\n",
       "    </tr>\n",
       "    <tr>\n",
       "      <th>8682</th>\n",
       "      <td>could feel pulled evil vampire wanted suck pit...</td>\n",
       "    </tr>\n",
       "    <tr>\n",
       "      <th>6649</th>\n",
       "      <td>dislike feeling surprised</td>\n",
       "    </tr>\n",
       "    <tr>\n",
       "      <th>6436</th>\n",
       "      <td>disgusted make feel terrible</td>\n",
       "    </tr>\n",
       "    <tr>\n",
       "      <th>...</th>\n",
       "      <td>...</td>\n",
       "    </tr>\n",
       "    <tr>\n",
       "      <th>6601</th>\n",
       "      <td>absolutely not happy</td>\n",
       "    </tr>\n",
       "    <tr>\n",
       "      <th>8007</th>\n",
       "      <td>still couldnt believe much pain not feel happy...</td>\n",
       "    </tr>\n",
       "    <tr>\n",
       "      <th>3244</th>\n",
       "      <td>wish n't feel surprised time</td>\n",
       "    </tr>\n",
       "    <tr>\n",
       "      <th>1282</th>\n",
       "      <td>feel surprised didnt expect</td>\n",
       "    </tr>\n",
       "    <tr>\n",
       "      <th>10609</th>\n",
       "      <td>feel really bouncy absolutely reason head hurt...</td>\n",
       "    </tr>\n",
       "  </tbody>\n",
       "</table>\n",
       "<p>136 rows × 1 columns</p>\n",
       "</div>"
      ],
      "text/plain": [
       "                                              clean_text\n",
       "2182                                      feeling really\n",
       "8503   feel absolutely elegant white coat cheaper ver...\n",
       "8682   could feel pulled evil vampire wanted suck pit...\n",
       "6649                           dislike feeling surprised\n",
       "6436                        disgusted make feel terrible\n",
       "...                                                  ...\n",
       "6601                                absolutely not happy\n",
       "8007   still couldnt believe much pain not feel happy...\n",
       "3244                        wish n't feel surprised time\n",
       "1282                         feel surprised didnt expect\n",
       "10609  feel really bouncy absolutely reason head hurt...\n",
       "\n",
       "[136 rows x 1 columns]"
      ]
     },
     "execution_count": 225,
     "metadata": {},
     "output_type": "execute_result"
    }
   ],
   "source": [
    "# X_test[(y_pred_class == 0) & (y_test == 1)]\n",
    "print(f\"True Negative= {len(pd.DataFrame(X_test[y_pred < y_test]))}\")\n",
    "pd.DataFrame(X_test[y_pred < y_test])"
   ]
  },
  {
   "attachments": {},
   "cell_type": "markdown",
   "id": "7a3f27fb",
   "metadata": {},
   "source": [
    "# Part 7 - Save the pipline\n",
    "\n",
    "- joblib\n",
    "  - to reuse the same preprocessing steps and classifier on new data\n",
    "  - without having to redefine them each time.\n"
   ]
  },
  {
   "cell_type": "code",
   "execution_count": 226,
   "id": "a0778cff",
   "metadata": {},
   "outputs": [
    {
     "data": {
      "text/plain": [
       "['models/pipeline_tfidf_nb_30_may_2023.pkl']"
      ]
     },
     "execution_count": 226,
     "metadata": {},
     "output_type": "execute_result"
    }
   ],
   "source": [
    "import joblib\n",
    "joblib.dump(best_pipeline,r'models/pipeline_tfidf_nb_30_may_2023.pkl') "
   ]
  },
  {
   "attachments": {},
   "cell_type": "markdown",
   "id": "bab04576",
   "metadata": {},
   "source": [
    "# Part 8 - Build GUI"
   ]
  },
  {
   "cell_type": "code",
   "execution_count": null,
   "id": "36a42634",
   "metadata": {},
   "outputs": [],
   "source": [
    "import streamlit as st\n",
    "import pandas as pd\n",
    "import seaborn as sns\n",
    "import matplotlib.pyplot as plt\n",
    "import joblib\n",
    "from nltk.corpus import stopwords\n",
    "from nltk.tokenize import word_tokenize\n",
    "from nltk.stem import WordNetLemmatizer, PorterStemmer\n",
    "\n",
    "# Load the pre-trained model\n",
    "model = joblib.load('../models/pipeline_tfidf_nb_30_may_2023.pkl')\n",
    "\n",
    "# Function to preprocess the input text\n",
    "def preprocess_text(text):\n",
    "    # Load stopwords and define stemmer and lemmatizer\n",
    "    stop_words = stopwords.words(\"english\")\n",
    "    excluding = ['againts', 'not', 'don', \"don't\", 'ain', 'aren', \"aren't\", 'couldn', \"couldn't\", 'didn',\n",
    "                \"didn't\", 'doesn', \"doesn't\", 'hadn', \"hadn't\", 'has', \"hasn't\", 'haven', \"haven't\", 'isn',\n",
    "                \"isn't\", 'might', \"mightn't\", 'mustn', \"mustn't\", 'needn', \"needn't\", 'shouldn', \"shouldn't\",\n",
    "                'wasn', \"wasn't\", 'weren', \"weren't\", 'won', \"won't\", 'wouldn', \"wouldn't\"]\n",
    "\n",
    "    stop_words = [word for word in stop_words if word not in excluding]\n",
    "\n",
    "    stemmer = PorterStemmer()\n",
    "    lemmatizer = WordNetLemmatizer()\n",
    "\n",
    "    cleaned_text = []\n",
    "    tokens = word_tokenize(text.lower())\n",
    "    \n",
    "    for token in tokens:\n",
    "        if (not token.isnumeric()) and (len(token) > 2) and (token not in stop_words):\n",
    "            cleaned_text.append(stemmer.stem(token) and lemmatizer.lemmatize(token))\n",
    "            \n",
    "    cleaned_text = ' '.join(cleaned_text)\n",
    "    return cleaned_text\n",
    "\n",
    "# Function to predict the sentiment and probability\n",
    "def predict_sentiment(text):\n",
    "    preprocessed_text = preprocess_text(text)\n",
    "    prediction = model.predict([preprocessed_text])\n",
    "    probability = model.predict_proba([preprocessed_text])[0]\n",
    "    return prediction, probability\n",
    "\n",
    "# Define the main function for the Streamlit app\n",
    "def main():\n",
    "    # Set Streamlit app title and layout\n",
    "    st.set_page_config(page_title=\"Sentiment Analysis\", layout=\"centered\")\n",
    "\n",
    "    # Title and description\n",
    "    st.title(\"Sentiment Analysis\")\n",
    "    st.write(\"Enter a sentence to predict its sentiment.\")\n",
    "\n",
    "    # Text input\n",
    "    text_input = st.text_input(\"Enter a text:\")\n",
    "    prediction_button = st.button(\"Predict\")\n",
    "\n",
    "    # Perform prediction when button is clicked\n",
    "    if prediction_button:\n",
    "        st.subheader(\"Text:\")\n",
    "        st.write(text_input)\n",
    "        prediction, probability = predict_sentiment(text_input)\n",
    "        st.subheader(\"Prediction:\")\n",
    "        if prediction == 1:\n",
    "            st.write(\"Positive: 😂\")\n",
    "        elif prediction == 0:\n",
    "            st.write(\"Neutral: 😐\")\n",
    "        else:\n",
    "            st.write(\"Negative: 😔\")\n",
    "        st.subheader(\"Probability:\")\n",
    "        st.write(f\"Probability of Sad: {probability[0]:.2f}\")\n",
    "        st.write(f\"Probability of Neutral: {probability[1]:.2f}\")\n",
    "        st.write(f\"Probability of Happy: {probability[2]:.2f}\")\n",
    "\n",
    "        # Plot countplot for probability\n",
    "        data = {\"Probability\": ['Sad' , 'Neutral', 'Happy'], \"Value\": probability}\n",
    "        df = pd.DataFrame(data)\n",
    "        fig, ax = plt.subplots()\n",
    "        sns.barplot(x=\"Probability\", y=\"Value\", data=df)\n",
    "        ax.set_title(\"Probability\")\n",
    "        \n",
    "        # Add annotations to the bars\n",
    "        for p in ax.patches:\n",
    "            x = p.get_x() + p.get_width() / 2\n",
    "            y = p.get_height()\n",
    "            ax.annotate(f'{y:.2f}', (x, y), ha='center', va='bottom')\n",
    "        \n",
    "        st.pyplot(fig)\n",
    "\n",
    "if __name__ == '__main__':\n",
    "    main()"
   ]
  }
 ],
 "metadata": {
  "kernelspec": {
   "display_name": "Python 3",
   "language": "python",
   "name": "python3"
  },
  "language_info": {
   "codemirror_mode": {
    "name": "ipython",
    "version": 3
   },
   "file_extension": ".py",
   "mimetype": "text/x-python",
   "name": "python",
   "nbconvert_exporter": "python",
   "pygments_lexer": "ipython3",
   "version": "3.10.6"
  },
  "papermill": {
   "default_parameters": {},
   "duration": 415.336838,
   "end_time": "2023-01-28T23:43:48.007017",
   "environment_variables": {},
   "exception": null,
   "input_path": "__notebook__.ipynb",
   "output_path": "__notebook__.ipynb",
   "parameters": {},
   "start_time": "2023-01-28T23:36:52.670179",
   "version": "2.3.4"
  }
 },
 "nbformat": 4,
 "nbformat_minor": 5
}
