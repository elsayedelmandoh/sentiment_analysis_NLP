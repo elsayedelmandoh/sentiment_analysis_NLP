{
 "cells": [
  {
   "attachments": {},
   "cell_type": "markdown",
   "id": "51a83742",
   "metadata": {
    "papermill": {
     "duration": 0.013269,
     "end_time": "2023-01-28T23:37:01.738532",
     "exception": false,
     "start_time": "2023-01-28T23:37:01.725263",
     "status": "completed"
    },
    "tags": []
   },
   "source": [
    "# *Part 1 - Text data and known labels*"
   ]
  },
  {
   "cell_type": "code",
   "execution_count": 571,
   "id": "e6c30bcb",
   "metadata": {
    "execution": {
     "iopub.execute_input": "2023-01-28T23:37:01.780278Z",
     "iopub.status.busy": "2023-01-28T23:37:01.779269Z",
     "iopub.status.idle": "2023-01-28T23:37:02.908394Z",
     "shell.execute_reply": "2023-01-28T23:37:02.907026Z"
    },
    "papermill": {
     "duration": 1.143857,
     "end_time": "2023-01-28T23:37:02.911656",
     "exception": false,
     "start_time": "2023-01-28T23:37:01.767799",
     "status": "completed"
    },
    "tags": []
   },
   "outputs": [],
   "source": [
    "# read dataset \n",
    "import pandas as pd\n",
    "# visualize dataset\n",
    "import matplotlib.pyplot as plt\n",
    "import seaborn as sns"
   ]
  },
  {
   "attachments": {},
   "cell_type": "markdown",
   "id": "83c88821",
   "metadata": {},
   "source": [
    "**Train dataset**"
   ]
  },
  {
   "cell_type": "code",
   "execution_count": 572,
   "id": "65974b14",
   "metadata": {
    "execution": {
     "iopub.execute_input": "2023-01-28T23:37:02.951973Z",
     "iopub.status.busy": "2023-01-28T23:37:02.951591Z",
     "iopub.status.idle": "2023-01-28T23:37:03.020719Z",
     "shell.execute_reply": "2023-01-28T23:37:03.019557Z"
    },
    "papermill": {
     "duration": 0.082987,
     "end_time": "2023-01-28T23:37:03.023778",
     "exception": false,
     "start_time": "2023-01-28T23:37:02.940791",
     "status": "completed"
    },
    "tags": []
   },
   "outputs": [],
   "source": [
    "# read training dataset\n",
    "dataset_train = pd.read_csv(r'data/train.txt', header=None, names= ['text', 'emotion'] ,delimiter=';')\n",
    "# quoting: ???"
   ]
  },
  {
   "cell_type": "code",
   "execution_count": 573,
   "id": "04ec9d12",
   "metadata": {},
   "outputs": [
    {
     "data": {
      "text/html": [
       "<div>\n",
       "<style scoped>\n",
       "    .dataframe tbody tr th:only-of-type {\n",
       "        vertical-align: middle;\n",
       "    }\n",
       "\n",
       "    .dataframe tbody tr th {\n",
       "        vertical-align: top;\n",
       "    }\n",
       "\n",
       "    .dataframe thead th {\n",
       "        text-align: right;\n",
       "    }\n",
       "</style>\n",
       "<table border=\"1\" class=\"dataframe\">\n",
       "  <thead>\n",
       "    <tr style=\"text-align: right;\">\n",
       "      <th></th>\n",
       "      <th>text</th>\n",
       "      <th>emotion</th>\n",
       "    </tr>\n",
       "  </thead>\n",
       "  <tbody>\n",
       "    <tr>\n",
       "      <th>0</th>\n",
       "      <td>i didnt feel humiliated</td>\n",
       "      <td>sadness</td>\n",
       "    </tr>\n",
       "    <tr>\n",
       "      <th>1</th>\n",
       "      <td>i can go from feeling so hopeless to so damned...</td>\n",
       "      <td>sadness</td>\n",
       "    </tr>\n",
       "    <tr>\n",
       "      <th>2</th>\n",
       "      <td>im grabbing a minute to post i feel greedy wrong</td>\n",
       "      <td>anger</td>\n",
       "    </tr>\n",
       "    <tr>\n",
       "      <th>3</th>\n",
       "      <td>i am ever feeling nostalgic about the fireplac...</td>\n",
       "      <td>love</td>\n",
       "    </tr>\n",
       "    <tr>\n",
       "      <th>4</th>\n",
       "      <td>i am feeling grouchy</td>\n",
       "      <td>anger</td>\n",
       "    </tr>\n",
       "  </tbody>\n",
       "</table>\n",
       "</div>"
      ],
      "text/plain": [
       "                                                text  emotion\n",
       "0                            i didnt feel humiliated  sadness\n",
       "1  i can go from feeling so hopeless to so damned...  sadness\n",
       "2   im grabbing a minute to post i feel greedy wrong    anger\n",
       "3  i am ever feeling nostalgic about the fireplac...     love\n",
       "4                               i am feeling grouchy    anger"
      ]
     },
     "execution_count": 573,
     "metadata": {},
     "output_type": "execute_result"
    }
   ],
   "source": [
    "# first five rows\n",
    "dataset_train.head()"
   ]
  },
  {
   "cell_type": "code",
   "execution_count": 574,
   "metadata": {},
   "outputs": [
    {
     "data": {
      "text/html": [
       "<div>\n",
       "<style scoped>\n",
       "    .dataframe tbody tr th:only-of-type {\n",
       "        vertical-align: middle;\n",
       "    }\n",
       "\n",
       "    .dataframe tbody tr th {\n",
       "        vertical-align: top;\n",
       "    }\n",
       "\n",
       "    .dataframe thead th {\n",
       "        text-align: right;\n",
       "    }\n",
       "</style>\n",
       "<table border=\"1\" class=\"dataframe\">\n",
       "  <thead>\n",
       "    <tr style=\"text-align: right;\">\n",
       "      <th></th>\n",
       "      <th>text</th>\n",
       "      <th>emotion</th>\n",
       "    </tr>\n",
       "  </thead>\n",
       "  <tbody>\n",
       "    <tr>\n",
       "      <th>15995</th>\n",
       "      <td>i just had a very brief time in the beanbag an...</td>\n",
       "      <td>sadness</td>\n",
       "    </tr>\n",
       "    <tr>\n",
       "      <th>15996</th>\n",
       "      <td>i am now turning and i feel pathetic that i am...</td>\n",
       "      <td>sadness</td>\n",
       "    </tr>\n",
       "    <tr>\n",
       "      <th>15997</th>\n",
       "      <td>i feel strong and good overall</td>\n",
       "      <td>joy</td>\n",
       "    </tr>\n",
       "    <tr>\n",
       "      <th>15998</th>\n",
       "      <td>i feel like this was such a rude comment and i...</td>\n",
       "      <td>anger</td>\n",
       "    </tr>\n",
       "    <tr>\n",
       "      <th>15999</th>\n",
       "      <td>i know a lot but i feel so stupid because i ca...</td>\n",
       "      <td>sadness</td>\n",
       "    </tr>\n",
       "  </tbody>\n",
       "</table>\n",
       "</div>"
      ],
      "text/plain": [
       "                                                    text  emotion\n",
       "15995  i just had a very brief time in the beanbag an...  sadness\n",
       "15996  i am now turning and i feel pathetic that i am...  sadness\n",
       "15997                     i feel strong and good overall      joy\n",
       "15998  i feel like this was such a rude comment and i...    anger\n",
       "15999  i know a lot but i feel so stupid because i ca...  sadness"
      ]
     },
     "execution_count": 574,
     "metadata": {},
     "output_type": "execute_result"
    }
   ],
   "source": [
    "# last five rows\n",
    "dataset_train.tail()"
   ]
  },
  {
   "cell_type": "code",
   "execution_count": 575,
   "id": "8f9f155f",
   "metadata": {},
   "outputs": [
    {
     "name": "stdout",
     "output_type": "stream",
     "text": [
      "<class 'pandas.core.frame.DataFrame'>\n",
      "RangeIndex: 16000 entries, 0 to 15999\n",
      "Data columns (total 2 columns):\n",
      " #   Column   Non-Null Count  Dtype \n",
      "---  ------   --------------  ----- \n",
      " 0   text     16000 non-null  object\n",
      " 1   emotion  16000 non-null  object\n",
      "dtypes: object(2)\n",
      "memory usage: 250.1+ KB\n"
     ]
    }
   ],
   "source": [
    "dataset_train.info()"
   ]
  },
  {
   "cell_type": "code",
   "execution_count": 576,
   "id": "b5d7d7a0",
   "metadata": {},
   "outputs": [
    {
     "data": {
      "text/plain": [
       "(16000, 2)"
      ]
     },
     "execution_count": 576,
     "metadata": {},
     "output_type": "execute_result"
    }
   ],
   "source": [
    "# (rows, cols)\n",
    "dataset_train.shape"
   ]
  },
  {
   "cell_type": "code",
   "execution_count": 577,
   "id": "2851c53b",
   "metadata": {},
   "outputs": [
    {
     "data": {
      "text/html": [
       "<div>\n",
       "<style scoped>\n",
       "    .dataframe tbody tr th:only-of-type {\n",
       "        vertical-align: middle;\n",
       "    }\n",
       "\n",
       "    .dataframe tbody tr th {\n",
       "        vertical-align: top;\n",
       "    }\n",
       "\n",
       "    .dataframe thead th {\n",
       "        text-align: right;\n",
       "    }\n",
       "</style>\n",
       "<table border=\"1\" class=\"dataframe\">\n",
       "  <thead>\n",
       "    <tr style=\"text-align: right;\">\n",
       "      <th></th>\n",
       "      <th>text</th>\n",
       "      <th>emotion</th>\n",
       "    </tr>\n",
       "  </thead>\n",
       "  <tbody>\n",
       "    <tr>\n",
       "      <th>count</th>\n",
       "      <td>16000</td>\n",
       "      <td>16000</td>\n",
       "    </tr>\n",
       "    <tr>\n",
       "      <th>unique</th>\n",
       "      <td>15969</td>\n",
       "      <td>6</td>\n",
       "    </tr>\n",
       "    <tr>\n",
       "      <th>top</th>\n",
       "      <td>i feel on the verge of tears from weariness i ...</td>\n",
       "      <td>joy</td>\n",
       "    </tr>\n",
       "    <tr>\n",
       "      <th>freq</th>\n",
       "      <td>2</td>\n",
       "      <td>5362</td>\n",
       "    </tr>\n",
       "  </tbody>\n",
       "</table>\n",
       "</div>"
      ],
      "text/plain": [
       "                                                     text emotion\n",
       "count                                               16000   16000\n",
       "unique                                              15969       6\n",
       "top     i feel on the verge of tears from weariness i ...     joy\n",
       "freq                                                    2    5362"
      ]
     },
     "execution_count": 577,
     "metadata": {},
     "output_type": "execute_result"
    }
   ],
   "source": [
    "# describe data\n",
    "dataset_train.describe()"
   ]
  },
  {
   "attachments": {},
   "cell_type": "markdown",
   "id": "fba50fba",
   "metadata": {},
   "source": [
    "**Missing data**"
   ]
  },
  {
   "cell_type": "code",
   "execution_count": 578,
   "id": "d8371f61",
   "metadata": {},
   "outputs": [
    {
     "data": {
      "text/plain": [
       "text       0\n",
       "emotion    0\n",
       "dtype: int64"
      ]
     },
     "execution_count": 578,
     "metadata": {},
     "output_type": "execute_result"
    }
   ],
   "source": [
    "dataset_train.dropna(inplace=True)\n",
    "dataset_train.isnull().sum()"
   ]
  },
  {
   "cell_type": "code",
   "execution_count": 579,
   "id": "1ad47461",
   "metadata": {},
   "outputs": [
    {
     "data": {
      "text/plain": [
       "array(['sadness', 'anger', 'love', 'surprise', 'fear', 'joy'],\n",
       "      dtype=object)"
      ]
     },
     "execution_count": 579,
     "metadata": {},
     "output_type": "execute_result"
    }
   ],
   "source": [
    "# unique values\n",
    "dataset_train['emotion'].unique()"
   ]
  },
  {
   "cell_type": "code",
   "execution_count": 580,
   "id": "cc67e150",
   "metadata": {},
   "outputs": [
    {
     "data": {
      "text/plain": [
       "joy         5362\n",
       "sadness     4666\n",
       "anger       2159\n",
       "fear        1937\n",
       "love        1304\n",
       "surprise     572\n",
       "Name: emotion, dtype: int64"
      ]
     },
     "execution_count": 580,
     "metadata": {},
     "output_type": "execute_result"
    }
   ],
   "source": [
    "dataset_train['emotion'].value_counts()"
   ]
  },
  {
   "attachments": {},
   "cell_type": "markdown",
   "id": "62ef9500",
   "metadata": {},
   "source": [
    "**show imbalance between classes**"
   ]
  },
  {
   "cell_type": "code",
   "execution_count": 581,
   "id": "2a413e0e",
   "metadata": {},
   "outputs": [
    {
     "data": {
      "image/png": "[encoded data removed]",
      "text/plain": [
       "<Figure size 640x480 with 1 Axes>"
      ]
     },
     "metadata": {},
     "output_type": "display_data"
    }
   ],
   "source": [
    "# plot\n",
    "ax= sns.countplot(x=dataset_train['emotion'],\n",
    "                  data=dataset_train)\n",
    "\n",
    "for p in ax.patches: # bars\n",
    "    '''\n",
    "    get_bbox(): return bounding box of the bar, \n",
    "    get_points(): returns the coordinates of the four corners of the bounding box.\n",
    "    '''\n",
    "    x= p.get_bbox().get_points()[:,0] # extract the x-coordinates of the four corners of the bar rectangle\n",
    "    y= p.get_bbox().get_points()[1,1] # extract the y-coordinate of the top-right corner\n",
    "    ax.annotate(f'{y:.0f}', (x.mean(), y), ha='center',va='bottom') # text on top bar\n",
    "    \n",
    "plt.title(\"Emotion rating is imbalance\")\n",
    "plt.show()"
   ]
  },
  {
   "attachments": {},
   "cell_type": "markdown",
   "id": "f59141b7",
   "metadata": {},
   "source": [
    "**make balance between classes**"
   ]
  },
  {
   "cell_type": "code",
   "execution_count": 582,
   "id": "67fa51c4",
   "metadata": {},
   "outputs": [],
   "source": [
    "dataset_train['label'] = dataset_train['emotion']\n",
    "dataset_train['label'].replace(['joy', 'love', 'surprise'], 'happy', inplace=True)\n",
    "dataset_train['label'].replace(['sadness', 'anger', 'fear'], 'sad', inplace=True)"
   ]
  },
  {
   "cell_type": "code",
   "execution_count": 583,
   "id": "3562d837",
   "metadata": {},
   "outputs": [
    {
     "data": {
      "text/plain": [
       "array(['sad', 'happy'], dtype=object)"
      ]
     },
     "execution_count": 583,
     "metadata": {},
     "output_type": "execute_result"
    }
   ],
   "source": [
    "dataset_train['label'].unique()"
   ]
  },
  {
   "cell_type": "code",
   "execution_count": 584,
   "id": "26969b6b",
   "metadata": {},
   "outputs": [
    {
     "data": {
      "text/plain": [
       "sad      8762\n",
       "happy    7238\n",
       "Name: label, dtype: int64"
      ]
     },
     "execution_count": 584,
     "metadata": {},
     "output_type": "execute_result"
    }
   ],
   "source": [
    "dataset_train['label'].value_counts()"
   ]
  },
  {
   "attachments": {},
   "cell_type": "markdown",
   "id": "e58f5dca",
   "metadata": {},
   "source": [
    "**show balance between classes**"
   ]
  },
  {
   "cell_type": "code",
   "execution_count": 585,
   "metadata": {},
   "outputs": [
    {
     "data": {
      "image/png": "[encoded data removed]",
      "text/plain": [
       "<Figure size 640x480 with 1 Axes>"
      ]
     },
     "metadata": {},
     "output_type": "display_data"
    }
   ],
   "source": [
    "# plot\n",
    "ax= sns.countplot(x=dataset_train['label'],\n",
    "                  data=dataset_train)\n",
    "\n",
    "for p in ax.patches: # bars\n",
    "    '''\n",
    "    get_bbox(): return bounding box of the bar, \n",
    "    get_points(): returns the coordinates of the four corners of the bounding box.\n",
    "    '''\n",
    "    x= p.get_bbox().get_points()[:,0] # extract the x-coordinates of the four corners of the bar rectangle\n",
    "    y= p.get_bbox().get_points()[1,1] # extract the y-coordinate of the top-right corner\n",
    "    ax.annotate(f'{y:.0f}', (x.mean(), y), ha='center',va='bottom') # text on top bar\n",
    "    \n",
    "plt.title(\"Label rating is balance\")\n",
    "plt.show()"
   ]
  },
  {
   "cell_type": "code",
   "execution_count": 586,
   "id": "8b2592d7",
   "metadata": {},
   "outputs": [
    {
     "data": {
      "text/html": [
       "<div>\n",
       "<style scoped>\n",
       "    .dataframe tbody tr th:only-of-type {\n",
       "        vertical-align: middle;\n",
       "    }\n",
       "\n",
       "    .dataframe tbody tr th {\n",
       "        vertical-align: top;\n",
       "    }\n",
       "\n",
       "    .dataframe thead th {\n",
       "        text-align: right;\n",
       "    }\n",
       "</style>\n",
       "<table border=\"1\" class=\"dataframe\">\n",
       "  <thead>\n",
       "    <tr style=\"text-align: right;\">\n",
       "      <th></th>\n",
       "      <th>text</th>\n",
       "      <th>emotion</th>\n",
       "      <th>label</th>\n",
       "    </tr>\n",
       "  </thead>\n",
       "  <tbody>\n",
       "    <tr>\n",
       "      <th>0</th>\n",
       "      <td>i didnt feel humiliated</td>\n",
       "      <td>sadness</td>\n",
       "      <td>0</td>\n",
       "    </tr>\n",
       "    <tr>\n",
       "      <th>1</th>\n",
       "      <td>i can go from feeling so hopeless to so damned...</td>\n",
       "      <td>sadness</td>\n",
       "      <td>0</td>\n",
       "    </tr>\n",
       "    <tr>\n",
       "      <th>2</th>\n",
       "      <td>im grabbing a minute to post i feel greedy wrong</td>\n",
       "      <td>anger</td>\n",
       "      <td>0</td>\n",
       "    </tr>\n",
       "    <tr>\n",
       "      <th>3</th>\n",
       "      <td>i am ever feeling nostalgic about the fireplac...</td>\n",
       "      <td>love</td>\n",
       "      <td>1</td>\n",
       "    </tr>\n",
       "    <tr>\n",
       "      <th>4</th>\n",
       "      <td>i am feeling grouchy</td>\n",
       "      <td>anger</td>\n",
       "      <td>0</td>\n",
       "    </tr>\n",
       "  </tbody>\n",
       "</table>\n",
       "</div>"
      ],
      "text/plain": [
       "                                                text  emotion  label\n",
       "0                            i didnt feel humiliated  sadness      0\n",
       "1  i can go from feeling so hopeless to so damned...  sadness      0\n",
       "2   im grabbing a minute to post i feel greedy wrong    anger      0\n",
       "3  i am ever feeling nostalgic about the fireplac...     love      1\n",
       "4                               i am feeling grouchy    anger      0"
      ]
     },
     "execution_count": 586,
     "metadata": {},
     "output_type": "execute_result"
    }
   ],
   "source": [
    "# replace labels with integer numbers:\n",
    "dataset_train['label'] = dataset_train['label'].replace({'sad':0, 'happy':1}).astype(int)\n",
    "dataset_train.head()"
   ]
  },
  {
   "attachments": {},
   "cell_type": "markdown",
   "id": "2725488c",
   "metadata": {},
   "source": [
    "**Test dataset**"
   ]
  },
  {
   "cell_type": "code",
   "execution_count": 587,
   "id": "3ba78138",
   "metadata": {
    "execution": {
     "iopub.execute_input": "2023-01-28T23:37:03.107546Z",
     "iopub.status.busy": "2023-01-28T23:37:03.107041Z",
     "iopub.status.idle": "2023-01-28T23:37:03.125289Z",
     "shell.execute_reply": "2023-01-28T23:37:03.124019Z"
    },
    "papermill": {
     "duration": 0.0323,
     "end_time": "2023-01-28T23:37:03.127872",
     "exception": false,
     "start_time": "2023-01-28T23:37:03.095572",
     "status": "completed"
    },
    "tags": []
   },
   "outputs": [],
   "source": [
    "# read test dataset\n",
    "dataset_test = pd.read_csv(r'data/test.txt', header=None, names= ['text', 'emotion'] ,delimiter=';') "
   ]
  },
  {
   "cell_type": "code",
   "execution_count": 588,
   "id": "1aca2e51",
   "metadata": {
    "execution": {
     "iopub.execute_input": "2023-01-28T23:37:03.208418Z",
     "iopub.status.busy": "2023-01-28T23:37:03.207998Z",
     "iopub.status.idle": "2023-01-28T23:37:03.227856Z",
     "shell.execute_reply": "2023-01-28T23:37:03.226389Z"
    },
    "papermill": {
     "duration": 0.033433,
     "end_time": "2023-01-28T23:37:03.230255",
     "exception": false,
     "start_time": "2023-01-28T23:37:03.196822",
     "status": "completed"
    },
    "tags": []
   },
   "outputs": [
    {
     "data": {
      "text/html": [
       "<div>\n",
       "<style scoped>\n",
       "    .dataframe tbody tr th:only-of-type {\n",
       "        vertical-align: middle;\n",
       "    }\n",
       "\n",
       "    .dataframe tbody tr th {\n",
       "        vertical-align: top;\n",
       "    }\n",
       "\n",
       "    .dataframe thead th {\n",
       "        text-align: right;\n",
       "    }\n",
       "</style>\n",
       "<table border=\"1\" class=\"dataframe\">\n",
       "  <thead>\n",
       "    <tr style=\"text-align: right;\">\n",
       "      <th></th>\n",
       "      <th>text</th>\n",
       "      <th>emotion</th>\n",
       "    </tr>\n",
       "  </thead>\n",
       "  <tbody>\n",
       "    <tr>\n",
       "      <th>0</th>\n",
       "      <td>im feeling rather rotten so im not very ambiti...</td>\n",
       "      <td>sadness</td>\n",
       "    </tr>\n",
       "    <tr>\n",
       "      <th>1</th>\n",
       "      <td>im updating my blog because i feel shitty</td>\n",
       "      <td>sadness</td>\n",
       "    </tr>\n",
       "    <tr>\n",
       "      <th>2</th>\n",
       "      <td>i never make her separate from me because i do...</td>\n",
       "      <td>sadness</td>\n",
       "    </tr>\n",
       "    <tr>\n",
       "      <th>3</th>\n",
       "      <td>i left with my bouquet of red and yellow tulip...</td>\n",
       "      <td>joy</td>\n",
       "    </tr>\n",
       "    <tr>\n",
       "      <th>4</th>\n",
       "      <td>i was feeling a little vain when i did this one</td>\n",
       "      <td>sadness</td>\n",
       "    </tr>\n",
       "  </tbody>\n",
       "</table>\n",
       "</div>"
      ],
      "text/plain": [
       "                                                text  emotion\n",
       "0  im feeling rather rotten so im not very ambiti...  sadness\n",
       "1          im updating my blog because i feel shitty  sadness\n",
       "2  i never make her separate from me because i do...  sadness\n",
       "3  i left with my bouquet of red and yellow tulip...      joy\n",
       "4    i was feeling a little vain when i did this one  sadness"
      ]
     },
     "execution_count": 588,
     "metadata": {},
     "output_type": "execute_result"
    }
   ],
   "source": [
    "dataset_test.head()"
   ]
  },
  {
   "cell_type": "code",
   "execution_count": 589,
   "id": "d4c4823f",
   "metadata": {},
   "outputs": [
    {
     "data": {
      "text/html": [
       "<div>\n",
       "<style scoped>\n",
       "    .dataframe tbody tr th:only-of-type {\n",
       "        vertical-align: middle;\n",
       "    }\n",
       "\n",
       "    .dataframe tbody tr th {\n",
       "        vertical-align: top;\n",
       "    }\n",
       "\n",
       "    .dataframe thead th {\n",
       "        text-align: right;\n",
       "    }\n",
       "</style>\n",
       "<table border=\"1\" class=\"dataframe\">\n",
       "  <thead>\n",
       "    <tr style=\"text-align: right;\">\n",
       "      <th></th>\n",
       "      <th>text</th>\n",
       "      <th>emotion</th>\n",
       "    </tr>\n",
       "  </thead>\n",
       "  <tbody>\n",
       "    <tr>\n",
       "      <th>1995</th>\n",
       "      <td>i just keep feeling like someone is being unki...</td>\n",
       "      <td>anger</td>\n",
       "    </tr>\n",
       "    <tr>\n",
       "      <th>1996</th>\n",
       "      <td>im feeling a little cranky negative after this...</td>\n",
       "      <td>anger</td>\n",
       "    </tr>\n",
       "    <tr>\n",
       "      <th>1997</th>\n",
       "      <td>i feel that i am useful to my people and that ...</td>\n",
       "      <td>joy</td>\n",
       "    </tr>\n",
       "    <tr>\n",
       "      <th>1998</th>\n",
       "      <td>im feeling more comfortable with derby i feel ...</td>\n",
       "      <td>joy</td>\n",
       "    </tr>\n",
       "    <tr>\n",
       "      <th>1999</th>\n",
       "      <td>i feel all weird when i have to meet w people ...</td>\n",
       "      <td>fear</td>\n",
       "    </tr>\n",
       "  </tbody>\n",
       "</table>\n",
       "</div>"
      ],
      "text/plain": [
       "                                                   text emotion\n",
       "1995  i just keep feeling like someone is being unki...   anger\n",
       "1996  im feeling a little cranky negative after this...   anger\n",
       "1997  i feel that i am useful to my people and that ...     joy\n",
       "1998  im feeling more comfortable with derby i feel ...     joy\n",
       "1999  i feel all weird when i have to meet w people ...    fear"
      ]
     },
     "execution_count": 589,
     "metadata": {},
     "output_type": "execute_result"
    }
   ],
   "source": [
    "dataset_test.tail()"
   ]
  },
  {
   "cell_type": "code",
   "execution_count": 590,
   "id": "bec0d6bc",
   "metadata": {},
   "outputs": [
    {
     "name": "stdout",
     "output_type": "stream",
     "text": [
      "<class 'pandas.core.frame.DataFrame'>\n",
      "RangeIndex: 2000 entries, 0 to 1999\n",
      "Data columns (total 2 columns):\n",
      " #   Column   Non-Null Count  Dtype \n",
      "---  ------   --------------  ----- \n",
      " 0   text     2000 non-null   object\n",
      " 1   emotion  2000 non-null   object\n",
      "dtypes: object(2)\n",
      "memory usage: 31.4+ KB\n"
     ]
    }
   ],
   "source": [
    "dataset_test.info()"
   ]
  },
  {
   "cell_type": "code",
   "execution_count": 591,
   "id": "d9a9b177",
   "metadata": {},
   "outputs": [
    {
     "data": {
      "text/plain": [
       "(2000, 2)"
      ]
     },
     "execution_count": 591,
     "metadata": {},
     "output_type": "execute_result"
    }
   ],
   "source": [
    "dataset_test.shape"
   ]
  },
  {
   "cell_type": "code",
   "execution_count": 592,
   "id": "d27458ce",
   "metadata": {},
   "outputs": [
    {
     "data": {
      "text/html": [
       "<div>\n",
       "<style scoped>\n",
       "    .dataframe tbody tr th:only-of-type {\n",
       "        vertical-align: middle;\n",
       "    }\n",
       "\n",
       "    .dataframe tbody tr th {\n",
       "        vertical-align: top;\n",
       "    }\n",
       "\n",
       "    .dataframe thead th {\n",
       "        text-align: right;\n",
       "    }\n",
       "</style>\n",
       "<table border=\"1\" class=\"dataframe\">\n",
       "  <thead>\n",
       "    <tr style=\"text-align: right;\">\n",
       "      <th></th>\n",
       "      <th>text</th>\n",
       "      <th>emotion</th>\n",
       "    </tr>\n",
       "  </thead>\n",
       "  <tbody>\n",
       "    <tr>\n",
       "      <th>count</th>\n",
       "      <td>2000</td>\n",
       "      <td>2000</td>\n",
       "    </tr>\n",
       "    <tr>\n",
       "      <th>unique</th>\n",
       "      <td>2000</td>\n",
       "      <td>6</td>\n",
       "    </tr>\n",
       "    <tr>\n",
       "      <th>top</th>\n",
       "      <td>im feeling rather rotten so im not very ambiti...</td>\n",
       "      <td>joy</td>\n",
       "    </tr>\n",
       "    <tr>\n",
       "      <th>freq</th>\n",
       "      <td>1</td>\n",
       "      <td>695</td>\n",
       "    </tr>\n",
       "  </tbody>\n",
       "</table>\n",
       "</div>"
      ],
      "text/plain": [
       "                                                     text emotion\n",
       "count                                                2000    2000\n",
       "unique                                               2000       6\n",
       "top     im feeling rather rotten so im not very ambiti...     joy\n",
       "freq                                                    1     695"
      ]
     },
     "execution_count": 592,
     "metadata": {},
     "output_type": "execute_result"
    }
   ],
   "source": [
    "dataset_test.describe()"
   ]
  },
  {
   "cell_type": "code",
   "execution_count": 593,
   "id": "d49e4932",
   "metadata": {},
   "outputs": [
    {
     "data": {
      "text/plain": [
       "text       0\n",
       "emotion    0\n",
       "dtype: int64"
      ]
     },
     "execution_count": 593,
     "metadata": {},
     "output_type": "execute_result"
    }
   ],
   "source": [
    "dataset_test.dropna(inplace=True)\n",
    "dataset_test.isnull().sum()"
   ]
  },
  {
   "cell_type": "code",
   "execution_count": 594,
   "id": "c0130a3f",
   "metadata": {},
   "outputs": [
    {
     "data": {
      "text/plain": [
       "array(['sadness', 'joy', 'fear', 'anger', 'love', 'surprise'],\n",
       "      dtype=object)"
      ]
     },
     "execution_count": 594,
     "metadata": {},
     "output_type": "execute_result"
    }
   ],
   "source": [
    "dataset_test['emotion'].unique()"
   ]
  },
  {
   "cell_type": "code",
   "execution_count": 595,
   "id": "a2145e33",
   "metadata": {},
   "outputs": [
    {
     "data": {
      "text/plain": [
       "joy         695\n",
       "sadness     581\n",
       "anger       275\n",
       "fear        224\n",
       "love        159\n",
       "surprise     66\n",
       "Name: emotion, dtype: int64"
      ]
     },
     "execution_count": 595,
     "metadata": {},
     "output_type": "execute_result"
    }
   ],
   "source": [
    "dataset_test['emotion'].value_counts()"
   ]
  },
  {
   "attachments": {},
   "cell_type": "markdown",
   "id": "2f0b4949",
   "metadata": {},
   "source": [
    "**show imbalance between classes**"
   ]
  },
  {
   "cell_type": "code",
   "execution_count": 596,
   "id": "4088de86",
   "metadata": {},
   "outputs": [
    {
     "data": {
      "image/png": "[encoded data removed]",
      "text/plain": [
       "<Figure size 640x480 with 1 Axes>"
      ]
     },
     "metadata": {},
     "output_type": "display_data"
    }
   ],
   "source": [
    "# plot\n",
    "ax= sns.countplot(x=dataset_test['emotion'],\n",
    "                  data=dataset_test)\n",
    "\n",
    "for p in ax.patches: # bars\n",
    "    '''\n",
    "    get_bbox(): return bounding box of the bar, \n",
    "    get_points(): returns the coordinates of the four corners of the bounding box.\n",
    "    '''\n",
    "    x= p.get_bbox().get_points()[:,0] # extract the x-coordinates of the four corners of the bar rectangle\n",
    "    y= p.get_bbox().get_points()[1,1] # extract the y-coordinate of the top-right corner\n",
    "    ax.annotate(f'{y:.0f}', (x.mean(), y), ha='center',va='bottom') # text on top bar\n",
    "    \n",
    "plt.title(\"Emotion Rating\")\n",
    "plt.show()"
   ]
  },
  {
   "attachments": {},
   "cell_type": "markdown",
   "id": "adb19b32",
   "metadata": {},
   "source": [
    "**make balance between classes**"
   ]
  },
  {
   "cell_type": "code",
   "execution_count": 597,
   "id": "f02b0846",
   "metadata": {},
   "outputs": [],
   "source": [
    "dataset_test['label'] = dataset_test['emotion']\n",
    "dataset_test['label'].replace(['joy', 'love', 'surprise'], 'happy', inplace=True)\n",
    "dataset_test['label'].replace(['sadness', 'anger', 'fear'], 'sad', inplace=True)"
   ]
  },
  {
   "cell_type": "code",
   "execution_count": 598,
   "id": "51862972",
   "metadata": {},
   "outputs": [
    {
     "data": {
      "text/plain": [
       "array(['sad', 'happy'], dtype=object)"
      ]
     },
     "execution_count": 598,
     "metadata": {},
     "output_type": "execute_result"
    }
   ],
   "source": [
    "dataset_test['label'].unique()"
   ]
  },
  {
   "cell_type": "code",
   "execution_count": 599,
   "metadata": {},
   "outputs": [
    {
     "data": {
      "text/plain": [
       "sad      1080\n",
       "happy     920\n",
       "Name: label, dtype: int64"
      ]
     },
     "execution_count": 599,
     "metadata": {},
     "output_type": "execute_result"
    }
   ],
   "source": [
    "dataset_test['label'].value_counts()"
   ]
  },
  {
   "attachments": {},
   "cell_type": "markdown",
   "id": "651ab881",
   "metadata": {},
   "source": [
    "**show balance between classes**"
   ]
  },
  {
   "cell_type": "code",
   "execution_count": 600,
   "metadata": {},
   "outputs": [
    {
     "data": {
      "image/png": "[encoded data removed]",
      "text/plain": [
       "<Figure size 640x480 with 1 Axes>"
      ]
     },
     "metadata": {},
     "output_type": "display_data"
    }
   ],
   "source": [
    "# plot\n",
    "ax= sns.countplot(x=dataset_test['label'],\n",
    "                  data=dataset_train)\n",
    "\n",
    "for p in ax.patches: # bars\n",
    "    '''\n",
    "    get_bbox(): return bounding box of the bar, \n",
    "    get_points(): returns the coordinates of the four corners of the bounding box.\n",
    "    '''\n",
    "    x= p.get_bbox().get_points()[:,0] # extract the x-coordinates of the four corners of the bar rectangle\n",
    "    y= p.get_bbox().get_points()[1,1] # extract the y-coordinate of the top-right corner\n",
    "    ax.annotate(f'{y:.0f}', (x.mean(), y), ha='center',va='bottom') # text on top bar\n",
    "    \n",
    "plt.title(\"Label rating is balance\")\n",
    "plt.show()"
   ]
  },
  {
   "cell_type": "code",
   "execution_count": 601,
   "id": "fa0200fb",
   "metadata": {},
   "outputs": [
    {
     "data": {
      "text/html": [
       "<div>\n",
       "<style scoped>\n",
       "    .dataframe tbody tr th:only-of-type {\n",
       "        vertical-align: middle;\n",
       "    }\n",
       "\n",
       "    .dataframe tbody tr th {\n",
       "        vertical-align: top;\n",
       "    }\n",
       "\n",
       "    .dataframe thead th {\n",
       "        text-align: right;\n",
       "    }\n",
       "</style>\n",
       "<table border=\"1\" class=\"dataframe\">\n",
       "  <thead>\n",
       "    <tr style=\"text-align: right;\">\n",
       "      <th></th>\n",
       "      <th>text</th>\n",
       "      <th>emotion</th>\n",
       "      <th>label</th>\n",
       "    </tr>\n",
       "  </thead>\n",
       "  <tbody>\n",
       "    <tr>\n",
       "      <th>0</th>\n",
       "      <td>im feeling rather rotten so im not very ambiti...</td>\n",
       "      <td>sadness</td>\n",
       "      <td>0</td>\n",
       "    </tr>\n",
       "    <tr>\n",
       "      <th>1</th>\n",
       "      <td>im updating my blog because i feel shitty</td>\n",
       "      <td>sadness</td>\n",
       "      <td>0</td>\n",
       "    </tr>\n",
       "    <tr>\n",
       "      <th>2</th>\n",
       "      <td>i never make her separate from me because i do...</td>\n",
       "      <td>sadness</td>\n",
       "      <td>0</td>\n",
       "    </tr>\n",
       "    <tr>\n",
       "      <th>3</th>\n",
       "      <td>i left with my bouquet of red and yellow tulip...</td>\n",
       "      <td>joy</td>\n",
       "      <td>1</td>\n",
       "    </tr>\n",
       "    <tr>\n",
       "      <th>4</th>\n",
       "      <td>i was feeling a little vain when i did this one</td>\n",
       "      <td>sadness</td>\n",
       "      <td>0</td>\n",
       "    </tr>\n",
       "  </tbody>\n",
       "</table>\n",
       "</div>"
      ],
      "text/plain": [
       "                                                text  emotion  label\n",
       "0  im feeling rather rotten so im not very ambiti...  sadness      0\n",
       "1          im updating my blog because i feel shitty  sadness      0\n",
       "2  i never make her separate from me because i do...  sadness      0\n",
       "3  i left with my bouquet of red and yellow tulip...      joy      1\n",
       "4    i was feeling a little vain when i did this one  sadness      0"
      ]
     },
     "execution_count": 601,
     "metadata": {},
     "output_type": "execute_result"
    }
   ],
   "source": [
    "# replace labels with integer numbers:\n",
    "dataset_test['label'] = dataset_test['label'].replace({'sad':0, 'happy':1}).astype(int)\n",
    "dataset_test.head()"
   ]
  },
  {
   "attachments": {},
   "cell_type": "markdown",
   "id": "a6dc0306",
   "metadata": {
    "papermill": {
     "duration": 0.009996,
     "end_time": "2023-01-28T23:37:03.386281",
     "exception": false,
     "start_time": "2023-01-28T23:37:03.376285",
     "status": "completed"
    },
    "tags": []
   },
   "source": [
    "# *Part 2 - Data preprocessing*"
   ]
  },
  {
   "attachments": {},
   "cell_type": "markdown",
   "id": "d9d45d47",
   "metadata": {},
   "source": [
    "**Noise Removal**"
   ]
  },
  {
   "cell_type": "code",
   "execution_count": 21,
   "id": "d714a1b7",
   "metadata": {},
   "outputs": [],
   "source": [
    "import nltk\n",
    "from nltk.corpus import stopwords"
   ]
  },
  {
   "attachments": {},
   "cell_type": "markdown",
   "id": "69d883db",
   "metadata": {},
   "source": [
    "**show stop words list**"
   ]
  },
  {
   "cell_type": "code",
   "execution_count": 22,
   "id": "4b44a5b4",
   "metadata": {},
   "outputs": [
    {
     "name": "stdout",
     "output_type": "stream",
     "text": [
      "['i', 'me', 'my', 'myself', 'we', 'our', 'ours', 'ourselves', 'you', \"you're\", \"you've\", \"you'll\", \"you'd\", 'your', 'yours', 'yourself', 'yourselves', 'he', 'him', 'his', 'himself', 'she', \"she's\", 'her', 'hers', 'herself', 'it', \"it's\", 'its', 'itself', 'they', 'them', 'their', 'theirs', 'themselves', 'what', 'which', 'who', 'whom', 'this', 'that', \"that'll\", 'these', 'those', 'am', 'is', 'are', 'was', 'were', 'be', 'been', 'being', 'have', 'has', 'had', 'having', 'do', 'does', 'did', 'doing', 'a', 'an', 'the', 'and', 'but', 'if', 'or', 'because', 'as', 'until', 'while', 'of', 'at', 'by', 'for', 'with', 'about', 'against', 'between', 'into', 'through', 'during', 'before', 'after', 'above', 'below', 'to', 'from', 'up', 'down', 'in', 'out', 'on', 'off', 'over', 'under', 'again', 'further', 'then', 'once', 'here', 'there', 'when', 'where', 'why', 'how', 'all', 'any', 'both', 'each', 'few', 'more', 'most', 'other', 'some', 'such', 'no', 'nor', 'not', 'only', 'own', 'same', 'so', 'than', 'too', 'very', 's', 't', 'can', 'will', 'just', 'don', \"don't\", 'should', \"should've\", 'now', 'd', 'll', 'm', 'o', 're', 've', 'y', 'ain', 'aren', \"aren't\", 'couldn', \"couldn't\", 'didn', \"didn't\", 'doesn', \"doesn't\", 'hadn', \"hadn't\", 'hasn', \"hasn't\", 'haven', \"haven't\", 'isn', \"isn't\", 'ma', 'mightn', \"mightn't\", 'mustn', \"mustn't\", 'needn', \"needn't\", 'shan', \"shan't\", 'shouldn', \"shouldn't\", 'wasn', \"wasn't\", 'weren', \"weren't\", 'won', \"won't\", 'wouldn', \"wouldn't\"]\n"
     ]
    },
    {
     "name": "stderr",
     "output_type": "stream",
     "text": [
      "[nltk_data] Downloading package stopwords to\n",
      "[nltk_data]     /home/elsayedelmandoh/nltk_data...\n",
      "[nltk_data]   Package stopwords is already up-to-date!\n"
     ]
    }
   ],
   "source": [
    "nltk.download('stopwords')\n",
    "stop_words= stopwords.words(\"english\")\n",
    "print(stop_words)"
   ]
  },
  {
   "attachments": {},
   "cell_type": "markdown",
   "id": "ebb66931",
   "metadata": {},
   "source": [
    "**Excluding some useful words from stop words list**|"
   ]
  },
  {
   "cell_type": "code",
   "execution_count": 23,
   "id": "f171c047",
   "metadata": {},
   "outputs": [],
   "source": [
    "excluding= ['againts', 'not', 'don', \"don't\", 'ain', 'aren', \"aren't\", 'couldn', \"couldn't\", 'didn', \n",
    "            \"didn't\",'doesn', \"doesn't\", 'hadn', \"hadn't\", 'has', \"hasn't\", 'haven', \"haven't\", 'isn', \n",
    "            \"isn't\", 'might', \"mightn't\", 'mustn', \"mustn't\", 'needn', \"needn't\", 'shouldn', \"shouldn't\", \n",
    "            'wasn', \"wasn't\", 'weren', \"weren't\", 'won', \"won't\", 'wouldn', \"wouldn't\"]\n",
    "\n",
    "stop_words= [word for word in stop_words if word not in excluding]"
   ]
  },
  {
   "attachments": {},
   "cell_type": "markdown",
   "id": "251d7343",
   "metadata": {},
   "source": [
    "+ **split text to tokens using word_tokenize**\n",
    "\n",
    "    - function is used to split the input text into individual words and return list of strings"
   ]
  },
  {
   "cell_type": "code",
   "execution_count": 24,
   "id": "f6c2d9a7",
   "metadata": {},
   "outputs": [
    {
     "name": "stderr",
     "output_type": "stream",
     "text": [
      "[nltk_data] Downloading package punkt to\n",
      "[nltk_data]     /home/elsayedelmandoh/nltk_data...\n",
      "[nltk_data]   Unzipping tokenizers/punkt.zip.\n"
     ]
    },
    {
     "data": {
      "text/plain": [
       "True"
      ]
     },
     "execution_count": 24,
     "metadata": {},
     "output_type": "execute_result"
    }
   ],
   "source": [
    "from nltk.tokenize import word_tokenize\n",
    "nltk.download('punkt') "
   ]
  },
  {
   "attachments": {},
   "cell_type": "markdown",
   "id": "1f2dca83",
   "metadata": {},
   "source": [
    "+ **word normalization**\n",
    "\n",
    "    - PorterStemmer: remove common word endings and suffixes, but the resulting stems may not always be actual words.\n",
    "\n",
    "    - WordNetLemmatizer: get root form of word in their dictionary definitions."
   ]
  },
  {
   "cell_type": "code",
   "execution_count": 25,
   "id": "8f7591ab",
   "metadata": {},
   "outputs": [],
   "source": [
    "from nltk.stem import WordNetLemmatizer, PorterStemmer\n",
    "stemmer= PorterStemmer()    \n",
    "lemmatizer = WordNetLemmatizer()"
   ]
  },
  {
   "cell_type": "code",
   "execution_count": 26,
   "id": "2b3cfc16",
   "metadata": {
    "execution": {
     "iopub.execute_input": "2023-01-28T23:37:03.409700Z",
     "iopub.status.busy": "2023-01-28T23:37:03.408542Z",
     "iopub.status.idle": "2023-01-28T23:37:14.348161Z",
     "shell.execute_reply": "2023-01-28T23:37:14.346952Z"
    },
    "papermill": {
     "duration": 10.954406,
     "end_time": "2023-01-28T23:37:14.351057",
     "exception": false,
     "start_time": "2023-01-28T23:37:03.396651",
     "status": "completed"
    },
    "tags": []
   },
   "outputs": [],
   "source": [
    "def preprocessing_dataset(texts):\n",
    "    cleaned_texts = []  # list to include the cleaned text in.\n",
    "\n",
    "    for sent in texts: # loop on each sentence\n",
    "        filtered_sent= []\n",
    "        tokens= word_tokenize(sent.lower())\n",
    "        \n",
    "        for token in tokens: # loop on each token from sentence\n",
    "            # check if it's not numeric and its length > 2 and not in stop words\n",
    "            if (not token.isnumeric()) and (len(token) > 2) and (token not in stop_words):\n",
    "                filtered_sent.append(stemmer.stem(token) and lemmatizer.lemmatize(token))\n",
    "                \n",
    "        # convert tokens to text\n",
    "        text= \" \".join(filtered_sent) # string of cleaned words \n",
    "        cleaned_texts.append(text)\n",
    "    \n",
    "    return cleaned_texts"
   ]
  },
  {
   "attachments": {},
   "cell_type": "markdown",
   "id": "7082fc9a",
   "metadata": {},
   "source": [
    "**dataset train**"
   ]
  },
  {
   "cell_type": "code",
   "execution_count": 608,
   "id": "28d09fe0",
   "metadata": {},
   "outputs": [],
   "source": [
    "# cleaning the training text\n",
    "dataset_train['clean_text'] = preprocessing_dataset(dataset_train['text'].values)"
   ]
  },
  {
   "cell_type": "code",
   "execution_count": 609,
   "id": "70d6fd32",
   "metadata": {},
   "outputs": [
    {
     "data": {
      "text/html": [
       "<div>\n",
       "<style scoped>\n",
       "    .dataframe tbody tr th:only-of-type {\n",
       "        vertical-align: middle;\n",
       "    }\n",
       "\n",
       "    .dataframe tbody tr th {\n",
       "        vertical-align: top;\n",
       "    }\n",
       "\n",
       "    .dataframe thead th {\n",
       "        text-align: right;\n",
       "    }\n",
       "</style>\n",
       "<table border=\"1\" class=\"dataframe\">\n",
       "  <thead>\n",
       "    <tr style=\"text-align: right;\">\n",
       "      <th></th>\n",
       "      <th>text</th>\n",
       "      <th>emotion</th>\n",
       "      <th>label</th>\n",
       "      <th>clean_text</th>\n",
       "    </tr>\n",
       "  </thead>\n",
       "  <tbody>\n",
       "    <tr>\n",
       "      <th>0</th>\n",
       "      <td>i didnt feel humiliated</td>\n",
       "      <td>sadness</td>\n",
       "      <td>0</td>\n",
       "      <td>didnt feel humiliated</td>\n",
       "    </tr>\n",
       "    <tr>\n",
       "      <th>1</th>\n",
       "      <td>i can go from feeling so hopeless to so damned...</td>\n",
       "      <td>sadness</td>\n",
       "      <td>0</td>\n",
       "      <td>feeling hopeless damned hopeful around someone...</td>\n",
       "    </tr>\n",
       "    <tr>\n",
       "      <th>2</th>\n",
       "      <td>im grabbing a minute to post i feel greedy wrong</td>\n",
       "      <td>anger</td>\n",
       "      <td>0</td>\n",
       "      <td>grabbing minute post feel greedy wrong</td>\n",
       "    </tr>\n",
       "    <tr>\n",
       "      <th>3</th>\n",
       "      <td>i am ever feeling nostalgic about the fireplac...</td>\n",
       "      <td>love</td>\n",
       "      <td>1</td>\n",
       "      <td>ever feeling nostalgic fireplace know still pr...</td>\n",
       "    </tr>\n",
       "    <tr>\n",
       "      <th>4</th>\n",
       "      <td>i am feeling grouchy</td>\n",
       "      <td>anger</td>\n",
       "      <td>0</td>\n",
       "      <td>feeling grouchy</td>\n",
       "    </tr>\n",
       "  </tbody>\n",
       "</table>\n",
       "</div>"
      ],
      "text/plain": [
       "                                                text  emotion  label  \\\n",
       "0                            i didnt feel humiliated  sadness      0   \n",
       "1  i can go from feeling so hopeless to so damned...  sadness      0   \n",
       "2   im grabbing a minute to post i feel greedy wrong    anger      0   \n",
       "3  i am ever feeling nostalgic about the fireplac...     love      1   \n",
       "4                               i am feeling grouchy    anger      0   \n",
       "\n",
       "                                          clean_text  \n",
       "0                              didnt feel humiliated  \n",
       "1  feeling hopeless damned hopeful around someone...  \n",
       "2             grabbing minute post feel greedy wrong  \n",
       "3  ever feeling nostalgic fireplace know still pr...  \n",
       "4                                    feeling grouchy  "
      ]
     },
     "execution_count": 609,
     "metadata": {},
     "output_type": "execute_result"
    }
   ],
   "source": [
    "dataset_train.head()"
   ]
  },
  {
   "cell_type": "code",
   "execution_count": 610,
   "id": "fe51ca33",
   "metadata": {},
   "outputs": [],
   "source": [
    "X_train = dataset_train['clean_text']\n",
    "y_train = dataset_train['label']"
   ]
  },
  {
   "attachments": {},
   "cell_type": "markdown",
   "id": "308032de",
   "metadata": {},
   "source": [
    "**dataset test**"
   ]
  },
  {
   "cell_type": "code",
   "execution_count": 611,
   "id": "69aed349",
   "metadata": {
    "execution": {
     "iopub.execute_input": "2023-01-28T23:37:14.405374Z",
     "iopub.status.busy": "2023-01-28T23:37:14.404569Z",
     "iopub.status.idle": "2023-01-28T23:37:15.613310Z",
     "shell.execute_reply": "2023-01-28T23:37:15.612242Z"
    },
    "papermill": {
     "duration": 1.223144,
     "end_time": "2023-01-28T23:37:15.616048",
     "exception": false,
     "start_time": "2023-01-28T23:37:14.392904",
     "status": "completed"
    },
    "tags": []
   },
   "outputs": [],
   "source": [
    "## cleaning the test text\n",
    "dataset_test['clean_text'] = preprocessing_dataset(dataset_test['text'].values)"
   ]
  },
  {
   "cell_type": "code",
   "execution_count": 612,
   "id": "636a27e7",
   "metadata": {
    "execution": {
     "iopub.execute_input": "2023-01-28T23:37:15.638955Z",
     "iopub.status.busy": "2023-01-28T23:37:15.638523Z",
     "iopub.status.idle": "2023-01-28T23:37:15.644673Z",
     "shell.execute_reply": "2023-01-28T23:37:15.643706Z"
    },
    "papermill": {
     "duration": 0.020349,
     "end_time": "2023-01-28T23:37:15.646739",
     "exception": false,
     "start_time": "2023-01-28T23:37:15.626390",
     "status": "completed"
    },
    "tags": []
   },
   "outputs": [
    {
     "data": {
      "text/html": [
       "<div>\n",
       "<style scoped>\n",
       "    .dataframe tbody tr th:only-of-type {\n",
       "        vertical-align: middle;\n",
       "    }\n",
       "\n",
       "    .dataframe tbody tr th {\n",
       "        vertical-align: top;\n",
       "    }\n",
       "\n",
       "    .dataframe thead th {\n",
       "        text-align: right;\n",
       "    }\n",
       "</style>\n",
       "<table border=\"1\" class=\"dataframe\">\n",
       "  <thead>\n",
       "    <tr style=\"text-align: right;\">\n",
       "      <th></th>\n",
       "      <th>text</th>\n",
       "      <th>emotion</th>\n",
       "      <th>label</th>\n",
       "      <th>clean_text</th>\n",
       "    </tr>\n",
       "  </thead>\n",
       "  <tbody>\n",
       "    <tr>\n",
       "      <th>0</th>\n",
       "      <td>im feeling rather rotten so im not very ambiti...</td>\n",
       "      <td>sadness</td>\n",
       "      <td>0</td>\n",
       "      <td>feeling rather rotten not ambitious right</td>\n",
       "    </tr>\n",
       "    <tr>\n",
       "      <th>1</th>\n",
       "      <td>im updating my blog because i feel shitty</td>\n",
       "      <td>sadness</td>\n",
       "      <td>0</td>\n",
       "      <td>updating blog feel shitty</td>\n",
       "    </tr>\n",
       "    <tr>\n",
       "      <th>2</th>\n",
       "      <td>i never make her separate from me because i do...</td>\n",
       "      <td>sadness</td>\n",
       "      <td>0</td>\n",
       "      <td>never make separate don ever want feel like as...</td>\n",
       "    </tr>\n",
       "    <tr>\n",
       "      <th>3</th>\n",
       "      <td>i left with my bouquet of red and yellow tulip...</td>\n",
       "      <td>joy</td>\n",
       "      <td>1</td>\n",
       "      <td>left bouquet red yellow tulip arm feeling slig...</td>\n",
       "    </tr>\n",
       "    <tr>\n",
       "      <th>4</th>\n",
       "      <td>i was feeling a little vain when i did this one</td>\n",
       "      <td>sadness</td>\n",
       "      <td>0</td>\n",
       "      <td>feeling little vain one</td>\n",
       "    </tr>\n",
       "  </tbody>\n",
       "</table>\n",
       "</div>"
      ],
      "text/plain": [
       "                                                text  emotion  label  \\\n",
       "0  im feeling rather rotten so im not very ambiti...  sadness      0   \n",
       "1          im updating my blog because i feel shitty  sadness      0   \n",
       "2  i never make her separate from me because i do...  sadness      0   \n",
       "3  i left with my bouquet of red and yellow tulip...      joy      1   \n",
       "4    i was feeling a little vain when i did this one  sadness      0   \n",
       "\n",
       "                                          clean_text  \n",
       "0          feeling rather rotten not ambitious right  \n",
       "1                          updating blog feel shitty  \n",
       "2  never make separate don ever want feel like as...  \n",
       "3  left bouquet red yellow tulip arm feeling slig...  \n",
       "4                            feeling little vain one  "
      ]
     },
     "execution_count": 612,
     "metadata": {},
     "output_type": "execute_result"
    }
   ],
   "source": [
    "# first 5\n",
    "dataset_test.head()"
   ]
  },
  {
   "cell_type": "code",
   "execution_count": 613,
   "id": "9cbc1d2d",
   "metadata": {},
   "outputs": [
    {
     "data": {
      "text/html": [
       "<div>\n",
       "<style scoped>\n",
       "    .dataframe tbody tr th:only-of-type {\n",
       "        vertical-align: middle;\n",
       "    }\n",
       "\n",
       "    .dataframe tbody tr th {\n",
       "        vertical-align: top;\n",
       "    }\n",
       "\n",
       "    .dataframe thead th {\n",
       "        text-align: right;\n",
       "    }\n",
       "</style>\n",
       "<table border=\"1\" class=\"dataframe\">\n",
       "  <thead>\n",
       "    <tr style=\"text-align: right;\">\n",
       "      <th></th>\n",
       "      <th>text</th>\n",
       "      <th>emotion</th>\n",
       "      <th>label</th>\n",
       "      <th>clean_text</th>\n",
       "    </tr>\n",
       "  </thead>\n",
       "  <tbody>\n",
       "    <tr>\n",
       "      <th>938</th>\n",
       "      <td>i remember feeling thrilled to use my nursing ...</td>\n",
       "      <td>joy</td>\n",
       "      <td>1</td>\n",
       "      <td>remember feeling thrilled use nursing skill re...</td>\n",
       "    </tr>\n",
       "    <tr>\n",
       "      <th>1888</th>\n",
       "      <td>i feel comfortable here there was a huge niche...</td>\n",
       "      <td>joy</td>\n",
       "      <td>1</td>\n",
       "      <td>feel comfortable huge niche market waiting exp...</td>\n",
       "    </tr>\n",
       "    <tr>\n",
       "      <th>1294</th>\n",
       "      <td>i continue to write this i feel more and more ...</td>\n",
       "      <td>fear</td>\n",
       "      <td>0</td>\n",
       "      <td>continue write feel distraught</td>\n",
       "    </tr>\n",
       "    <tr>\n",
       "      <th>339</th>\n",
       "      <td>i feel so worthless and useless these past wee...</td>\n",
       "      <td>sadness</td>\n",
       "      <td>0</td>\n",
       "      <td>feel worthless useless past week certified sta...</td>\n",
       "    </tr>\n",
       "    <tr>\n",
       "      <th>1473</th>\n",
       "      <td>ive also been for a run which im feeling parti...</td>\n",
       "      <td>joy</td>\n",
       "      <td>1</td>\n",
       "      <td>ive also run feeling particularly virtuous</td>\n",
       "    </tr>\n",
       "    <tr>\n",
       "      <th>1913</th>\n",
       "      <td>i feel enraged by the amount of people partici...</td>\n",
       "      <td>anger</td>\n",
       "      <td>0</td>\n",
       "      <td>feel enraged amount people participating chanc...</td>\n",
       "    </tr>\n",
       "    <tr>\n",
       "      <th>148</th>\n",
       "      <td>im feeling reluctant to exit my freshly cleane...</td>\n",
       "      <td>fear</td>\n",
       "      <td>0</td>\n",
       "      <td>feeling reluctant exit freshly cleaned apartme...</td>\n",
       "    </tr>\n",
       "    <tr>\n",
       "      <th>227</th>\n",
       "      <td>i feel like i cant be respected if i have self...</td>\n",
       "      <td>joy</td>\n",
       "      <td>1</td>\n",
       "      <td>feel like cant respected self respect regular ...</td>\n",
       "    </tr>\n",
       "    <tr>\n",
       "      <th>1475</th>\n",
       "      <td>i did feel things it was often just repressed ...</td>\n",
       "      <td>sadness</td>\n",
       "      <td>0</td>\n",
       "      <td>feel thing often repressed fear anxiety distrust</td>\n",
       "    </tr>\n",
       "    <tr>\n",
       "      <th>1828</th>\n",
       "      <td>im feeling weepy already</td>\n",
       "      <td>sadness</td>\n",
       "      <td>0</td>\n",
       "      <td>feeling weepy already</td>\n",
       "    </tr>\n",
       "  </tbody>\n",
       "</table>\n",
       "</div>"
      ],
      "text/plain": [
       "                                                   text  emotion  label  \\\n",
       "938   i remember feeling thrilled to use my nursing ...      joy      1   \n",
       "1888  i feel comfortable here there was a huge niche...      joy      1   \n",
       "1294  i continue to write this i feel more and more ...     fear      0   \n",
       "339   i feel so worthless and useless these past wee...  sadness      0   \n",
       "1473  ive also been for a run which im feeling parti...      joy      1   \n",
       "1913  i feel enraged by the amount of people partici...    anger      0   \n",
       "148   im feeling reluctant to exit my freshly cleane...     fear      0   \n",
       "227   i feel like i cant be respected if i have self...      joy      1   \n",
       "1475  i did feel things it was often just repressed ...  sadness      0   \n",
       "1828                           im feeling weepy already  sadness      0   \n",
       "\n",
       "                                             clean_text  \n",
       "938   remember feeling thrilled use nursing skill re...  \n",
       "1888  feel comfortable huge niche market waiting exp...  \n",
       "1294                     continue write feel distraught  \n",
       "339   feel worthless useless past week certified sta...  \n",
       "1473         ive also run feeling particularly virtuous  \n",
       "1913  feel enraged amount people participating chanc...  \n",
       "148   feeling reluctant exit freshly cleaned apartme...  \n",
       "227   feel like cant respected self respect regular ...  \n",
       "1475   feel thing often repressed fear anxiety distrust  \n",
       "1828                              feeling weepy already  "
      ]
     },
     "execution_count": 613,
     "metadata": {},
     "output_type": "execute_result"
    }
   ],
   "source": [
    "# random 10\n",
    "dataset_test.sample(10)"
   ]
  },
  {
   "cell_type": "code",
   "execution_count": 614,
   "id": "87ae27dd",
   "metadata": {},
   "outputs": [],
   "source": [
    "X_test = dataset_test['clean_text']\n",
    "y_test = dataset_test['label']"
   ]
  },
  {
   "attachments": {},
   "cell_type": "markdown",
   "id": "4b3577f1",
   "metadata": {
    "papermill": {
     "duration": 0.01003,
     "end_time": "2023-01-28T23:37:16.405924",
     "exception": false,
     "start_time": "2023-01-28T23:37:16.395894",
     "status": "completed"
    },
    "tags": []
   },
   "source": [
    "# Part 3 - Build Pipline"
   ]
  },
  {
   "attachments": {},
   "cell_type": "markdown",
   "id": "5c8b6047",
   "metadata": {},
   "source": [
    "+ **Build the pipeline**\n",
    "\n",
    "    - makes it easier to train and evaluate the model\n",
    "\n",
    "    - which allows you to reuse same preprocessing \n",
    "    \n",
    "    - reuse same modeling steps on new data  \n",
    "    \n",
    "    - without retrain the preprocessing steps"
   ]
  },
  {
   "cell_type": "code",
   "execution_count": 615,
   "id": "3a856215",
   "metadata": {},
   "outputs": [],
   "source": [
    "from sklearn.pipeline import Pipeline"
   ]
  },
  {
   "attachments": {},
   "cell_type": "markdown",
   "id": "8effc741",
   "metadata": {},
   "source": [
    "+ **Term Frequency Inverse Document Frequency (TFIDF)**\n",
    "\n",
    "    + We can perform feature extraction using the TfidfVectorizer class from the scikit-learn library.\n",
    "    \n",
    "    + gives less importance to common words and more importance to rare words that appear in a few documents. "
   ]
  },
  {
   "cell_type": "code",
   "execution_count": 616,
   "id": "a8c670a9",
   "metadata": {},
   "outputs": [],
   "source": [
    "from sklearn.feature_extraction.text import TfidfVectorizer"
   ]
  },
  {
   "attachments": {},
   "cell_type": "markdown",
   "id": "f5c6b272",
   "metadata": {},
   "source": [
    "+ **Naive bayes classifier**\n",
    "\n",
    "    + we can perform traning for model using Naive bayes classifier which is fast and simple."
   ]
  },
  {
   "cell_type": "code",
   "execution_count": 617,
   "id": "1d989972",
   "metadata": {},
   "outputs": [],
   "source": [
    "from sklearn.naive_bayes import MultinomialNB"
   ]
  },
  {
   "attachments": {},
   "cell_type": "markdown",
   "id": "43e791c8",
   "metadata": {},
   "source": [
    "**define pipeline with the TfidfVectorizer and Naive Bayes classifier**"
   ]
  },
  {
   "cell_type": "code",
   "execution_count": 618,
   "id": "b20ebefe",
   "metadata": {},
   "outputs": [],
   "source": [
    "pipeline = Pipeline([\n",
    "    ('tfidf', TfidfVectorizer()),\n",
    "    ('nb', MultinomialNB())\n",
    "])"
   ]
  },
  {
   "attachments": {},
   "cell_type": "markdown",
   "id": "9041d095",
   "metadata": {},
   "source": [
    "+ **randomized search**\n",
    "\n",
    "    - help improve the model's performance by finding the best hyperparameters for the TFIDF and Naive Bayes."
   ]
  },
  {
   "cell_type": "code",
   "execution_count": 619,
   "id": "783a3a74",
   "metadata": {},
   "outputs": [],
   "source": [
    "from sklearn.model_selection import RandomizedSearchCV"
   ]
  },
  {
   "attachments": {},
   "cell_type": "markdown",
   "id": "1872dd5b",
   "metadata": {},
   "source": [
    "**define new parameters with different values to get the best hyperparameters**"
   ]
  },
  {
   "cell_type": "code",
   "execution_count": 620,
   "id": "d15727a7",
   "metadata": {},
   "outputs": [],
   "source": [
    "params = {\n",
    "    # determines the range of n-grams to be used for tokenization.\n",
    "    # (1, 2) consider unigrams and bigrams\n",
    "    'tfidf__ngram_range': [(1, 1), (1, 2), (2, 2)],\n",
    "    # minimum document frequency of a term in the corpus\n",
    "    # increasing the value of \"max_df\" to exclude terms that appear too frequently in the corpus.\n",
    "    'tfidf__max_df': [0.5, 0.75, 1.0],\n",
    "    # maximum document frequency of a term in the corpus\n",
    "    # decreasing the value of \"min_df\" to allow more terms to be included,\n",
    "    'tfidf__min_df': [1, 2, 3],\n",
    "    'nb__alpha': [0.1, 0.5, 1.0]\n",
    "}"
   ]
  },
  {
   "attachments": {},
   "cell_type": "markdown",
   "id": "1403f88b",
   "metadata": {},
   "source": [
    "**define randomized search**"
   ]
  },
  {
   "cell_type": "code",
   "execution_count": 621,
   "id": "93002487",
   "metadata": {},
   "outputs": [],
   "source": [
    "random_search = RandomizedSearchCV(pipeline,\n",
    "                                   param_distributions=params,# parameters grid  \n",
    "                                   n_iter=20,# number of iteration\n",
    "                                   cv=5)# Cross-validation to evaluate the model's performance\n"
   ]
  },
  {
   "attachments": {},
   "cell_type": "markdown",
   "id": "f5cf78c9",
   "metadata": {},
   "source": [
    "**fit randomized search on training data and labels.**"
   ]
  },
  {
   "cell_type": "code",
   "execution_count": 622,
   "id": "85b5ce14",
   "metadata": {},
   "outputs": [
    {
     "data": {
      "text/plain": [
       "RandomizedSearchCV(cv=5,\n",
       "                   estimator=Pipeline(steps=[('tfidf', TfidfVectorizer()),\n",
       "                                             ('nb', MultinomialNB())]),\n",
       "                   n_iter=20,\n",
       "                   param_distributions={'nb__alpha': [0.1, 0.5, 1.0],\n",
       "                                        'tfidf__max_df': [0.5, 0.75, 1.0],\n",
       "                                        'tfidf__min_df': [1, 2, 3],\n",
       "                                        'tfidf__ngram_range': [(1, 1), (1, 2),\n",
       "                                                               (2, 2)]})"
      ]
     },
     "execution_count": 622,
     "metadata": {},
     "output_type": "execute_result"
    }
   ],
   "source": [
    "random_search.fit(X_train, y_train)"
   ]
  },
  {
   "attachments": {},
   "cell_type": "markdown",
   "id": "1e58cff5",
   "metadata": {},
   "source": [
    "+ **params for number of iteration**"
   ]
  },
  {
   "cell_type": "code",
   "execution_count": 623,
   "id": "d1ef46ed",
   "metadata": {},
   "outputs": [
    {
     "data": {
      "text/html": [
       "<div>\n",
       "<style scoped>\n",
       "    .dataframe tbody tr th:only-of-type {\n",
       "        vertical-align: middle;\n",
       "    }\n",
       "\n",
       "    .dataframe tbody tr th {\n",
       "        vertical-align: top;\n",
       "    }\n",
       "\n",
       "    .dataframe thead th {\n",
       "        text-align: right;\n",
       "    }\n",
       "</style>\n",
       "<table border=\"1\" class=\"dataframe\">\n",
       "  <thead>\n",
       "    <tr style=\"text-align: right;\">\n",
       "      <th></th>\n",
       "      <th>params</th>\n",
       "    </tr>\n",
       "  </thead>\n",
       "  <tbody>\n",
       "    <tr>\n",
       "      <th>0</th>\n",
       "      <td>{'tfidf__ngram_range': (2, 2), 'tfidf__min_df'...</td>\n",
       "    </tr>\n",
       "    <tr>\n",
       "      <th>1</th>\n",
       "      <td>{'tfidf__ngram_range': (1, 2), 'tfidf__min_df'...</td>\n",
       "    </tr>\n",
       "    <tr>\n",
       "      <th>2</th>\n",
       "      <td>{'tfidf__ngram_range': (1, 1), 'tfidf__min_df'...</td>\n",
       "    </tr>\n",
       "    <tr>\n",
       "      <th>3</th>\n",
       "      <td>{'tfidf__ngram_range': (2, 2), 'tfidf__min_df'...</td>\n",
       "    </tr>\n",
       "    <tr>\n",
       "      <th>4</th>\n",
       "      <td>{'tfidf__ngram_range': (1, 2), 'tfidf__min_df'...</td>\n",
       "    </tr>\n",
       "    <tr>\n",
       "      <th>5</th>\n",
       "      <td>{'tfidf__ngram_range': (1, 2), 'tfidf__min_df'...</td>\n",
       "    </tr>\n",
       "    <tr>\n",
       "      <th>6</th>\n",
       "      <td>{'tfidf__ngram_range': (1, 1), 'tfidf__min_df'...</td>\n",
       "    </tr>\n",
       "    <tr>\n",
       "      <th>7</th>\n",
       "      <td>{'tfidf__ngram_range': (1, 1), 'tfidf__min_df'...</td>\n",
       "    </tr>\n",
       "    <tr>\n",
       "      <th>8</th>\n",
       "      <td>{'tfidf__ngram_range': (2, 2), 'tfidf__min_df'...</td>\n",
       "    </tr>\n",
       "    <tr>\n",
       "      <th>9</th>\n",
       "      <td>{'tfidf__ngram_range': (2, 2), 'tfidf__min_df'...</td>\n",
       "    </tr>\n",
       "    <tr>\n",
       "      <th>10</th>\n",
       "      <td>{'tfidf__ngram_range': (1, 1), 'tfidf__min_df'...</td>\n",
       "    </tr>\n",
       "    <tr>\n",
       "      <th>11</th>\n",
       "      <td>{'tfidf__ngram_range': (1, 1), 'tfidf__min_df'...</td>\n",
       "    </tr>\n",
       "    <tr>\n",
       "      <th>12</th>\n",
       "      <td>{'tfidf__ngram_range': (2, 2), 'tfidf__min_df'...</td>\n",
       "    </tr>\n",
       "    <tr>\n",
       "      <th>13</th>\n",
       "      <td>{'tfidf__ngram_range': (1, 1), 'tfidf__min_df'...</td>\n",
       "    </tr>\n",
       "    <tr>\n",
       "      <th>14</th>\n",
       "      <td>{'tfidf__ngram_range': (1, 1), 'tfidf__min_df'...</td>\n",
       "    </tr>\n",
       "    <tr>\n",
       "      <th>15</th>\n",
       "      <td>{'tfidf__ngram_range': (1, 1), 'tfidf__min_df'...</td>\n",
       "    </tr>\n",
       "    <tr>\n",
       "      <th>16</th>\n",
       "      <td>{'tfidf__ngram_range': (2, 2), 'tfidf__min_df'...</td>\n",
       "    </tr>\n",
       "    <tr>\n",
       "      <th>17</th>\n",
       "      <td>{'tfidf__ngram_range': (2, 2), 'tfidf__min_df'...</td>\n",
       "    </tr>\n",
       "    <tr>\n",
       "      <th>18</th>\n",
       "      <td>{'tfidf__ngram_range': (1, 2), 'tfidf__min_df'...</td>\n",
       "    </tr>\n",
       "    <tr>\n",
       "      <th>19</th>\n",
       "      <td>{'tfidf__ngram_range': (2, 2), 'tfidf__min_df'...</td>\n",
       "    </tr>\n",
       "  </tbody>\n",
       "</table>\n",
       "</div>"
      ],
      "text/plain": [
       "                                               params\n",
       "0   {'tfidf__ngram_range': (2, 2), 'tfidf__min_df'...\n",
       "1   {'tfidf__ngram_range': (1, 2), 'tfidf__min_df'...\n",
       "2   {'tfidf__ngram_range': (1, 1), 'tfidf__min_df'...\n",
       "3   {'tfidf__ngram_range': (2, 2), 'tfidf__min_df'...\n",
       "4   {'tfidf__ngram_range': (1, 2), 'tfidf__min_df'...\n",
       "5   {'tfidf__ngram_range': (1, 2), 'tfidf__min_df'...\n",
       "6   {'tfidf__ngram_range': (1, 1), 'tfidf__min_df'...\n",
       "7   {'tfidf__ngram_range': (1, 1), 'tfidf__min_df'...\n",
       "8   {'tfidf__ngram_range': (2, 2), 'tfidf__min_df'...\n",
       "9   {'tfidf__ngram_range': (2, 2), 'tfidf__min_df'...\n",
       "10  {'tfidf__ngram_range': (1, 1), 'tfidf__min_df'...\n",
       "11  {'tfidf__ngram_range': (1, 1), 'tfidf__min_df'...\n",
       "12  {'tfidf__ngram_range': (2, 2), 'tfidf__min_df'...\n",
       "13  {'tfidf__ngram_range': (1, 1), 'tfidf__min_df'...\n",
       "14  {'tfidf__ngram_range': (1, 1), 'tfidf__min_df'...\n",
       "15  {'tfidf__ngram_range': (1, 1), 'tfidf__min_df'...\n",
       "16  {'tfidf__ngram_range': (2, 2), 'tfidf__min_df'...\n",
       "17  {'tfidf__ngram_range': (2, 2), 'tfidf__min_df'...\n",
       "18  {'tfidf__ngram_range': (1, 2), 'tfidf__min_df'...\n",
       "19  {'tfidf__ngram_range': (2, 2), 'tfidf__min_df'..."
      ]
     },
     "execution_count": 623,
     "metadata": {},
     "output_type": "execute_result"
    }
   ],
   "source": [
    "pd.DataFrame(random_search.cv_results_)[[\"params\"]]"
   ]
  },
  {
   "attachments": {},
   "cell_type": "markdown",
   "id": "3d305c76",
   "metadata": {},
   "source": [
    "+ **best hyperparameters and score**\n",
    "\n",
    "    - by the random search object can be accessed using: \n",
    "\n",
    "    - the best_params_ attribute\n",
    "\n",
    "    - The best_score_ attribute "
   ]
  },
  {
   "cell_type": "code",
   "execution_count": 624,
   "id": "781176eb",
   "metadata": {},
   "outputs": [
    {
     "name": "stdout",
     "output_type": "stream",
     "text": [
      "Best parameters: {'tfidf__ngram_range': (1, 2), 'tfidf__min_df': 3, 'tfidf__max_df': 0.75, 'nb__alpha': 0.5}\n",
      "Best score: 95%\n"
     ]
    }
   ],
   "source": [
    "print(f\"Best parameters: {random_search.best_params_}\")\n",
    "print(f\"Best score: {round(random_search.best_score_*100)}%\")"
   ]
  },
  {
   "attachments": {},
   "cell_type": "markdown",
   "id": "cb3a2234",
   "metadata": {},
   "source": [
    "# Part 4 - Traning machine learning model\n",
    "+ we can train the Naive Bayes model on the training data and labels \n",
    "using the pipeline with the best hyperparameters."
   ]
  },
  {
   "cell_type": "code",
   "execution_count": 625,
   "id": "334e9141",
   "metadata": {},
   "outputs": [
    {
     "data": {
      "text/plain": [
       "Pipeline(steps=[('tfidf',\n",
       "                 TfidfVectorizer(max_df=0.75, min_df=3, ngram_range=(1, 2))),\n",
       "                ('nb', MultinomialNB(alpha=0.5))])"
      ]
     },
     "execution_count": 625,
     "metadata": {},
     "output_type": "execute_result"
    }
   ],
   "source": [
    "best_pipeline = Pipeline([\n",
    "    ('tfidf', TfidfVectorizer(ngram_range=random_search.best_params_['tfidf__ngram_range'], \n",
    "                              max_df=random_search.best_params_['tfidf__max_df'], \n",
    "                              min_df=random_search.best_params_['tfidf__min_df'])),\n",
    "    ('nb', MultinomialNB(alpha=random_search.best_params_['nb__alpha']))\n",
    "])\n",
    "\n",
    "best_pipeline.fit(X_train, y_train)"
   ]
  },
  {
   "attachments": {},
   "cell_type": "markdown",
   "id": "4336b561",
   "metadata": {},
   "source": [
    "**make predictions on test data using the trained model**"
   ]
  },
  {
   "cell_type": "code",
   "execution_count": 626,
   "id": "f89e5cdf",
   "metadata": {
    "execution": {
     "iopub.execute_input": "2023-01-28T23:43:46.036542Z",
     "iopub.status.busy": "2023-01-28T23:43:46.036103Z",
     "iopub.status.idle": "2023-01-28T23:43:46.203227Z",
     "shell.execute_reply": "2023-01-28T23:43:46.201964Z"
    },
    "papermill": {
     "duration": 0.192467,
     "end_time": "2023-01-28T23:43:46.207417",
     "exception": false,
     "start_time": "2023-01-28T23:43:46.014950",
     "status": "completed"
    },
    "tags": []
   },
   "outputs": [],
   "source": [
    "y_pred = best_pipeline.predict(X_test)"
   ]
  },
  {
   "attachments": {},
   "cell_type": "markdown",
   "id": "ae39cf18",
   "metadata": {},
   "source": [
    "# Part 5 - Evaluation"
   ]
  },
  {
   "cell_type": "code",
   "execution_count": 627,
   "id": "51ebca71",
   "metadata": {},
   "outputs": [],
   "source": [
    "from sklearn.metrics import accuracy_score, confusion_matrix\n",
    "from sklearn.metrics import classification_report"
   ]
  },
  {
   "attachments": {},
   "cell_type": "markdown",
   "id": "95c6fab3",
   "metadata": {},
   "source": [
    "**accuracy score**"
   ]
  },
  {
   "cell_type": "code",
   "execution_count": 628,
   "id": "f05d3848",
   "metadata": {},
   "outputs": [
    {
     "name": "stdout",
     "output_type": "stream",
     "text": [
      "Accuracy: 95%\n"
     ]
    }
   ],
   "source": [
    "# compute accuracy score with y-test and y-predictions\n",
    "# number of correct predictions divided by the total number of predictions.\n",
    "\n",
    "accuracy = accuracy_score(y_test, y_pred)\n",
    "print(f\"Accuracy: {round(accuracy*100)}%\")"
   ]
  },
  {
   "attachments": {},
   "cell_type": "markdown",
   "id": "5d0eb9e9",
   "metadata": {},
   "source": [
    "+ **classification_report**\n",
    "\n",
    "    - helps evalute the performance of a classification model by providing metrics such as \n",
    "    \n",
    "    - **precision**: calculated as the ratio of true positive predictions to the total predicted positive and avoid false positives.\n",
    "    \n",
    "    - **recall**: calculated as the ratio of true positive predictions to the total predicted positive and avoid false negatives\n",
    "    \n",
    "    - **F1-score**: harmonic mean of precision and recall\n",
    "    \n",
    "    - **support**: number of samples in class"
   ]
  },
  {
   "cell_type": "code",
   "execution_count": 629,
   "id": "8f764db8",
   "metadata": {},
   "outputs": [
    {
     "name": "stdout",
     "output_type": "stream",
     "text": [
      "              precision    recall  f1-score   support\n",
      "\n",
      "           0       0.95      0.97      0.96      1080\n",
      "           1       0.96      0.94      0.95       920\n",
      "\n",
      "    accuracy                           0.95      2000\n",
      "   macro avg       0.95      0.95      0.95      2000\n",
      "weighted avg       0.95      0.95      0.95      2000\n",
      "\n"
     ]
    }
   ],
   "source": [
    "print(classification_report(y_test, y_pred))"
   ]
  },
  {
   "attachments": {},
   "cell_type": "markdown",
   "id": "b8f437ef",
   "metadata": {},
   "source": [
    "+ **Confusion matrix** Table that shows the \n",
    "\n",
    "    - true positive     - true negative\n",
    "\n",
    "    - false positive    - false negative\n",
    "\n",
    "    - values to predict actual values and create heatmap"
   ]
  },
  {
   "cell_type": "code",
   "execution_count": 630,
   "id": "d694f71b",
   "metadata": {},
   "outputs": [
    {
     "name": "stdout",
     "output_type": "stream",
     "text": [
      "Confusion Matrix:\n",
      " [[1043   37]\n",
      " [  55  865]]\n"
     ]
    }
   ],
   "source": [
    "cm = confusion_matrix(y_test, y_pred)\n",
    "print(\"Confusion Matrix:\\n\", cm)"
   ]
  },
  {
   "attachments": {},
   "cell_type": "markdown",
   "id": "147c6f44",
   "metadata": {},
   "source": [
    "# Part 6 - Visualization"
   ]
  },
  {
   "attachments": {},
   "cell_type": "markdown",
   "id": "045097e3",
   "metadata": {},
   "source": [
    "**Heatmap of the confusion matrix**"
   ]
  },
  {
   "cell_type": "code",
   "execution_count": 631,
   "id": "818c5fbf",
   "metadata": {},
   "outputs": [
    {
     "data": {
      "image/png": "[encoded data removed]",
      "text/plain": [
       "<Figure size 1000x1000 with 2 Axes>"
      ]
     },
     "metadata": {},
     "output_type": "display_data"
    }
   ],
   "source": [
    "plt.figure(figsize = (10,10))\n",
    "labels = ['sad', 'happy']\n",
    "sns.heatmap(cm, \n",
    "            xticklabels=labels, \n",
    "            yticklabels=labels, \n",
    "            annot=True, \n",
    "            cmap='Blues', \n",
    "            fmt='g')\n",
    "plt.xlabel('Predicted')\n",
    "plt.ylabel('True')\n",
    "plt.show()"
   ]
  },
  {
   "attachments": {},
   "cell_type": "markdown",
   "id": "7a3f27fb",
   "metadata": {},
   "source": [
    "# Part 7 - Save the pipline\n",
    "+ joblib\n",
    "    - to reuse the same preprocessing steps and classifier on new data \n",
    "    - without having to redefine them each time.\n"
   ]
  },
  {
   "cell_type": "code",
   "execution_count": 632,
   "id": "a0778cff",
   "metadata": {},
   "outputs": [
    {
     "data": {
      "text/plain": [
       "['pipeline_tfidf_nb.pkl']"
      ]
     },
     "execution_count": 632,
     "metadata": {},
     "output_type": "execute_result"
    }
   ],
   "source": [
    "import joblib\n",
    "joblib.dump(best_pipeline,r'models/pipeline_tfidf_nb_24_may_2023.pkl') "
   ]
  }
 ],
 "metadata": {
  "kernelspec": {
   "display_name": "Python 3",
   "language": "python",
   "name": "python3"
  },
  "language_info": {
   "codemirror_mode": {
    "name": "ipython",
    "version": 3
   },
   "file_extension": ".py",
   "mimetype": "text/x-python",
   "name": "python",
   "nbconvert_exporter": "python",
   "pygments_lexer": "ipython3",
   "version": "3.10.6"
  },
  "papermill": {
   "default_parameters": {},
   "duration": 415.336838,
   "end_time": "2023-01-28T23:43:48.007017",
   "environment_variables": {},
   "exception": null,
   "input_path": "__notebook__.ipynb",
   "output_path": "__notebook__.ipynb",
   "parameters": {},
   "start_time": "2023-01-28T23:36:52.670179",
   "version": "2.3.4"
  }
 },
 "nbformat": 4,
 "nbformat_minor": 5
}
